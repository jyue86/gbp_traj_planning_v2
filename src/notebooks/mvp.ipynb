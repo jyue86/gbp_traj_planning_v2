{
 "cells": [
  {
   "cell_type": "code",
   "execution_count": 24,
   "metadata": {},
   "outputs": [],
   "source": [
    "import jax\n",
    "import jax.numpy as jnp\n",
    "from flax.struct import dataclass"
   ]
  },
  {
   "cell_type": "code",
   "execution_count": 25,
   "metadata": {},
   "outputs": [],
   "source": [
    "@dataclass\n",
    "class Gaussian:\n",
    "    info: jnp.array\n",
    "    precision: jnp.array\n",
    "\n",
    "    def __add__(self, other_gaussian: \"Gaussian\"):\n",
    "        return Gaussian(self.info + other_gaussian.info, self.precision + other_gaussian.precision)\n",
    "    \n",
    "    @property\n",
    "    def mean(self):\n",
    "        return jnp.linalg.inv(self.precision) @ self.info\n",
    "    \n",
    "    @property\n",
    "    def covariance(self):\n",
    "        return jnp.linalg.inv(self.precision)\n",
    "    \n",
    "    @staticmethod\n",
    "    def identity():\n",
    "        return Gaussian(jnp.zeros(4), jnp.eye(4))\n",
    "\n",
    "def add_one_to_info(g: Gaussian) -> Gaussian:\n",
    "    other_gaussian = Gaussian(jnp.ones((4,)), jnp.zeros((4,4)))\n",
    "    return g + other_gaussian\n",
    "\n",
    "def add_one_to_precision(g: Gaussian) -> Gaussian:\n",
    "    other_gaussian = Gaussian(jnp.zeros((4,)), jnp.ones((4,4)))\n",
    "    return g + other_gaussian\n",
    "\n",
    "batch_add_info = jax.vmap(add_one_to_info)\n",
    "batch_add_precision = jax.vmap(add_one_to_precision)"
   ]
  },
  {
   "cell_type": "code",
   "execution_count": 3,
   "metadata": {},
   "outputs": [
    {
     "name": "stdout",
     "output_type": "stream",
     "text": [
      "Gaussian(info=Array([[2., 2., 2., 2.],\n",
      "       [2., 2., 2., 2.]], dtype=float32), precision=Array([[[1., 0., 0., 0.],\n",
      "        [0., 1., 0., 0.],\n",
      "        [0., 0., 1., 0.],\n",
      "        [0., 0., 0., 1.]],\n",
      "\n",
      "       [[1., 0., 0., 0.],\n",
      "        [0., 1., 0., 0.],\n",
      "        [0., 0., 1., 0.],\n",
      "        [0., 0., 0., 1.]]], dtype=float32))\n",
      "Gaussian(info=Array([[1., 1., 1., 1.],\n",
      "       [1., 1., 1., 1.]], dtype=float32), precision=Array([[[2., 1., 1., 1.],\n",
      "        [1., 2., 1., 1.],\n",
      "        [1., 1., 2., 1.],\n",
      "        [1., 1., 1., 2.]],\n",
      "\n",
      "       [[2., 1., 1., 1.],\n",
      "        [1., 2., 1., 1.],\n",
      "        [1., 1., 2., 1.],\n",
      "        [1., 1., 1., 2.]]], dtype=float32))\n"
     ]
    }
   ],
   "source": [
    "g = Gaussian(jnp.ones((2,4)), jnp.stack((jnp.eye(4), jnp.eye(4))))\n",
    "jax.debug.print(\"{}\", batch_add_info(g))\n",
    "jax.debug.print(\"{}\", batch_add_precision(g))"
   ]
  },
  {
   "cell_type": "code",
   "execution_count": 6,
   "metadata": {},
   "outputs": [],
   "source": [
    "N_STATES = 4\n",
    "POSE_NOISE = 1e-15\n",
    "DYNAMICS_NOISE = 0.005\n",
    "OBSTACLE_NOISE = 0.005"
   ]
  },
  {
   "cell_type": "code",
   "execution_count": 26,
   "metadata": {},
   "outputs": [],
   "source": [
    "from abc import abstractmethod\n",
    "\n",
    "class Factor(Gaussian):\n",
    "    def __init__(self, state: jnp.array, precision: jnp.array, linear:bool=True):\n",
    "        self.linear = linear \n",
    "        super().__init__(self._calc_info(state, precision), self._calc_precision(state, precision))\n",
    "    \n",
    "    @abstractmethod\n",
    "    def _calc_measurement(self, state):\n",
    "        pass\n",
    "\n",
    "    def _calc_info(self, state, precision):\n",
    "        X = state\n",
    "        if self.linear:\n",
    "            eta = precision @ (jnp.zeros(N_STATES) - self._calc_measurement(state))\n",
    "        else:\n",
    "            J = jax.jacfwd(self._calc_measurement)(state)\n",
    "            eta = (J.T @ precision) @ (J @ X + jnp.zeros((X.shape[0], 1)) - self.calc_measurement(state))\n",
    "        return eta\n",
    "    \n",
    "    def _calc_precision(self, state, precision):\n",
    "        if self.linear:\n",
    "            return precision\n",
    "        else:\n",
    "            J = jax.jacfwd(self._calc_measurement)(state)\n",
    "            return J.T @ precision @ J\n",
    "\n",
    "class PoseFactor(Factor):\n",
    "    def __init__(self, state: jnp.array):\n",
    "        precision = jnp.pow(POSE_NOISE, -2) * jnp.eye(N_STATES)\n",
    "        super(PoseFactor, self).__init__(state, precision)\n",
    "    \n",
    "    def _calc_measurement(self, state):\n",
    "        return state"
   ]
  },
  {
   "cell_type": "code",
   "execution_count": 27,
   "metadata": {},
   "outputs": [
    {
     "data": {
      "text/plain": [
       "Array([5. , 0. , 0.5, 0. ], dtype=float32)"
      ]
     },
     "execution_count": 27,
     "metadata": {},
     "output_type": "execute_result"
    }
   ],
   "source": [
    "pose_factor = PoseFactor(jnp.array([-5, 0, -0.5, 0]))\n",
    "pose_factor.mean"
   ]
  },
  {
   "cell_type": "code",
   "execution_count": null,
   "metadata": {},
   "outputs": [],
   "source": [
    "class DynamicsFactor(Factor):\n",
    "    def __init__(\n",
    "        self,\n",
    "        delta_t: float\n",
    "    ) -> None:\n",
    "        self.delta_t = delta_t\n",
    "        process_covariance = DYNAMICS_NOISE * jnp.eye(N_STATES//2)\n",
    "        top_half = jnp.hstack(\n",
    "            (\n",
    "                self.delta_t**3 * process_covariance / 3,\n",
    "                self.delta_t**2 * process_covariance / 2,\n",
    "            )\n",
    "        )\n",
    "        bottom_half = jnp.hstack(\n",
    "            (\n",
    "                self.delta_t**2 * process_covariance / 2,\n",
    "                self.delta_t * process_covariance,\n",
    "            )\n",
    "        )\n",
    "        precision = jnp.vstack((top_half, bottom_half))\n",
    "        precision = jnp.linalg.inv(precision)\n",
    "        super(DynamicsFactor, self).__init__(precision)\n",
    "\n",
    "        self.state_transition = jnp.eye(4)\n",
    "        self.state_transition = self.state_transition.at[0:2,2:] * self.delta_t\n",
    "\n",
    "    def calc_measurement(self, state: jnp.array):\n",
    "        prev_state = state[0:4]\n",
    "        current_state = state[4:]\n",
    "        return self.state_transition @ prev_state - current_state"
   ]
  }
 ],
 "metadata": {
  "kernelspec": {
   "display_name": ".venv",
   "language": "python",
   "name": "python3"
  },
  "language_info": {
   "codemirror_mode": {
    "name": "ipython",
    "version": 3
   },
   "file_extension": ".py",
   "mimetype": "text/x-python",
   "name": "python",
   "nbconvert_exporter": "python",
   "pygments_lexer": "ipython3",
   "version": "3.10.12"
  }
 },
 "nbformat": 4,
 "nbformat_minor": 2
}
