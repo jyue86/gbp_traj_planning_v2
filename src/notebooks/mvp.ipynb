{
 "cells": [
  {
   "cell_type": "code",
   "execution_count": 24,
   "metadata": {},
   "outputs": [],
   "source": [
    "import jax\n",
    "import jax.numpy as jnp\n",
    "from flax.struct import dataclass"
   ]
  },
  {
   "cell_type": "code",
   "execution_count": 25,
   "metadata": {},
   "outputs": [],
   "source": [
    "@dataclass\n",
    "class Gaussian:\n",
    "    info: jnp.array\n",
    "    precision: jnp.array\n",
    "\n",
    "    def __add__(self, other_gaussian: \"Gaussian\"):\n",
    "        return Gaussian(self.info + other_gaussian.info, self.precision + other_gaussian.precision)\n",
    "    \n",
    "    @property\n",
    "    def mean(self):\n",
    "        return jnp.linalg.inv(self.precision) @ self.info\n",
    "    \n",
    "    @property\n",
    "    def covariance(self):\n",
    "        return jnp.linalg.inv(self.precision)\n",
    "    \n",
    "    @staticmethod\n",
    "    def identity():\n",
    "        return Gaussian(jnp.zeros(4), jnp.eye(4))\n",
    "\n",
    "def add_one_to_info(g: Gaussian) -> Gaussian:\n",
    "    other_gaussian = Gaussian(jnp.ones((4,)), jnp.zeros((4,4)))\n",
    "    return g + other_gaussian\n",
    "\n",
    "def add_one_to_precision(g: Gaussian) -> Gaussian:\n",
    "    other_gaussian = Gaussian(jnp.zeros((4,)), jnp.ones((4,4)))\n",
    "    return g + other_gaussian\n",
    "\n",
    "batch_add_info = jax.vmap(add_one_to_info)\n",
    "batch_add_precision = jax.vmap(add_one_to_precision)"
   ]
  },
  {
   "cell_type": "code",
   "execution_count": 3,
   "metadata": {},
   "outputs": [
    {
     "name": "stdout",
     "output_type": "stream",
     "text": [
      "Gaussian(info=Array([[2., 2., 2., 2.],\n",
      "       [2., 2., 2., 2.]], dtype=float32), precision=Array([[[1., 0., 0., 0.],\n",
      "        [0., 1., 0., 0.],\n",
      "        [0., 0., 1., 0.],\n",
      "        [0., 0., 0., 1.]],\n",
      "\n",
      "       [[1., 0., 0., 0.],\n",
      "        [0., 1., 0., 0.],\n",
      "        [0., 0., 1., 0.],\n",
      "        [0., 0., 0., 1.]]], dtype=float32))\n",
      "Gaussian(info=Array([[1., 1., 1., 1.],\n",
      "       [1., 1., 1., 1.]], dtype=float32), precision=Array([[[2., 1., 1., 1.],\n",
      "        [1., 2., 1., 1.],\n",
      "        [1., 1., 2., 1.],\n",
      "        [1., 1., 1., 2.]],\n",
      "\n",
      "       [[2., 1., 1., 1.],\n",
      "        [1., 2., 1., 1.],\n",
      "        [1., 1., 2., 1.],\n",
      "        [1., 1., 1., 2.]]], dtype=float32))\n"
     ]
    }
   ],
   "source": [
    "g = Gaussian(jnp.ones((2,4)), jnp.stack((jnp.eye(4), jnp.eye(4))))\n",
    "jax.debug.print(\"{}\", batch_add_info(g))\n",
    "jax.debug.print(\"{}\", batch_add_precision(g))"
   ]
  },
  {
   "cell_type": "code",
   "execution_count": 64,
   "metadata": {},
   "outputs": [
    {
     "name": "stdout",
     "output_type": "stream",
     "text": [
      "(Array(2, dtype=int32, weak_type=True), Array(4, dtype=int32, weak_type=True)), (Array(2, dtype=int32, weak_type=True), Array(4, dtype=int32, weak_type=True), Array(4, dtype=int32, weak_type=True))\n"
     ]
    }
   ],
   "source": [
    "outer_idx = jnp.array([0, -1])\n",
    "dummy_state = jnp.zeros((2, 10, 4))\n",
    "pose_msgs = jax.vmap(jax.vmap(lambda _: Gaussian.identity()))(dummy_state[:,outer_idx])\n",
    "jax.vmap(lambda x: jax.debug.print(\"{}, {}\", x.info.shape, x.precision.shape))(pose_msgs)"
   ]
  },
  {
   "cell_type": "code",
   "execution_count": 6,
   "metadata": {},
   "outputs": [],
   "source": [
    "N_STATES = 4\n",
    "POSE_NOISE = 1e-15\n",
    "DYNAMICS_NOISE = 0.005\n",
    "OBSTACLE_NOISE = 0.005"
   ]
  },
  {
   "cell_type": "code",
   "execution_count": 138,
   "metadata": {},
   "outputs": [],
   "source": [
    "from abc import abstractmethod\n",
    "\n",
    "class Factor:\n",
    "    def __init__(\n",
    "        self, state: jnp.array, state_precision: jnp.array, linear: bool = True\n",
    "    ) -> None:\n",
    "        self._state = state\n",
    "        self._state_precision = state_precision\n",
    "        self._linear = linear\n",
    "\n",
    "    def calculate_likelihood(self) -> Gaussian:\n",
    "        return Gaussian(\n",
    "            self._calc_info(self._state, self._state_precision),\n",
    "            self._calc_precision(self._state, self._state_precision),\n",
    "        )\n",
    "\n",
    "    @abstractmethod\n",
    "    def _calc_measurement(self, state: jnp.array) -> jnp.array:\n",
    "        pass\n",
    "\n",
    "    def _calc_info(self, state: jnp.array, precision: jnp.array) -> jnp.array:\n",
    "        X = state\n",
    "        if self._linear:\n",
    "            eta = precision @ (jnp.zeros(N_STATES) - self._calc_measurement(state))\n",
    "        else:\n",
    "            J = jax.jacfwd(self._calc_measurement)(state)\n",
    "            eta = (J.T @ precision) @ (\n",
    "                J @ X + jnp.zeros((X.shape[0], 1)) - self.calc_measurement(state)\n",
    "            )\n",
    "        return eta\n",
    "\n",
    "    def _calc_precision(self, state: jnp.array, precision: jnp.array) -> jnp.array:\n",
    "        if self._linear:\n",
    "            return precision\n",
    "        else:\n",
    "            J = jax.jacfwd(self._calc_measurement)(state)\n",
    "            return J.T @ precision @ J\n",
    "\n",
    "\n",
    "class PoseFactor(Factor):\n",
    "    def __init__(self, state: jnp.array) -> None:\n",
    "        precision = jnp.pow(POSE_NOISE, -2) * jnp.eye(N_STATES)\n",
    "        super(PoseFactor, self).__init__(state, precision)\n",
    "\n",
    "    def _calc_measurement(self, state: jnp.array) -> jnp.array:\n",
    "        return state\n",
    "\n",
    "\n",
    "class DynamicsFactor(Factor):\n",
    "    def __init__(self, state: jnp.array, delta_t: float) -> None:\n",
    "        self.delta_t = delta_t\n",
    "        process_covariance = DYNAMICS_NOISE * jnp.eye(N_STATES // 2)\n",
    "        top_half = jnp.hstack(\n",
    "            (\n",
    "                self.delta_t**3 * process_covariance / 3,\n",
    "                self.delta_t**2 * process_covariance / 2,\n",
    "            )\n",
    "        )\n",
    "        bottom_half = jnp.hstack(\n",
    "            (\n",
    "                self.delta_t**2 * process_covariance / 2,\n",
    "                self.delta_t * process_covariance,\n",
    "            )\n",
    "        )\n",
    "        precision = jnp.vstack((top_half, bottom_half))\n",
    "        precision = jnp.linalg.inv(precision)\n",
    "\n",
    "        self.state_transition = jnp.eye(4)\n",
    "        self.state_transition = self.state_transition.at[0:2, 2:].set(\n",
    "            jnp.eye(2) * self.delta_t\n",
    "        )\n",
    "\n",
    "        super(DynamicsFactor, self).__init__(state, precision)\n",
    "\n",
    "    def _calc_measurement(self, state: jnp.array) -> jnp.array:\n",
    "        prev_state = state[0:4]\n",
    "        current_state = state[4:]\n",
    "        return self.state_transition @ prev_state - current_state"
   ]
  },
  {
   "cell_type": "code",
   "execution_count": 139,
   "metadata": {},
   "outputs": [
    {
     "data": {
      "text/plain": [
       "Array([5. , 0. , 0.5, 0. ], dtype=float32)"
      ]
     },
     "execution_count": 139,
     "metadata": {},
     "output_type": "execute_result"
    }
   ],
   "source": [
    "# I think the sign got switched for pose b/c \\eta = \\lambda * (0 - h(x))\n",
    "# see the - before h(x)\n",
    "pose_factor = PoseFactor(jnp.array([-5, 0, -0.5, 0])).calculate_likelihood()\n",
    "pose_factor.mean"
   ]
  },
  {
   "cell_type": "code",
   "execution_count": 141,
   "metadata": {},
   "outputs": [
    {
     "data": {
      "text/plain": [
       "(Array([5.e+30, 0.e+00, 5.e+29, 0.e+00], dtype=float32),\n",
       " Array([5.e+30, 0.e+00, 5.e+29, 0.e+00], dtype=float32))"
      ]
     },
     "execution_count": 141,
     "metadata": {},
     "output_type": "execute_result"
    }
   ],
   "source": [
    "jnp.linalg.inv(pose_factor.covariance) @ pose_factor.mean, pose_factor.info"
   ]
  },
  {
   "cell_type": "code",
   "execution_count": 142,
   "metadata": {},
   "outputs": [
    {
     "data": {
      "text/plain": [
       "Gaussian(info=Array([[5.e+30, 0.e+00, 5.e+29, 0.e+00],\n",
       "       [8.e+30, 0.e+00, 0.e+00, 0.e+00]], dtype=float32), precision=Array([[[1.e+30, 0.e+00, 0.e+00, 0.e+00],\n",
       "        [0.e+00, 1.e+30, 0.e+00, 0.e+00],\n",
       "        [0.e+00, 0.e+00, 1.e+30, 0.e+00],\n",
       "        [0.e+00, 0.e+00, 0.e+00, 1.e+30]],\n",
       "\n",
       "       [[1.e+30, 0.e+00, 0.e+00, 0.e+00],\n",
       "        [0.e+00, 1.e+30, 0.e+00, 0.e+00],\n",
       "        [0.e+00, 0.e+00, 1.e+30, 0.e+00],\n",
       "        [0.e+00, 0.e+00, 0.e+00, 1.e+30]]], dtype=float32))"
      ]
     },
     "execution_count": 142,
     "metadata": {},
     "output_type": "execute_result"
    }
   ],
   "source": [
    "jax.vmap(lambda x: PoseFactor(x).calculate_likelihood())(jnp.array([[-5, 0, -0.5, 0], [-8, 0, 0, 0]]))"
   ]
  },
  {
   "cell_type": "code",
   "execution_count": 143,
   "metadata": {},
   "outputs": [
    {
     "data": {
      "text/plain": [
       "Array([0., 0., 0., 0.], dtype=float32)"
      ]
     },
     "execution_count": 143,
     "metadata": {},
     "output_type": "execute_result"
    }
   ],
   "source": [
    "dyn_factor = DynamicsFactor(jnp.array([5.1, 0, 0.5, 0, 5.2, 0, 0.5, 0]), 0.2).calculate_likelihood()\n",
    "dyn_factor.mean"
   ]
  },
  {
   "cell_type": "code",
   "execution_count": 144,
   "metadata": {},
   "outputs": [
    {
     "data": {
      "text/plain": [
       "Gaussian(info=Array([0., 0., 0., 0.], dtype=float32), precision=Array([[299999.84  ,      0.    , -29999.98  ,      0.    ],\n",
       "       [     0.    , 299999.84  ,      0.    , -29999.98  ],\n",
       "       [-29999.982 ,     -0.    ,   3999.9978,     -0.    ],\n",
       "       [     0.    , -29999.982 ,      0.    ,   3999.9978]],      dtype=float32))"
      ]
     },
     "execution_count": 144,
     "metadata": {},
     "output_type": "execute_result"
    }
   ],
   "source": [
    "dyn_factor"
   ]
  },
  {
   "cell_type": "code",
   "execution_count": 44,
   "metadata": {},
   "outputs": [
    {
     "data": {
      "text/plain": [
       "(Array([3.0000007e-01, 0.0000000e+00, 5.2619725e-07, 0.0000000e+00],      dtype=float32),\n",
       " DynamicsFactor(info=Array([90000.01,     0.  , -9000.  ,     0.  ], dtype=float32), precision=Array([[299999.84  ,      0.    , -29999.98  ,      0.    ],\n",
       "        [     0.    , 299999.84  ,      0.    , -29999.98  ],\n",
       "        [-29999.982 ,     -0.    ,   3999.9978,     -0.    ],\n",
       "        [     0.    , -29999.982 ,      0.    ,   3999.9978]],      dtype=float32)))"
      ]
     },
     "execution_count": 44,
     "metadata": {},
     "output_type": "execute_result"
    }
   ],
   "source": [
    "dyn_factor = DynamicsFactor(jnp.array([5.1, 0, 0.5, 0, 5.5, 0, 0.5, 0]), 0.2)\n",
    "dyn_factor.mean, dyn_factor"
   ]
  },
  {
   "cell_type": "markdown",
   "metadata": {},
   "source": [
    "# Message Passing"
   ]
  },
  {
   "cell_type": "code",
   "execution_count": 96,
   "metadata": {},
   "outputs": [],
   "source": [
    "@dataclass\n",
    "class Var2FacMessages:\n",
    "    poses: jnp.array\n",
    "    dynamics: jnp.array\n",
    "\n",
    "\n",
    "@dataclass\n",
    "class Fac2VarMessages:\n",
    "    poses: jnp.array\n",
    "    dynamics: jnp.array\n",
    "\n",
    "@dataclass\n",
    "class Factors:\n",
    "    poses: PoseFactor\n",
    "    dynamics: DynamicsFactor"
   ]
  },
  {
   "cell_type": "code",
   "execution_count": 97,
   "metadata": {},
   "outputs": [],
   "source": [
    "end_pos = jnp.array([[8.,0.,0.,0.], [-8.,0.,0.,0.]])"
   ]
  },
  {
   "cell_type": "code",
   "execution_count": 90,
   "metadata": {},
   "outputs": [],
   "source": [
    "state_transition = jnp.eye(4)\n",
    "delta_t = 0.2\n",
    "state_transition = state_transition.at[:2,2:].set(jnp.eye(2) * delta_t)\n",
    "\n",
    "current_state1 = jnp.array([5, 0, 0.5, 0]).astype(float)\n",
    "current_state2 = jnp.array([-5, 0, -0.5, 0]).astype(float)\n",
    "state = jnp.stack((current_state1, current_state2))\n",
    "\n",
    "time_horizon = 4\n",
    "@jax.jit\n",
    "def update_init_state(carry: jnp.array, _: int=None):\n",
    "    carry = state_transition @ carry\n",
    "    return carry, carry.T\n",
    "\n",
    "_, states = jax.lax.scan(update_init_state, state.T, length=time_horizon)\n",
    "states = jnp.swapaxes(states, 0, 1)"
   ]
  },
  {
   "cell_type": "code",
   "execution_count": 124,
   "metadata": {},
   "outputs": [],
   "source": [
    "def init_var2fac_msgs():\n",
    "    n_agents = states.shape[0]\n",
    "    time_horizon = states.shape[1]\n",
    "    pose_msgs = jax.vmap(jax.vmap(lambda _: Gaussian.identity()))(\n",
    "        jnp.zeros((n_agents, 2))\n",
    "    )\n",
    "    dynamics_msgs = jax.vmap(jax.vmap(lambda _: Gaussian.identity()))(\n",
    "        jnp.zeros((n_agents, (time_horizon - 1) * 2))\n",
    "    )\n",
    "    return Var2FacMessages(poses=pose_msgs, dynamics=dynamics_msgs)\n",
    "\n",
    "var2fac_msgs = init_var2fac_msgs()"
   ]
  },
  {
   "cell_type": "code",
   "execution_count": 145,
   "metadata": {},
   "outputs": [],
   "source": [
    "delta_t = 0.2\n",
    "def update_factor_likelihoods(states):\n",
    "    def batch_update_factor_likelihoods(agent_states, end_pos):\n",
    "        poses = jax.vmap(lambda x: PoseFactor(x).calculate_likelihood())(jnp.stack((agent_states[0], end_pos)))\n",
    "        agent_state_combos = jnp.hstack((agent_states[0:-1], agent_states[1:]))\n",
    "        dynamics = jax.vmap(lambda x: DynamicsFactor(x, delta_t).calculate_likelihood())(agent_state_combos)\n",
    "        return Factors(poses, dynamics)\n",
    "    return jax.vmap(batch_update_factor_likelihoods)(states, end_pos)\n",
    "\n",
    "factors = update_factor_likelihoods(states)"
   ]
  },
  {
   "cell_type": "code",
   "execution_count": 137,
   "metadata": {},
   "outputs": [
    {
     "data": {
      "text/plain": [
       "(2, 3, 4)"
      ]
     },
     "execution_count": 137,
     "metadata": {},
     "output_type": "execute_result"
    }
   ],
   "source": [
    "factors.dynamics.info.shape"
   ]
  },
  {
   "cell_type": "code",
   "execution_count": 92,
   "metadata": {},
   "outputs": [
    {
     "name": "stdout",
     "output_type": "stream",
     "text": [
      "{}, {} (2, 4) (2, 4, 4)\n",
      "{}, {} (6, 4) (6, 4, 4)\n"
     ]
    },
    {
     "data": {
      "text/plain": [
       "((2, 4, 4), (2, 4, 4, 4))"
      ]
     },
     "execution_count": 92,
     "metadata": {},
     "output_type": "execute_result"
    }
   ],
   "source": [
    "def update_marginals(fac2var_msgs):\n",
    "    print(\"{}, {}\", fac2var_msgs.pose.info.shape, fac2var_msgs.pose.precision.shape)\n",
    "    print(\"{}, {}\", fac2var_msgs.dynamics.info.shape, fac2var_msgs.dynamics.precision.shape)\n",
    "    pose = fac2var_msgs.pose\n",
    "    dynamics = fac2var_msgs.dynamics\n",
    "\n",
    "    outer_info = pose.info[outer_idx] + dynamics.info[outer_idx]\n",
    "    outer_precision = pose.precision[outer_idx] + dynamics.precision[outer_idx]\n",
    "\n",
    "    inner_info = dynamics.info[1:-1:2] + dynamics.info[2:-1:2]\n",
    "    inner_precision = dynamics.precision[1:-1:2] + dynamics.precision[2:-1:2]\n",
    "\n",
    "    return Gaussian(\n",
    "        info=jnp.concat((outer_info[0:1], inner_info, outer_info[-1:])),\n",
    "        precision=jnp.concat((outer_precision[0:1], inner_precision, outer_precision[-1:])),\n",
    "    )\n",
    "\n",
    "marginals = jax.vmap(update_marginals)(var2fac_msgs)\n",
    "marginals.info.shape, marginals.precision.shape"
   ]
  },
  {
   "cell_type": "code",
   "execution_count": null,
   "metadata": {},
   "outputs": [],
   "source": []
  }
 ],
 "metadata": {
  "kernelspec": {
   "display_name": ".venv",
   "language": "python",
   "name": "python3"
  },
  "language_info": {
   "codemirror_mode": {
    "name": "ipython",
    "version": 3
   },
   "file_extension": ".py",
   "mimetype": "text/x-python",
   "name": "python",
   "nbconvert_exporter": "python",
   "pygments_lexer": "ipython3",
   "version": "3.10.12"
  }
 },
 "nbformat": 4,
 "nbformat_minor": 2
}
