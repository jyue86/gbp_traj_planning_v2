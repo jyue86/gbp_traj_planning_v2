{
 "cells": [
  {
   "cell_type": "code",
   "execution_count": 4,
   "metadata": {},
   "outputs": [],
   "source": [
    "import jax\n",
    "import jax.numpy as jnp\n",
    "from flax.struct import dataclass"
   ]
  },
  {
   "cell_type": "code",
   "execution_count": 5,
   "metadata": {},
   "outputs": [],
   "source": [
    "@dataclass\n",
    "class Gaussian:\n",
    "    info: jnp.array\n",
    "    precision: jnp.array\n",
    "\n",
    "    def __add__(self, other_gaussian: \"Gaussian\"):\n",
    "        return Gaussian(self.info + other_gaussian.info, self.precision + other_gaussian.precision)\n",
    "    \n",
    "    @staticmethod\n",
    "    def identity():\n",
    "        return Gaussian(jnp.zeros(4), jnp.eye(4))\n",
    "\n",
    "def add_one_to_info(g: Gaussian) -> Gaussian:\n",
    "    other_gaussian = Gaussian(jnp.ones((4,)), jnp.zeros((4,4)))\n",
    "    return g + other_gaussian\n",
    "\n",
    "def add_one_to_precision(g: Gaussian) -> Gaussian:\n",
    "    other_gaussian = Gaussian(jnp.zeros((4,)), jnp.ones((4,4)))\n",
    "    return g + other_gaussian\n",
    "\n",
    "batch_add_info = jax.vmap(add_one_to_info)\n",
    "batch_add_precision = jax.vmap(add_one_to_precision)"
   ]
  },
  {
   "cell_type": "code",
   "execution_count": 6,
   "metadata": {},
   "outputs": [
    {
     "name": "stdout",
     "output_type": "stream",
     "text": [
      "Gaussian(info=Array([[2., 2., 2., 2.],\n",
      "       [2., 2., 2., 2.]], dtype=float32), precision=Array([[[1., 0., 0., 0.],\n",
      "        [0., 1., 0., 0.],\n",
      "        [0., 0., 1., 0.],\n",
      "        [0., 0., 0., 1.]],\n",
      "\n",
      "       [[1., 0., 0., 0.],\n",
      "        [0., 1., 0., 0.],\n",
      "        [0., 0., 1., 0.],\n",
      "        [0., 0., 0., 1.]]], dtype=float32))\n",
      "Gaussian(info=Array([[1., 1., 1., 1.],\n",
      "       [1., 1., 1., 1.]], dtype=float32), precision=Array([[[2., 1., 1., 1.],\n",
      "        [1., 2., 1., 1.],\n",
      "        [1., 1., 2., 1.],\n",
      "        [1., 1., 1., 2.]],\n",
      "\n",
      "       [[2., 1., 1., 1.],\n",
      "        [1., 2., 1., 1.],\n",
      "        [1., 1., 2., 1.],\n",
      "        [1., 1., 1., 2.]]], dtype=float32))\n"
     ]
    }
   ],
   "source": [
    "g = Gaussian(jnp.ones((2,4)), jnp.stack((jnp.eye(4), jnp.eye(4))))\n",
    "print(batch_add_info(g))\n",
    "print(batch_add_precision(g))"
   ]
  },
  {
   "cell_type": "code",
   "execution_count": 7,
   "metadata": {},
   "outputs": [
    {
     "data": {
      "text/plain": [
       "(Gaussian(info=Array([[10., 10., 10., 10.],\n",
       "        [10., 10., 10., 10.]], dtype=float32), precision=Array([[[10.,  9.,  9.,  9.],\n",
       "         [ 9., 10.,  9.,  9.],\n",
       "         [ 9.,  9., 10.,  9.],\n",
       "         [ 9.,  9.,  9., 10.]],\n",
       " \n",
       "        [[10.,  9.,  9.,  9.],\n",
       "         [ 9., 10.,  9.,  9.],\n",
       "         [ 9.,  9., 10.,  9.],\n",
       "         [ 9.,  9.,  9., 10.]]], dtype=float32)),\n",
       " Array([1, 2, 3, 4, 5, 6, 7, 8, 9], dtype=int32))"
      ]
     },
     "execution_count": 7,
     "metadata": {},
     "output_type": "execute_result"
    }
   ],
   "source": [
    "def add_info_by_n(n: int) -> Gaussian:\n",
    "    def iterate_add_info(carry, x):\n",
    "        # carry is the current state, x is current iteration from arange()\n",
    "        carry = batch_add_info(carry)\n",
    "        carry = batch_add_precision(carry)\n",
    "        return carry, x\n",
    "    h, stacked = jax.lax.scan(iterate_add_info, g, jnp.arange(1,n))\n",
    "    return h, stacked\n",
    "\n",
    "add_info_by_n(10)"
   ]
  },
  {
   "cell_type": "code",
   "execution_count": 8,
   "metadata": {},
   "outputs": [],
   "source": [
    "factor_to_var_msgs = {\"x1\": Gaussian.identity(), \"x2\": Gaussian.identity(), \"x3\": Gaussian(jnp.ones(4) * 4, jnp.eye(4) * 5)}\n",
    "factors = [\"f1\", \"f2\", \"f3\"]"
   ]
  },
  {
   "cell_type": "code",
   "execution_count": 9,
   "metadata": {},
   "outputs": [
    {
     "ename": "TypeError",
     "evalue": "string indices must be integers",
     "output_type": "error",
     "traceback": [
      "\u001b[0;31m---------------------------------------------------------------------------\u001b[0m",
      "\u001b[0;31mTypeError\u001b[0m                                 Traceback (most recent call last)",
      "Cell \u001b[0;32mIn[9], line 5\u001b[0m\n\u001b[1;32m      2\u001b[0m     updated_msg \u001b[38;5;241m=\u001b[39m factor_to_var_msgs[\u001b[38;5;124m\"\u001b[39m\u001b[38;5;124mx1\u001b[39m\u001b[38;5;124m\"\u001b[39m] \u001b[38;5;241m+\u001b[39m factor_to_var_msgs[\u001b[38;5;124m\"\u001b[39m\u001b[38;5;124mx2\u001b[39m\u001b[38;5;124m\"\u001b[39m]\n\u001b[1;32m      3\u001b[0m     \u001b[38;5;28;01mreturn\u001b[39;00m updated_msg\n\u001b[0;32m----> 5\u001b[0m \u001b[43mjax\u001b[49m\u001b[38;5;241;43m.\u001b[39;49m\u001b[43mtree\u001b[49m\u001b[38;5;241;43m.\u001b[39;49m\u001b[43mmap\u001b[49m\u001b[43m(\u001b[49m\u001b[43mupdate_factor_to_var_msgs\u001b[49m\u001b[43m,\u001b[49m\u001b[43m \u001b[49m\u001b[43mfactors\u001b[49m\u001b[43m)\u001b[49m\n",
      "File \u001b[0;32m~/Documents/gbp2_traj_planning/.venv/lib/python3.10/site-packages/jax/_src/tree.py:61\u001b[0m, in \u001b[0;36mmap\u001b[0;34m(f, tree, is_leaf, *rest)\u001b[0m\n\u001b[1;32m     55\u001b[0m \u001b[38;5;129m@_add_doc\u001b[39m(\u001b[38;5;124m\"\u001b[39m\u001b[38;5;124mAlias of :func:`jax.tree_util.tree_map`.\u001b[39m\u001b[38;5;124m\"\u001b[39m)\n\u001b[1;32m     56\u001b[0m \u001b[38;5;129m@functools\u001b[39m\u001b[38;5;241m.\u001b[39mwraps(tree_util\u001b[38;5;241m.\u001b[39mtree_map)\n\u001b[1;32m     57\u001b[0m \u001b[38;5;28;01mdef\u001b[39;00m \u001b[38;5;21mmap\u001b[39m(f: Callable[\u001b[38;5;241m.\u001b[39m\u001b[38;5;241m.\u001b[39m\u001b[38;5;241m.\u001b[39m, Any],\n\u001b[1;32m     58\u001b[0m         tree: Any,\n\u001b[1;32m     59\u001b[0m         \u001b[38;5;241m*\u001b[39mrest: Any,\n\u001b[1;32m     60\u001b[0m         is_leaf: Callable[[Any], \u001b[38;5;28mbool\u001b[39m] \u001b[38;5;241m|\u001b[39m \u001b[38;5;28;01mNone\u001b[39;00m \u001b[38;5;241m=\u001b[39m \u001b[38;5;28;01mNone\u001b[39;00m) \u001b[38;5;241m-\u001b[39m\u001b[38;5;241m>\u001b[39m Any:\n\u001b[0;32m---> 61\u001b[0m   \u001b[38;5;28;01mreturn\u001b[39;00m \u001b[43mtree_util\u001b[49m\u001b[38;5;241;43m.\u001b[39;49m\u001b[43mtree_map\u001b[49m\u001b[43m(\u001b[49m\u001b[43mf\u001b[49m\u001b[43m,\u001b[49m\u001b[43m \u001b[49m\u001b[43mtree\u001b[49m\u001b[43m,\u001b[49m\u001b[43m \u001b[49m\u001b[38;5;241;43m*\u001b[39;49m\u001b[43mrest\u001b[49m\u001b[43m,\u001b[49m\u001b[43m \u001b[49m\u001b[43mis_leaf\u001b[49m\u001b[38;5;241;43m=\u001b[39;49m\u001b[43mis_leaf\u001b[49m\u001b[43m)\u001b[49m\n",
      "File \u001b[0;32m~/Documents/gbp2_traj_planning/.venv/lib/python3.10/site-packages/jax/_src/tree_util.py:320\u001b[0m, in \u001b[0;36mtree_map\u001b[0;34m(f, tree, is_leaf, *rest)\u001b[0m\n\u001b[1;32m    318\u001b[0m leaves, treedef \u001b[38;5;241m=\u001b[39m tree_flatten(tree, is_leaf)\n\u001b[1;32m    319\u001b[0m all_leaves \u001b[38;5;241m=\u001b[39m [leaves] \u001b[38;5;241m+\u001b[39m [treedef\u001b[38;5;241m.\u001b[39mflatten_up_to(r) \u001b[38;5;28;01mfor\u001b[39;00m r \u001b[38;5;129;01min\u001b[39;00m rest]\n\u001b[0;32m--> 320\u001b[0m \u001b[38;5;28;01mreturn\u001b[39;00m \u001b[43mtreedef\u001b[49m\u001b[38;5;241;43m.\u001b[39;49m\u001b[43munflatten\u001b[49m\u001b[43m(\u001b[49m\u001b[43mf\u001b[49m\u001b[43m(\u001b[49m\u001b[38;5;241;43m*\u001b[39;49m\u001b[43mxs\u001b[49m\u001b[43m)\u001b[49m\u001b[43m \u001b[49m\u001b[38;5;28;43;01mfor\u001b[39;49;00m\u001b[43m \u001b[49m\u001b[43mxs\u001b[49m\u001b[43m \u001b[49m\u001b[38;5;129;43;01min\u001b[39;49;00m\u001b[43m \u001b[49m\u001b[38;5;28;43mzip\u001b[39;49m\u001b[43m(\u001b[49m\u001b[38;5;241;43m*\u001b[39;49m\u001b[43mall_leaves\u001b[49m\u001b[43m)\u001b[49m\u001b[43m)\u001b[49m\n",
      "File \u001b[0;32m~/Documents/gbp2_traj_planning/.venv/lib/python3.10/site-packages/jax/_src/tree_util.py:320\u001b[0m, in \u001b[0;36m<genexpr>\u001b[0;34m(.0)\u001b[0m\n\u001b[1;32m    318\u001b[0m leaves, treedef \u001b[38;5;241m=\u001b[39m tree_flatten(tree, is_leaf)\n\u001b[1;32m    319\u001b[0m all_leaves \u001b[38;5;241m=\u001b[39m [leaves] \u001b[38;5;241m+\u001b[39m [treedef\u001b[38;5;241m.\u001b[39mflatten_up_to(r) \u001b[38;5;28;01mfor\u001b[39;00m r \u001b[38;5;129;01min\u001b[39;00m rest]\n\u001b[0;32m--> 320\u001b[0m \u001b[38;5;28;01mreturn\u001b[39;00m treedef\u001b[38;5;241m.\u001b[39munflatten(\u001b[43mf\u001b[49m\u001b[43m(\u001b[49m\u001b[38;5;241;43m*\u001b[39;49m\u001b[43mxs\u001b[49m\u001b[43m)\u001b[49m \u001b[38;5;28;01mfor\u001b[39;00m xs \u001b[38;5;129;01min\u001b[39;00m \u001b[38;5;28mzip\u001b[39m(\u001b[38;5;241m*\u001b[39mall_leaves))\n",
      "Cell \u001b[0;32mIn[9], line 2\u001b[0m, in \u001b[0;36mupdate_factor_to_var_msgs\u001b[0;34m(factor_to_var_msgs)\u001b[0m\n\u001b[1;32m      1\u001b[0m \u001b[38;5;28;01mdef\u001b[39;00m \u001b[38;5;21mupdate_factor_to_var_msgs\u001b[39m(factor_to_var_msgs):\n\u001b[0;32m----> 2\u001b[0m     updated_msg \u001b[38;5;241m=\u001b[39m \u001b[43mfactor_to_var_msgs\u001b[49m\u001b[43m[\u001b[49m\u001b[38;5;124;43m\"\u001b[39;49m\u001b[38;5;124;43mx1\u001b[39;49m\u001b[38;5;124;43m\"\u001b[39;49m\u001b[43m]\u001b[49m \u001b[38;5;241m+\u001b[39m factor_to_var_msgs[\u001b[38;5;124m\"\u001b[39m\u001b[38;5;124mx2\u001b[39m\u001b[38;5;124m\"\u001b[39m]\n\u001b[1;32m      3\u001b[0m     \u001b[38;5;28;01mreturn\u001b[39;00m updated_msg\n",
      "\u001b[0;31mTypeError\u001b[0m: string indices must be integers"
     ]
    }
   ],
   "source": [
    "def update_factor_to_var_msgs(factor_to_var_msgs):\n",
    "    updated_msg = factor_to_var_msgs[\"x1\"] + factor_to_var_msgs[\"x2\"]\n",
    "    return updated_msg\n",
    "\n",
    "jax.tree.map(update_factor_to_var_msgs, factors)"
   ]
  },
  {
   "cell_type": "code",
   "execution_count": 10,
   "metadata": {},
   "outputs": [
    {
     "data": {
      "text/plain": [
       "Array([[[0., 0., 0.],\n",
       "        [0., 0., 0.]],\n",
       "\n",
       "       [[0., 0., 0.],\n",
       "        [0., 0., 0.]],\n",
       "\n",
       "       [[0., 0., 0.],\n",
       "        [0., 0., 0.]]], dtype=float32)"
      ]
     },
     "execution_count": 10,
     "metadata": {},
     "output_type": "execute_result"
    }
   ],
   "source": [
    "jnp.zeros((1,3)) - jnp.zeros((3,2,3))"
   ]
  },
  {
   "cell_type": "code",
   "execution_count": 6,
   "metadata": {},
   "outputs": [
    {
     "data": {
      "text/plain": [
       "Array([6., 6., 6., 6.], dtype=float32)"
      ]
     },
     "execution_count": 6,
     "metadata": {},
     "output_type": "execute_result"
    }
   ],
   "source": [
    "data = {'1': 1, '2': 2, '3': 3}\n",
    "state = jnp.zeros((4,))\n",
    "\n",
    "def regular_func(x):\n",
    "    return x + data['1']\n",
    "\n",
    "state = regular_func(state)\n",
    "data['1'] += 1\n",
    "state = regular_func(state)\n",
    "data['1'] += 1\n",
    "state = regular_func(state)\n",
    "state"
   ]
  },
  {
   "cell_type": "code",
   "execution_count": 16,
   "metadata": {},
   "outputs": [
    {
     "data": {
      "text/plain": [
       "Array([7., 7., 7., 7.], dtype=float32)"
      ]
     },
     "execution_count": 16,
     "metadata": {},
     "output_type": "execute_result"
    }
   ],
   "source": [
    "from copy import deepcopy\n",
    "\n",
    "data = {'1': 1, '2': 2, '3': 3}\n",
    "state = jnp.zeros((4,))\n",
    "\n",
    "@jax.jit\n",
    "def regular_func(x, data, y):\n",
    "    return x + data['1'] + y\n",
    "\n",
    "state = regular_func(state, data, 6)\n",
    "state\n",
    "# data['1'] += 1\n",
    "# state = regular_func(state, data)\n",
    "# data['1'] += 1\n",
    "# state = regular_func(state, data)\n",
    "# state"
   ]
  }
 ],
 "metadata": {
  "kernelspec": {
   "display_name": ".venv",
   "language": "python",
   "name": "python3"
  },
  "language_info": {
   "codemirror_mode": {
    "name": "ipython",
    "version": 3
   },
   "file_extension": ".py",
   "mimetype": "text/x-python",
   "name": "python",
   "nbconvert_exporter": "python",
   "pygments_lexer": "ipython3",
   "version": "3.10.12"
  }
 },
 "nbformat": 4,
 "nbformat_minor": 2
}
