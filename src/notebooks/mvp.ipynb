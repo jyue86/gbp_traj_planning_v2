{
 "cells": [
  {
   "cell_type": "code",
   "execution_count": 37,
   "metadata": {},
   "outputs": [],
   "source": [
    "from typing import Tuple\n",
    "\n",
    "import jax\n",
    "import jax.numpy as jnp\n",
    "from flax.struct import dataclass"
   ]
  },
  {
   "cell_type": "code",
   "execution_count": 2,
   "metadata": {},
   "outputs": [],
   "source": [
    "@dataclass\n",
    "class Var2FacMessages:\n",
    "    poses: jnp.array\n",
    "    dynamics: jnp.array\n",
    "\n",
    "\n",
    "@dataclass\n",
    "class Fac2VarMessages:\n",
    "    poses: jnp.array\n",
    "    dynamics: jnp.array\n",
    "\n",
    "target_states = jnp.array([[8.,0.,0.,0.], [-8.,0.,0.,0.]])\n",
    "\n",
    "state_transition = jnp.eye(4)\n",
    "delta_t = 0.2\n",
    "state_transition = state_transition.at[:2,2:].set(jnp.eye(2) * delta_t)\n",
    "\n",
    "current_state1 = jnp.array([5, 0, 0.5, 0]).astype(float)\n",
    "current_state2 = jnp.array([-5, 0, -0.5, 0]).astype(float)\n",
    "state = jnp.stack((current_state1, current_state2))\n",
    "\n",
    "time_horizon = 4\n",
    "@jax.jit\n",
    "def update_init_state(carry: jnp.array, _: int=None):\n",
    "    carry = state_transition @ carry\n",
    "    return carry, carry.T\n",
    "\n",
    "_, states = jax.lax.scan(update_init_state, state.T, length=time_horizon)\n",
    "states = jnp.swapaxes(states, 0, 1)"
   ]
  },
  {
   "cell_type": "code",
   "execution_count": 3,
   "metadata": {},
   "outputs": [],
   "source": [
    "@dataclass\n",
    "class Gaussian:\n",
    "    info: jnp.ndarray\n",
    "    precision: jnp.ndarray\n",
    "    dims: jnp.ndarray \n",
    "\n",
    "    @property\n",
    "    def shape(self):\n",
    "        return {\n",
    "            \"info\": self.info.shape,\n",
    "            \"precision\": self.precision.shape,\n",
    "            \"dims\": self.dims.shape\n",
    "        }\n",
    " \n",
    "    @property\n",
    "    def mean(self) -> jnp.ndarray:\n",
    "        return jnp.linalg.inv(self.precision) @ self.info\n",
    "    \n",
    "    @property\n",
    "    def covariance(self) -> jnp.ndarray:\n",
    "        return jnp.linalg.inv(self.precision)\n",
    "    \n",
    "    @staticmethod\n",
    "    def identity(variable: int) -> jnp.ndarray:\n",
    "        dims = jnp.array([variable, variable, variable, variable])\n",
    "        return Gaussian(jnp.zeros(4), jnp.eye(4), dims)\n",
    "    \n",
    "    def concatenate(self, other_gaussian: \"Gaussian\") -> \"Gaussian\":\n",
    "        return Gaussian(\n",
    "            jnp.concatenate(self.info, other_gaussian.info),\n",
    "            jnp.concatenate(self.precision, other_gaussian.precision),\n",
    "            jnp.concatenate(self.dims, other_gaussian.dims)\n",
    "        )\n",
    "    \n",
    "    def __getitem__(self, index) -> \"Gaussian\":\n",
    "        return Gaussian(self.info[index], self.precision[index], self.dims[index])\n",
    "\n",
    "    def __mul__(self, other: 'Gaussian') -> 'Gaussian':\n",
    "        if other is None:\n",
    "            return self.copy()\n",
    "\n",
    "        # Merge dims\n",
    "        dims = list(self.dims)\n",
    "        for d in other.dims:\n",
    "            if d not in dims:\n",
    "                dims.append(d)\n",
    "        \n",
    "        # Extend self matrix\n",
    "        prec_self = jnp.zeros((len(dims), len(dims)))\n",
    "        info_self = jnp.zeros((len(dims), 1))\n",
    "        idxs_self = jnp.array([dims.index(d) for d in self._dims]) # here, need to fix this\n",
    "        prec_self = prec_self.at[jnp.ix_(idxs_self, idxs_self)].set(self.precision)\n",
    "        info_self = info_self.at[jnp.ix_(idxs_self,jnp.array([0]))].set(self.info.reshape(-1,1))\n",
    "\n",
    "        # Extend other matrix\n",
    "        prec_other = jnp.zeros((len(dims), len(dims)))\n",
    "        info_other = jnp.zeros((len(dims), 1))\n",
    "        idxs_other = jnp.array([dims.index(d) for d in other._dims]) # here, need to fix this\n",
    "        prec_other = prec_other.at[jnp.ix_(idxs_other, idxs_other)].set(other.precision)\n",
    "        info_other = info_other.at[jnp.ix_(idxs_other, jnp.array([0]))].set(other.info.reshape(-1,1))\n",
    "        # Add\n",
    "        prec = prec_other + prec_self\n",
    "        info = (info_other + info_self).squeeze(-1)\n",
    "        return Gaussian(info, prec, dims)\n",
    "\n",
    "    def __imul__(self, other: 'Gaussian') -> 'Gaussian':\n",
    "        return self.__mul__(other)\n",
    "    \n",
    "    def marginalize(self, dims: Tuple) -> \"Gaussian\":\n",
    "        info, prec = self.info, self.precision\n",
    "        info = info.reshape(-1,1)\n",
    "        axis_a = [idx for idx, d in enumerate(self.dims) if d not in dims]\n",
    "        axis_b = [idx for idx, d in enumerate(self.dims) if d in dims]\n",
    "\n",
    "        def axis_a_fn(kp, v):\n",
    "            if v not in dims:\n",
    "                return kp[0].idx\n",
    "            else:\n",
    "                return -1\n",
    "            \n",
    "        def axis_b_fn(kp, v):\n",
    "            if v in dims:\n",
    "                return kp[0].idx\n",
    "            else:\n",
    "                return -1\n",
    "            \n",
    "        axis_a = jnp.array(jax.tree_util.tree_map_with_path(axis_a_fn, self.dims))\n",
    "        axis_b = jnp.array(jax.tree_util.tree_map_with_path(axis_b_fn, self.dims))\n",
    "        axis_a = axis_a[jnp.where(axis_a != -1)]\n",
    "        axis_b = axis_b[jnp.where(axis_b != -1)]\n",
    "\n",
    "        info_a = info[jnp.ix_(axis_a, jnp.array([0]))]\n",
    "        prec_aa = prec[jnp.ix_(axis_a, axis_a)]\n",
    "        info_b = info[jnp.ix_(axis_b, jnp.array([0]))]\n",
    "        prec_ab = prec[jnp.ix_(axis_a, axis_b)]\n",
    "        prec_ba = prec[jnp.ix_(axis_b, axis_a)]\n",
    "        prec_bb = prec[jnp.ix_(axis_b, axis_b)]\n",
    "\n",
    "        prec_bb_inv = jnp.linalg.inv(prec_bb)\n",
    "        info_ = info_a - prec_ab @ prec_bb_inv @ info_b\n",
    "        prec_ = prec_aa - prec_ab @ prec_bb_inv @ prec_ba\n",
    "\n",
    "        dims = tuple(i for i in self.dims if i not in dims)\n",
    "        return Gaussian(info_.squeeze(-1), prec_, dims)"
   ]
  },
  {
   "cell_type": "code",
   "execution_count": 4,
   "metadata": {},
   "outputs": [],
   "source": [
    "def init_var2fac_msgs():\n",
    "    n_agents = states.shape[0]\n",
    "    time_horizon = states.shape[1]\n",
    "    pose_msgs = jax.vmap(jax.vmap(lambda _, var: Gaussian.identity(var)))(\n",
    "        jnp.zeros((n_agents, 2)), jnp.repeat(jnp.array([[0, time_horizon - 1]]), n_agents, axis=0)\n",
    "    )\n",
    "    def create_dynamics_axes(carry: jnp.ndarray, _: jnp.ndarray) -> Tuple[jnp.ndarray, jnp.ndarray]:\n",
    "        return carry + 1, carry\n",
    "    _, dynamics_axes = jax.lax.scan(create_dynamics_axes, jnp.array([1,1]), length=time_horizon-2) \n",
    "    dynamics_axes = jnp.concat((jnp.array([[0]]), dynamics_axes.reshape((1, -1)),jnp.array([[time_horizon - 1]])), axis=1)\n",
    "    dynamics_msgs = jax.vmap(jax.vmap(lambda _, var: Gaussian.identity(var)))(\n",
    "        jnp.zeros((n_agents, (time_horizon - 1) * 2)), jnp.repeat(dynamics_axes, n_agents, axis=0)\n",
    "    )\n",
    "    return Var2FacMessages(poses=pose_msgs, dynamics=dynamics_msgs)\n",
    "\n",
    "var2fac_msgs = init_var2fac_msgs()\n",
    "assert var2fac_msgs.poses.dims.shape == (2,2,4)\n",
    "assert var2fac_msgs.dynamics.dims.shape == (2,6,4)"
   ]
  },
  {
   "cell_type": "code",
   "execution_count": 5,
   "metadata": {},
   "outputs": [
    {
     "data": {
      "text/plain": [
       "Array([[0, 0, 0, 0],\n",
       "       [1, 1, 1, 1],\n",
       "       [1, 1, 1, 1],\n",
       "       [2, 2, 2, 2],\n",
       "       [2, 2, 2, 2],\n",
       "       [3, 3, 3, 3]], dtype=int32)"
      ]
     },
     "execution_count": 5,
     "metadata": {},
     "output_type": "execute_result"
    }
   ],
   "source": [
    "var2fac_msgs.dynamics.dims[0]"
   ]
  },
  {
   "cell_type": "code",
   "execution_count": 6,
   "metadata": {},
   "outputs": [],
   "source": [
    "N_STATES = 4\n",
    "POSE_NOISE = 1e-15\n",
    "DYNAMICS_NOISE = 0.005\n",
    "OBSTACLE_NOISE = 0.005"
   ]
  },
  {
   "cell_type": "code",
   "execution_count": 7,
   "metadata": {},
   "outputs": [],
   "source": [
    "from abc import abstractmethod\n",
    "\n",
    "class Factor:\n",
    "    def __init__(\n",
    "        self, state: jnp.array, state_precision: jnp.array, dims: jnp.array, linear: bool = True\n",
    "    ) -> None:\n",
    "        self._state = state\n",
    "        self._state_precision = state_precision\n",
    "        self._linear = linear\n",
    "        self._dims = dims\n",
    "\n",
    "    def calculate_likelihood(self) -> Gaussian:\n",
    "        return Gaussian(\n",
    "            self._calc_info(self._state, self._state_precision),\n",
    "            self._calc_precision(self._state, self._state_precision),\n",
    "            self._dims\n",
    "        )\n",
    "\n",
    "    @abstractmethod\n",
    "    def _calc_measurement(self, state: jnp.array) -> jnp.array:\n",
    "        pass\n",
    "\n",
    "    def _calc_info(self, state: jnp.array, precision: jnp.array) -> jnp.array:\n",
    "        X = state\n",
    "        if self._linear:\n",
    "            eta = precision @ (jnp.zeros(N_STATES) - self._calc_measurement(state))\n",
    "        else:\n",
    "            J = jax.jacfwd(self._calc_measurement)(state)\n",
    "            eta = (J.T @ precision) @ (\n",
    "                J @ X + jnp.zeros((X.shape[0], 1)) - self.calc_measurement(state)\n",
    "            )\n",
    "        return eta\n",
    "\n",
    "    def _calc_precision(self, state: jnp.array, precision: jnp.array) -> jnp.array:\n",
    "        if self._linear:\n",
    "            return precision\n",
    "        else:\n",
    "            J = jax.jacfwd(self._calc_measurement)(state)\n",
    "            return J.T @ precision @ J\n",
    "\n",
    "\n",
    "class PoseFactor(Factor):\n",
    "    def __init__(self, state: jnp.ndarray, dims: jnp.ndarray) -> None:\n",
    "        precision = jnp.pow(POSE_NOISE, -2) * jnp.eye(N_STATES)\n",
    "        super(PoseFactor, self).__init__(state, precision, dims)\n",
    "\n",
    "    def _calc_measurement(self, state: jnp.ndarray) -> jnp.ndarray:\n",
    "        return state\n",
    "\n",
    "\n",
    "class DynamicsFactor(Factor):\n",
    "    def __init__(self, state: jnp.array, delta_t: float, dims: jnp.array) -> None:\n",
    "        self.delta_t = delta_t\n",
    "        process_covariance = DYNAMICS_NOISE * jnp.eye(N_STATES // 2)\n",
    "        top_half = jnp.hstack(\n",
    "            (\n",
    "                self.delta_t**3 * process_covariance / 3,\n",
    "                self.delta_t**2 * process_covariance / 2,\n",
    "            )\n",
    "        )\n",
    "        bottom_half = jnp.hstack(\n",
    "            (\n",
    "                self.delta_t**2 * process_covariance / 2,\n",
    "                self.delta_t * process_covariance,\n",
    "            )\n",
    "        )\n",
    "        precision = jnp.vstack((top_half, bottom_half))\n",
    "        precision = jnp.linalg.inv(precision)\n",
    "\n",
    "        self.state_transition = jnp.eye(4)\n",
    "        self.state_transition = self.state_transition.at[0:2, 2:].set(\n",
    "            jnp.eye(2) * self.delta_t\n",
    "        )\n",
    "\n",
    "        super(DynamicsFactor, self).__init__(state, precision, dims)\n",
    "\n",
    "    def _calc_measurement(self, state: jnp.array) -> jnp.array:\n",
    "        prev_state = state[0:4]\n",
    "        current_state = state[4:]\n",
    "        return self.state_transition @ prev_state - current_state"
   ]
  },
  {
   "cell_type": "code",
   "execution_count": 8,
   "metadata": {},
   "outputs": [],
   "source": [
    "@dataclass\n",
    "class Factors:\n",
    "    poses: PoseFactor\n",
    "    dynamics: DynamicsFactor"
   ]
  },
  {
   "cell_type": "code",
   "execution_count": 9,
   "metadata": {},
   "outputs": [
    {
     "data": {
      "text/plain": [
       "Array([0., 0., 0., 0.], dtype=float32)"
      ]
     },
     "execution_count": 9,
     "metadata": {},
     "output_type": "execute_result"
    }
   ],
   "source": [
    "# I think the sign got switched for pose b/c \\eta = \\lambda * (0 - h(x))\n",
    "# see the - before h(x)\n",
    "dims = jnp.array([0.0, 0.0, 0.0, 0.0])\n",
    "pose_factor = PoseFactor(jnp.array([-5, 0, -0.5, 0]), dims).calculate_likelihood()\n",
    "pose_factor.dims"
   ]
  },
  {
   "cell_type": "code",
   "execution_count": 10,
   "metadata": {},
   "outputs": [
    {
     "data": {
      "text/plain": [
       "(Array([5.e+30, 0.e+00, 5.e+29, 0.e+00], dtype=float32),\n",
       " Array([5.e+30, 0.e+00, 5.e+29, 0.e+00], dtype=float32))"
      ]
     },
     "execution_count": 10,
     "metadata": {},
     "output_type": "execute_result"
    }
   ],
   "source": [
    "jnp.linalg.inv(pose_factor.covariance) @ pose_factor.mean, pose_factor.info"
   ]
  },
  {
   "cell_type": "code",
   "execution_count": 11,
   "metadata": {},
   "outputs": [
    {
     "data": {
      "text/plain": [
       "Array([0., 0., 0., 0.], dtype=float32)"
      ]
     },
     "execution_count": 11,
     "metadata": {},
     "output_type": "execute_result"
    }
   ],
   "source": [
    "dyn_factor = DynamicsFactor(jnp.array([5.1, 0, 0.5, 0, 5.2, 0, 0.5, 0]), 0.2, jnp.array([0.0, 0.0, 0.0, 0.0])).calculate_likelihood()\n",
    "dyn_factor.mean"
   ]
  },
  {
   "cell_type": "code",
   "execution_count": 12,
   "metadata": {},
   "outputs": [
    {
     "data": {
      "text/plain": [
       "Gaussian(info=Array([0., 0., 0., 0.], dtype=float32), precision=Array([[299999.84  ,      0.    , -29999.98  ,      0.    ],\n",
       "       [     0.    , 299999.84  ,      0.    , -29999.98  ],\n",
       "       [-29999.982 ,     -0.    ,   3999.9978,     -0.    ],\n",
       "       [     0.    , -29999.982 ,      0.    ,   3999.9978]],      dtype=float32), dims=Array([0., 0., 0., 0.], dtype=float32))"
      ]
     },
     "execution_count": 12,
     "metadata": {},
     "output_type": "execute_result"
    }
   ],
   "source": [
    "dyn_factor"
   ]
  },
  {
   "cell_type": "code",
   "execution_count": 13,
   "metadata": {},
   "outputs": [
    {
     "data": {
      "text/plain": [
       "(Array([3.0000007e-01, 0.0000000e+00, 5.2619725e-07, 0.0000000e+00],      dtype=float32),\n",
       " Gaussian(info=Array([90000.01,     0.  , -9000.  ,     0.  ], dtype=float32), precision=Array([[299999.84  ,      0.    , -29999.98  ,      0.    ],\n",
       "        [     0.    , 299999.84  ,      0.    , -29999.98  ],\n",
       "        [-29999.982 ,     -0.    ,   3999.9978,     -0.    ],\n",
       "        [     0.    , -29999.982 ,      0.    ,   3999.9978]],      dtype=float32), dims=Array([0., 0., 0., 0.], dtype=float32)))"
      ]
     },
     "execution_count": 13,
     "metadata": {},
     "output_type": "execute_result"
    }
   ],
   "source": [
    "dyn_factor = DynamicsFactor(jnp.array([5.1, 0, 0.5, 0, 5.5, 0, 0.5, 0]), 0.2, jnp.zeros(4,)).calculate_likelihood()\n",
    "dyn_factor.mean, dyn_factor"
   ]
  },
  {
   "cell_type": "markdown",
   "metadata": {},
   "source": [
    "# Message Passing"
   ]
  },
  {
   "cell_type": "code",
   "execution_count": 14,
   "metadata": {},
   "outputs": [
    {
     "data": {
      "text/plain": [
       "Array([[[0, 0, 0, 0],\n",
       "        [3, 3, 3, 3]],\n",
       "\n",
       "       [[0, 0, 0, 0],\n",
       "        [3, 3, 3, 3]]], dtype=int32)"
      ]
     },
     "execution_count": 14,
     "metadata": {},
     "output_type": "execute_result"
    }
   ],
   "source": [
    "var2fac_msgs.poses.dims"
   ]
  },
  {
   "cell_type": "code",
   "execution_count": 15,
   "metadata": {},
   "outputs": [],
   "source": [
    "delta_t = 0.2\n",
    "def update_factor_likelihoods(states: jnp.array) -> Factors:\n",
    "    # shapes check out when run\n",
    "    time_horizon = states.shape[1]\n",
    "    def batch_update_factor_likelihoods(agent_states, end_pos):\n",
    "        pose_combos = jnp.stack((agent_states[0], end_pos))  # [2,4]\n",
    "        pose_dims = jnp.stack([jnp.zeros(4,), jnp.ones(4,) * (time_horizon - 1)])\n",
    "        poses = jax.vmap(lambda x, y: PoseFactor(x, y).calculate_likelihood())(\n",
    "            pose_combos, pose_dims\n",
    "        )  #\n",
    "        dynamic_dims = jnp.arange(0, time_horizon - 1).reshape(-1,1) * jnp.ones((time_horizon - 1, 4))\n",
    "        dynamic_dims = jnp.hstack((dynamic_dims, dynamic_dims + 1))\n",
    "        dynamic_combos = jnp.hstack(\n",
    "            (agent_states[0:-1], agent_states[1:])\n",
    "        )  # [time_horizon - 1, 8]\n",
    "        dynamics = jax.vmap(\n",
    "            lambda x, y: DynamicsFactor(x, delta_t, y).calculate_likelihood()\n",
    "        )(dynamic_combos, dynamic_dims)\n",
    "        return Factors(poses, dynamics)\n",
    "\n",
    "    return jax.vmap(batch_update_factor_likelihoods)(states, target_states)\n",
    "\n",
    "factors = update_factor_likelihoods(states)"
   ]
  },
  {
   "cell_type": "code",
   "execution_count": 16,
   "metadata": {},
   "outputs": [
    {
     "data": {
      "text/plain": [
       "((2, 3, 4),\n",
       " Array([[[0., 0., 0., 0., 1., 1., 1., 1.],\n",
       "         [1., 1., 1., 1., 2., 2., 2., 2.],\n",
       "         [2., 2., 2., 2., 3., 3., 3., 3.]],\n",
       " \n",
       "        [[0., 0., 0., 0., 1., 1., 1., 1.],\n",
       "         [1., 1., 1., 1., 2., 2., 2., 2.],\n",
       "         [2., 2., 2., 2., 3., 3., 3., 3.]]], dtype=float32))"
      ]
     },
     "execution_count": 16,
     "metadata": {},
     "output_type": "execute_result"
    }
   ],
   "source": [
    "factors.dynamics.info.shape, factors.dynamics.dims"
   ]
  },
  {
   "cell_type": "code",
   "execution_count": 17,
   "metadata": {},
   "outputs": [
    {
     "data": {
      "text/plain": [
       "((2, 4, 4),\n",
       " (2, 4, 4, 4),\n",
       " Gaussian(info=Array([[[0., 0., 0., 0.],\n",
       "         [0., 0., 0., 0.],\n",
       "         [0., 0., 0., 0.],\n",
       "         [0., 0., 0., 0.]],\n",
       " \n",
       "        [[0., 0., 0., 0.],\n",
       "         [0., 0., 0., 0.],\n",
       "         [0., 0., 0., 0.],\n",
       "         [0., 0., 0., 0.]]], dtype=float32), precision=Array([[[[2., 0., 0., 0.],\n",
       "          [0., 2., 0., 0.],\n",
       "          [0., 0., 2., 0.],\n",
       "          [0., 0., 0., 2.]],\n",
       " \n",
       "         [[2., 0., 0., 0.],\n",
       "          [0., 2., 0., 0.],\n",
       "          [0., 0., 2., 0.],\n",
       "          [0., 0., 0., 2.]],\n",
       " \n",
       "         [[2., 0., 0., 0.],\n",
       "          [0., 2., 0., 0.],\n",
       "          [0., 0., 2., 0.],\n",
       "          [0., 0., 0., 2.]],\n",
       " \n",
       "         [[2., 0., 0., 0.],\n",
       "          [0., 2., 0., 0.],\n",
       "          [0., 0., 2., 0.],\n",
       "          [0., 0., 0., 2.]]],\n",
       " \n",
       " \n",
       "        [[[2., 0., 0., 0.],\n",
       "          [0., 2., 0., 0.],\n",
       "          [0., 0., 2., 0.],\n",
       "          [0., 0., 0., 2.]],\n",
       " \n",
       "         [[2., 0., 0., 0.],\n",
       "          [0., 2., 0., 0.],\n",
       "          [0., 0., 2., 0.],\n",
       "          [0., 0., 0., 2.]],\n",
       " \n",
       "         [[2., 0., 0., 0.],\n",
       "          [0., 2., 0., 0.],\n",
       "          [0., 0., 2., 0.],\n",
       "          [0., 0., 0., 2.]],\n",
       " \n",
       "         [[2., 0., 0., 0.],\n",
       "          [0., 2., 0., 0.],\n",
       "          [0., 0., 2., 0.],\n",
       "          [0., 0., 0., 2.]]]], dtype=float32), dims=None))"
      ]
     },
     "execution_count": 17,
     "metadata": {},
     "output_type": "execute_result"
    }
   ],
   "source": [
    "outer_idx = jnp.array([0, -1])\n",
    "def update_marginals(fac2var_msgs):\n",
    "    # print(\"{}, {}\", fac2var_msgs.pose.info.shape, fac2var_msgs.pose.precision.shape)\n",
    "    # print(\"{}, {}\", fac2var_msgs.dynamics.info.shape, fac2var_msgs.dynamics.precision.shape)\n",
    "    pose = fac2var_msgs.poses\n",
    "    dynamics = fac2var_msgs.dynamics\n",
    "\n",
    "    outer_info = pose.info[outer_idx] + dynamics.info[outer_idx]\n",
    "    outer_precision = pose.precision[outer_idx] + dynamics.precision[outer_idx]\n",
    "\n",
    "    inner_info = dynamics.info[1:-1:2] + dynamics.info[2:-1:2]\n",
    "    inner_precision = dynamics.precision[1:-1:2] + dynamics.precision[2:-1:2]\n",
    "\n",
    "    return Gaussian(\n",
    "        info=jnp.concat((outer_info[0:1], inner_info, outer_info[-1:])),\n",
    "        precision=jnp.concat((outer_precision[0:1], inner_precision, outer_precision[-1:])),\n",
    "        dims=None\n",
    "    )\n",
    "\n",
    "marginals = jax.vmap(update_marginals)(var2fac_msgs)\n",
    "marginals.info.shape, marginals.precision.shape, marginals"
   ]
  },
  {
   "cell_type": "code",
   "execution_count": 18,
   "metadata": {},
   "outputs": [
    {
     "data": {
      "text/plain": [
       "(2, 3, 4, 4)"
      ]
     },
     "execution_count": 18,
     "metadata": {},
     "output_type": "execute_result"
    }
   ],
   "source": [
    "# n_agents = 2\n",
    "# time_horizon = 4\n",
    "# info is a 4-vector, precision is 4x4 matrix\n",
    "\n",
    "# pose only has 2 factor\n",
    "# dynamics is time_horizon - 1 factors\n",
    "factors.dynamics.precision.shape"
   ]
  },
  {
   "cell_type": "code",
   "execution_count": 35,
   "metadata": {},
   "outputs": [
    {
     "data": {
      "text/plain": [
       "(2, 6, 4)"
      ]
     },
     "execution_count": 35,
     "metadata": {},
     "output_type": "execute_result"
    }
   ],
   "source": [
    "var2fac_msgs.dynamics.info.shape"
   ]
  },
  {
   "cell_type": "code",
   "execution_count": 20,
   "metadata": {},
   "outputs": [],
   "source": [
    "def update_factor_to_var_messages(\n",
    "    var2fac_msgs: Var2FacMessages,\n",
    "    factors: Factors\n",
    ") -> Fac2VarMessages:\n",
    "    def batched_update_factor_to_var_messages(agent_var2fac_msgs: Var2FacMessages, factors: Factors) -> Fac2VarMessages:\n",
    "        poses = agent_var2fac_msgs.poses\n",
    "        dynamics = agent_var2fac_msgs.dynamics\n",
    "\n",
    "        updated_poses = factors.poses \n",
    "        updated_dynamics = None # poses \n",
    "        # inner_dynamics = dynamics[jnp.array([2,1,4,3])]\n",
    "        # updated_dynamics = jax.tree_util.tree_map(lambda x, y, z: jnp.concatenate((x, y, z)), outer_dynamics[0:1], inner_dynamics, outer_dynamics[1:])\n",
    "        return Fac2VarMessages(updated_poses,updated_poses)\n",
    "    return jax.vmap(batched_update_factor_to_var_messages)(var2fac_msgs, factors)\n",
    "    # outer vmap is over the agents\n",
    "    # so the batched_function basically takes care of each individual factor graph\n",
    "\n",
    "updated_fac2_var_msgs = update_factor_to_var_messages(var2fac_msgs, factors)"
   ]
  },
  {
   "cell_type": "code",
   "execution_count": null,
   "metadata": {},
   "outputs": [],
   "source": [
    "var2fac_msgs.dynamics.shape"
   ]
  },
  {
   "cell_type": "code",
   "execution_count": null,
   "metadata": {},
   "outputs": [],
   "source": [
    "factors.dynamics"
   ]
  },
  {
   "cell_type": "code",
   "execution_count": null,
   "metadata": {},
   "outputs": [],
   "source": [
    "jax.vmap(lambda f: DynamicsFactor(f).calculate_likelihood())(factors.dynamics)"
   ]
  },
  {
   "cell_type": "code",
   "execution_count": 23,
   "metadata": {},
   "outputs": [
    {
     "data": {
      "text/plain": [
       "{'info': (4,), 'precision': (4, 4), 'dims': (4,)}"
      ]
     },
     "execution_count": 23,
     "metadata": {},
     "output_type": "execute_result"
    }
   ],
   "source": [
    "updated_fac2_var_msgs.poses[0][0].shape"
   ]
  },
  {
   "cell_type": "code",
   "execution_count": 77,
   "metadata": {},
   "outputs": [
    {
     "name": "stdout",
     "output_type": "stream",
     "text": [
      "{'dims': (Array(1, dtype=int32, weak_type=True), Array(4, dtype=int32, weak_type=True)), 'info': (Array(1, dtype=int32, weak_type=True), Array(4, dtype=int32, weak_type=True)), 'precision': (Array(1, dtype=int32, weak_type=True), Array(4, dtype=int32, weak_type=True), Array(4, dtype=int32, weak_type=True))}\n",
      "{'dims': (Array(4, dtype=int32, weak_type=True), Array(4, dtype=int32, weak_type=True)), 'info': (Array(4, dtype=int32, weak_type=True), Array(4, dtype=int32, weak_type=True)), 'precision': (Array(4, dtype=int32, weak_type=True), Array(4, dtype=int32, weak_type=True), Array(4, dtype=int32, weak_type=True))}\n",
      "{'dims': (Array(1, dtype=int32, weak_type=True), Array(4, dtype=int32, weak_type=True)), 'info': (Array(1, dtype=int32, weak_type=True), Array(4, dtype=int32, weak_type=True)), 'precision': (Array(1, dtype=int32, weak_type=True), Array(4, dtype=int32, weak_type=True), Array(4, dtype=int32, weak_type=True))}\n"
     ]
    },
    {
     "data": {
      "text/plain": [
       "({'info': (2, 2, 4), 'precision': (2, 2, 4, 4), 'dims': (2, 2, 4)},\n",
       " {'info': (2, 6, 4), 'precision': (2, 6, 4, 4), 'dims': (2, 6, 4)})"
      ]
     },
     "execution_count": 77,
     "metadata": {},
     "output_type": "execute_result"
    }
   ],
   "source": [
    "def update_var_to_factor_messages(\n",
    "    fac2var_msgs: Fac2VarMessages\n",
    ") -> Var2FacMessages:\n",
    "    def batched_update_var_to_factor_messages(agent_fac2var_msgs: Fac2VarMessages):\n",
    "        poses = agent_fac2var_msgs.poses\n",
    "        dynamics = agent_fac2var_msgs.dynamics\n",
    "\n",
    "        updated_poses = dynamics[outer_idx] # jnp.array([0, -1])\n",
    "        outer_dynamics = poses \n",
    "        inner_dynamics = dynamics[jnp.array([2,1,4,3])]\n",
    "        updated_dynamics = jax.tree_util.tree_map(lambda x, y, z: jnp.concatenate((x, y, z)), outer_dynamics[0:1], inner_dynamics, outer_dynamics[1:])\n",
    "        return Var2FacMessages(updated_poses, updated_dynamics)\n",
    "\n",
    "    return jax.vmap(batched_update_var_to_factor_messages)(fac2var_msgs)\n",
    "\n",
    "updated_var2fac_msgs = update_var_to_factor_messages(var2fac_msgs) # TODO: change to fac2var messages for args\n",
    "updated_var2fac_msgs.poses.shape, updated_var2fac_msgs.dynamics.shape"
   ]
  },
  {
   "cell_type": "code",
   "execution_count": 36,
   "metadata": {},
   "outputs": [
    {
     "data": {
      "text/plain": [
       "{'info': (2, 6, 4), 'precision': (2, 6, 4, 4), 'dims': (2, 6, 4)}"
      ]
     },
     "execution_count": 36,
     "metadata": {},
     "output_type": "execute_result"
    }
   ],
   "source": [
    "var2fac_msgs.dynamics.shape"
   ]
  },
  {
   "cell_type": "code",
   "execution_count": 50,
   "metadata": {},
   "outputs": [
    {
     "data": {
      "text/plain": [
       "{'info': (6, 4), 'precision': (6, 4, 4), 'dims': (6, 4)}"
      ]
     },
     "execution_count": 50,
     "metadata": {},
     "output_type": "execute_result"
    }
   ],
   "source": [
    "var2fac_msgs.dynamics[0].shape"
   ]
  },
  {
   "cell_type": "code",
   "execution_count": 66,
   "metadata": {},
   "outputs": [
    {
     "data": {
      "text/plain": [
       "Metric(score1=Array([10, 10, 10, 10, 10, 10], dtype=int32), score2=Array([20, 20, 20, 20, 20, 20], dtype=int32), score3=Array([30, 30, 30, 30, 30, 30], dtype=int32))"
      ]
     },
     "execution_count": 66,
     "metadata": {},
     "output_type": "execute_result"
    }
   ],
   "source": [
    "@dataclass\n",
    "class Metric:\n",
    "    score1: jnp.ndarray\n",
    "    score2: jnp.ndarray\n",
    "    score3: jnp.ndarray\n",
    "\n",
    "a = Metric(score1=jnp.array([10,10,10]), score2=jnp.array([20,20,20]), score3=jnp.array([30,30,30]))\n",
    "b = Metric(score1=jnp.array([10,10,10]), score2=jnp.array([20,20,20]), score3=jnp.array([30,30,30]))\n",
    "\n",
    "jax.tree_util.tree_map(lambda x, y: jnp.concatenate([x, y]), a, b)"
   ]
  },
  {
   "cell_type": "code",
   "execution_count": null,
   "metadata": {},
   "outputs": [],
   "source": []
  },
  {
   "cell_type": "code",
   "execution_count": 78,
   "metadata": {},
   "outputs": [
    {
     "data": {
      "text/plain": [
       "[4, 10, 18, 28, 40]"
      ]
     },
     "execution_count": 78,
     "metadata": {},
     "output_type": "execute_result"
    }
   ],
   "source": [
    "a = [1,2,3,4,5]\n",
    "b = [4,5,6,7,8]\n",
    "\n",
    "jax.tree_util.tree_map(lambda x, y: x * y, a, b)"
   ]
  }
 ],
 "metadata": {
  "kernelspec": {
   "display_name": ".venv",
   "language": "python",
   "name": "python3"
  },
  "language_info": {
   "codemirror_mode": {
    "name": "ipython",
    "version": 3
   },
   "file_extension": ".py",
   "mimetype": "text/x-python",
   "name": "python",
   "nbconvert_exporter": "python",
   "pygments_lexer": "ipython3",
   "version": "3.10.12"
  }
 },
 "nbformat": 4,
 "nbformat_minor": 2
}
