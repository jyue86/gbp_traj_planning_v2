{
 "cells": [
  {
   "cell_type": "code",
   "execution_count": 1,
   "metadata": {},
   "outputs": [],
   "source": [
    "from sys import path\n",
    "path.append(\"../\")"
   ]
  },
  {
   "cell_type": "code",
   "execution_count": 2,
   "metadata": {},
   "outputs": [],
   "source": [
    "import jax\n",
    "import jax.numpy as jnp\n",
    "from flax.struct import dataclass \n",
    "\n",
    "from abc import abstractmethod"
   ]
  },
  {
   "cell_type": "code",
   "execution_count": 3,
   "metadata": {},
   "outputs": [],
   "source": [
    "from fg import Gaussian"
   ]
  },
  {
   "cell_type": "markdown",
   "metadata": {},
   "source": [
    "# Inter Robot"
   ]
  },
  {
   "cell_type": "code",
   "execution_count": 4,
   "metadata": {},
   "outputs": [
    {
     "data": {
      "text/plain": [
       "(Array([[[1. , 1. ],\n",
       "         [2. , 2. ],\n",
       "         [3. , 3. ],\n",
       "         [4. , 4. ]],\n",
       " \n",
       "        [[1.1, 1.1],\n",
       "         [2.1, 2.1],\n",
       "         [3.1, 3.1],\n",
       "         [4.1, 4.1]],\n",
       " \n",
       "        [[1.3, 1.3],\n",
       "         [2.3, 2.3],\n",
       "         [3.3, 3.3],\n",
       "         [4.3, 4.3]]], dtype=float32, weak_type=True),\n",
       " (3, 4, 2))"
      ]
     },
     "execution_count": 4,
     "metadata": {},
     "output_type": "execute_result"
    }
   ],
   "source": [
    "x = jnp.array([\n",
    "    [1,1],\n",
    "    [2,2],\n",
    "    [3,3],\n",
    "    [4,4]\n",
    "])\n",
    "states = jnp.stack((x, x + 0.1, x + 0.3))\n",
    "states, states.shape"
   ]
  },
  {
   "cell_type": "code",
   "execution_count": 5,
   "metadata": {},
   "outputs": [],
   "source": [
    "@dataclass\n",
    "class InterRobotMapping:\n",
    "    points: jnp.ndarray\n",
    "    other_robot: int"
   ]
  },
  {
   "cell_type": "code",
   "execution_count": 6,
   "metadata": {},
   "outputs": [
    {
     "name": "stdout",
     "output_type": "stream",
     "text": [
      "other pts: [[1.1 1.1]\n",
      " [1.3 1.3]]\n",
      "other pts: [[1.  1. ]\n",
      " [1.3 1.3]]\n",
      "other pts: [[1.  1. ]\n",
      " [1.1 1.1]]\n",
      "other pts: [[2.1 2.1]\n",
      " [2.3 2.3]]\n",
      "other pts: [[2.  2. ]\n",
      " [2.3 2.3]]\n",
      "other pts: [[2.  2. ]\n",
      " [2.1 2.1]]\n",
      "other pts: [[3.1 3.1]\n",
      " [3.3 3.3]]\n",
      "other pts: [[3.  3. ]\n",
      " [3.3 3.3]]\n",
      "other pts: [[3.  3. ]\n",
      " [3.1 3.1]]\n",
      "other pts: [[4.1 4.1]\n",
      " [4.3 4.3]]\n",
      "other pts: [[4.  4. ]\n",
      " [4.3 4.3]]\n",
      "other pts: [[4.  4. ]\n",
      " [4.1 4.1]]\n"
     ]
    },
    {
     "data": {
      "text/plain": [
       "InterRobotMapping(points=Array([[[1.1, 1.1],\n",
       "        [2.1, 2.1],\n",
       "        [3.1, 3.1],\n",
       "        [4.1, 4.1]],\n",
       "\n",
       "       [[1. , 1. ],\n",
       "        [2. , 2. ],\n",
       "        [3. , 3. ],\n",
       "        [4. , 4. ]],\n",
       "\n",
       "       [[1.1, 1.1],\n",
       "        [2.1, 2.1],\n",
       "        [3.1, 3.1],\n",
       "        [4.1, 4.1]]], dtype=float32, weak_type=True), other_robot=Array([[0, 0, 0, 0],\n",
       "       [0, 0, 0, 0],\n",
       "       [1, 1, 1, 1]], dtype=int32))"
      ]
     },
     "execution_count": 6,
     "metadata": {},
     "output_type": "execute_result"
    }
   ],
   "source": [
    "def find_closest_robot(pts: jnp.ndarray):\n",
    "    def find_closest_pt_across_horizon(pt, other_pts):\n",
    "        jax.debug.print(\"other pts: {}\", other_pts)\n",
    "        closest_index = jnp.argmin(jnp.linalg.norm(pt - other_pts, axis=1))\n",
    "        return InterRobotMapping(other_pts[closest_index], closest_index)\n",
    "\n",
    "    def find_batched_closest_pt(pts, i):\n",
    "        other_pts = jnp.delete(pts, jnp.array([i]), assume_unique_indices=True, axis=0) # (N - 1, 4, 2)\n",
    "        return jax.vmap(find_closest_pt_across_horizon, in_axes=(0, 1))(pts[i], other_pts)\n",
    "    return jax.vmap(find_batched_closest_pt, in_axes=(None, 0))(pts, jnp.arange(pts.shape[0]))\n",
    "closest_robots = find_closest_robot(states[:,:,0:2]) # ideally, should be # (N - 1, 4, 2)\n",
    "closest_robots"
   ]
  },
  {
   "cell_type": "code",
   "execution_count": 24,
   "metadata": {},
   "outputs": [
    {
     "data": {
      "text/plain": [
       "Gaussian(info=Array([      0.   , -106666.664,       0.   ,       0.   ,       0.   ,\n",
       "        106666.664,       0.   ,       0.   ], dtype=float32), precision=Array([[     0.  ,      0.  ,      0.  ,      0.  ,      0.  ,      0.  ,\n",
       "             0.  ,      0.  ],\n",
       "       [     0.  ,  71111.12,      0.  ,      0.  ,      0.  , -71111.12,\n",
       "             0.  ,      0.  ],\n",
       "       [     0.  ,      0.  ,      0.  ,      0.  ,      0.  ,      0.  ,\n",
       "             0.  ,      0.  ],\n",
       "       [     0.  ,      0.  ,      0.  ,      0.  ,      0.  ,      0.  ,\n",
       "             0.  ,      0.  ],\n",
       "       [     0.  ,      0.  ,      0.  ,      0.  ,      0.  ,      0.  ,\n",
       "             0.  ,      0.  ],\n",
       "       [     0.  , -71111.12,      0.  ,      0.  ,      0.  ,  71111.12,\n",
       "             0.  ,      0.  ],\n",
       "       [     0.  ,      0.  ,      0.  ,      0.  ,      0.  ,      0.  ,\n",
       "             0.  ,      0.  ],\n",
       "       [     0.  ,      0.  ,      0.  ,      0.  ,      0.  ,      0.  ,\n",
       "             0.  ,      0.  ]], dtype=float32), dims=Array([  1.,   1.,   1.,   1., 100., 100., 100., 100.], dtype=float32))"
      ]
     },
     "execution_count": 24,
     "metadata": {},
     "output_type": "execute_result"
    }
   ],
   "source": [
    "N_STATES = 4\n",
    "POSE_NOISE = 1e-15\n",
    "DYNAMICS_NOISE = 0.005\n",
    "OBSTACLE_NOISE = 0.005\n",
    "INTER_ROBOT_NOISE = 0.005\n",
    "\n",
    "class Factor:\n",
    "    def __init__(\n",
    "        self, state: jnp.array, state_precision: jnp.ndarray, dims: jnp.array, linear: bool = True\n",
    "    ) -> None:\n",
    "        self._state = state\n",
    "        self._state_precision = state_precision\n",
    "        self._linear = linear\n",
    "        self._dims = dims\n",
    "\n",
    "    def calculate_likelihood(self) -> Gaussian:\n",
    "        return Gaussian(\n",
    "            self._calc_info(self._state, self._state_precision),\n",
    "            self._calc_precision(self._state, self._state_precision),\n",
    "            self._dims\n",
    "        )\n",
    "\n",
    "    @abstractmethod\n",
    "    def _calc_measurement(self, state: jnp.ndarray) -> jnp.ndarray:\n",
    "        pass\n",
    "\n",
    "    def _calc_info(self, state: jnp.ndarray, precision: jnp.ndarray) -> jnp.ndarray:\n",
    "        X = state\n",
    "        if self._linear:\n",
    "            eta = precision @ (jnp.zeros(N_STATES) - self._calc_measurement(state))\n",
    "        else:\n",
    "            J = jax.jacfwd(self._calc_measurement)(state)\n",
    "            eta = (J.T @ precision) @ (\n",
    "                (J @ X.reshape((-1,1))) + 0 - self._calc_measurement(state).reshape((-1,1))\n",
    "            )\n",
    "        return eta.squeeze()\n",
    "\n",
    "    def _calc_precision(self, state: jnp.ndarray, precision: jnp.ndarray) -> jnp.ndarray:\n",
    "        if self._linear:\n",
    "            return precision\n",
    "        else:\n",
    "            J = jax.jacfwd(self._calc_measurement)(state)\n",
    "            return J.T @ precision @ J\n",
    "\n",
    "class InterRobotFactor(Factor):\n",
    "    def __init__(\n",
    "        self,\n",
    "        state: jnp.ndarray,\n",
    "        agent_radius: float,\n",
    "        critical_distance: float,\n",
    "        t: jnp.ndarray, #ndarray just to hold time,\n",
    "        dims: jnp.ndarray,\n",
    "    ) -> None:\n",
    "        self._critical_distance = critical_distance\n",
    "        self._agent_radius = agent_radius\n",
    "        precision = jnp.pow(t * INTER_ROBOT_NOISE, -2) * jnp.eye(N_STATES)\n",
    "        super(InterRobotFactor, self).__init__(state, precision, dims, False)\n",
    "\n",
    "    def _calc_measurement(self, state: jnp.ndarray):\n",
    "        current_state = state[0:4]\n",
    "        other_state = state[4:]\n",
    "        dist = self._calc_dist(current_state, other_state)\n",
    "        measurement = jax.lax.select(\n",
    "            dist < self._critical_distance, jnp.full((4,), 1.0 - dist / self._critical_distance), jnp.zeros((4,)) \n",
    "        )\n",
    "        return measurement\n",
    "    \n",
    "    def _calc_dist(self, state: jnp.array, other_state: jnp.array):\n",
    "        return jnp.linalg.norm(state[0:2] - other_state[0:2])\n",
    "\n",
    "ir_factor =  InterRobotFactor(jnp.array([1.0, 2.0, 0.0, 0.0, 1.0, 3.0, 0.0, 0.0]), 0.2, 1.5, jnp.array([1.]), jnp.array([1., 1., 1., 1., 100., 100., 100., 100.]))\n",
    "ir_factor.calculate_likelihood()"
   ]
  },
  {
   "cell_type": "markdown",
   "metadata": {},
   "source": [
    "# Obstacle"
   ]
  },
  {
   "cell_type": "code",
   "execution_count": 5,
   "metadata": {},
   "outputs": [
    {
     "data": {
      "text/plain": [
       "(Array([[[1. , 1. ],\n",
       "         [1. , 1. ],\n",
       "         [4.2, 4.2],\n",
       "         [4.2, 4.2]],\n",
       " \n",
       "        [[1. , 1. ],\n",
       "         [1. , 1. ],\n",
       "         [4.2, 4.2],\n",
       "         [4.2, 4.2]],\n",
       " \n",
       "        [[1. , 1. ],\n",
       "         [1. , 1. ],\n",
       "         [4.2, 4.2],\n",
       "         [4.2, 4.2]]], dtype=float32),\n",
       " (3, 4, 2))"
      ]
     },
     "execution_count": 5,
     "metadata": {},
     "output_type": "execute_result"
    }
   ],
   "source": [
    "obstacle = jnp.array([\n",
    "    [4.2, 4.2],\n",
    "    [1.0, 1.0]\n",
    "])\n",
    "\n",
    "def find_closest_obstacle(states, obstacles):\n",
    "    def find_closest_obstacle_for_pt(state_t, obstacles):\n",
    "        closest_obstacle_idx = jnp.argmin(jnp.linalg.norm(state_t - obstacles, axis=1))\n",
    "        return obstacles[closest_obstacle_idx]\n",
    "    def batch_find_closest_obstacle(agent_states, obstacles):\n",
    "        return jax.vmap(find_closest_obstacle_for_pt, in_axes=(0, None))(agent_states, obstacles)\n",
    "    return jax.vmap(batch_find_closest_obstacle, in_axes=(0, None))(states, obstacles)\n",
    "closest_obstacle = find_closest_obstacle(states, obstacle)\n",
    "closest_obstacle, closest_obstacle.shape"
   ]
  }
 ],
 "metadata": {
  "kernelspec": {
   "display_name": ".venv",
   "language": "python",
   "name": "python3"
  },
  "language_info": {
   "codemirror_mode": {
    "name": "ipython",
    "version": 3
   },
   "file_extension": ".py",
   "mimetype": "text/x-python",
   "name": "python",
   "nbconvert_exporter": "python",
   "pygments_lexer": "ipython3",
   "version": "3.10.12"
  }
 },
 "nbformat": 4,
 "nbformat_minor": 2
}
