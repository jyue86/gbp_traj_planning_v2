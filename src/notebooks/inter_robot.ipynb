{
 "cells": [
  {
   "cell_type": "code",
   "execution_count": 19,
   "metadata": {},
   "outputs": [],
   "source": [
    "from sys import path\n",
    "path.append(\"../\")"
   ]
  },
  {
   "cell_type": "code",
   "execution_count": 20,
   "metadata": {},
   "outputs": [],
   "source": [
    "import jax\n",
    "import jax.numpy as jnp\n",
    "from flax.struct import dataclass \n",
    "\n",
    "from abc import abstractmethod"
   ]
  },
  {
   "cell_type": "code",
   "execution_count": 21,
   "metadata": {},
   "outputs": [],
   "source": [
    "from fg import Gaussian"
   ]
  },
  {
   "cell_type": "markdown",
   "metadata": {},
   "source": [
    "# Inter Robot"
   ]
  },
  {
   "cell_type": "code",
   "execution_count": 22,
   "metadata": {},
   "outputs": [
    {
     "data": {
      "text/plain": [
       "(Array([[[1. , 1. , 0. , 0. ],\n",
       "         [2. , 2. , 0. , 0. ],\n",
       "         [3. , 3. , 0. , 0. ],\n",
       "         [4. , 4. , 0. , 0. ]],\n",
       " \n",
       "        [[1.1, 1.1, 0. , 0. ],\n",
       "         [2.1, 2.1, 0. , 0. ],\n",
       "         [3.1, 3.1, 0. , 0. ],\n",
       "         [4.1, 4.1, 0. , 0. ]],\n",
       " \n",
       "        [[1.3, 1.3, 0. , 0. ],\n",
       "         [2.3, 2.3, 0. , 0. ],\n",
       "         [3.3, 3.3, 0. , 0. ],\n",
       "         [4.3, 4.3, 0. , 0. ]]], dtype=float32, weak_type=True),\n",
       " (3, 4, 4))"
      ]
     },
     "execution_count": 22,
     "metadata": {},
     "output_type": "execute_result"
    }
   ],
   "source": [
    "x = jnp.array([\n",
    "    [1,1],\n",
    "    [2,2],\n",
    "    [3,3],\n",
    "    [4,4]\n",
    "])\n",
    "states = jnp.stack((x, x + 0.1, x + 0.3))\n",
    "vels = jnp.zeros_like(states)\n",
    "states = jnp.concat((states, vels), axis=-1)\n",
    "states, states.shape"
   ]
  },
  {
   "cell_type": "code",
   "execution_count": 23,
   "metadata": {},
   "outputs": [
    {
     "data": {
      "text/plain": [
       "Array([[1, 1, 1, 1],\n",
       "       [0, 0, 0, 0],\n",
       "       [1, 1, 1, 1]], dtype=int32)"
      ]
     },
     "execution_count": 23,
     "metadata": {},
     "output_type": "execute_result"
    }
   ],
   "source": [
    "def find_closest_robot(states: jnp.ndarray):\n",
    "    def find_closest_robot_across_horizon(robot, other_robots):\n",
    "        closest_index = jnp.argmin(jnp.linalg.norm(robot[0:2] - other_robots[:,0:2], axis=1))\n",
    "        return closest_index\n",
    "\n",
    "    def find_batched_closest_robot(batch_states, i):\n",
    "        modified_states = batch_states.at[i].set(jnp.inf)\n",
    "        return jax.vmap(find_closest_robot_across_horizon, in_axes=(0, 1))(batch_states[i], modified_states)\n",
    "    return jax.vmap(find_batched_closest_robot, in_axes=(None, 0))(states, jnp.arange(states.shape[0]))\n",
    "closest_robots = find_closest_robot(states) # ideally, should be # (N - 1, 4, 2)\n",
    "closest_robots"
   ]
  },
  {
   "cell_type": "code",
   "execution_count": 38,
   "metadata": {},
   "outputs": [],
   "source": [
    "N_STATES = 4\n",
    "POSE_NOISE = 1e-15\n",
    "DYNAMICS_NOISE = 0.005\n",
    "OBSTACLE_NOISE = 0.005\n",
    "INTER_ROBOT_NOISE = 0.005\n",
    "\n",
    "class Factor:\n",
    "    def __init__(\n",
    "        self, state: jnp.array, state_precision: jnp.ndarray, dims: jnp.array, linear: bool = True\n",
    "    ) -> None:\n",
    "        self._state = state\n",
    "        self._state_precision = state_precision\n",
    "        self._linear = linear\n",
    "        self._dims = dims\n",
    "\n",
    "    def calculate_likelihood(self) -> Gaussian:\n",
    "        return Gaussian(\n",
    "            self._calc_info(self._state, self._state_precision),\n",
    "            self._calc_precision(self._state, self._state_precision),\n",
    "            self._dims\n",
    "        )\n",
    "\n",
    "    @abstractmethod\n",
    "    def _calc_measurement(self, state: jnp.ndarray) -> jnp.ndarray:\n",
    "        pass\n",
    "\n",
    "    def _calc_info(self, state: jnp.ndarray, precision: jnp.ndarray) -> jnp.ndarray:\n",
    "        X = state\n",
    "        if self._linear:\n",
    "            eta = precision @ (jnp.zeros(N_STATES) - self._calc_measurement(state))\n",
    "        else:\n",
    "            J = jax.jacfwd(self._calc_measurement)(state)\n",
    "            eta = (J.T @ precision) @ (\n",
    "                (J @ X.reshape((-1,1))) + 0 - self._calc_measurement(state).reshape((-1,1))\n",
    "            )\n",
    "        return eta.squeeze()\n",
    "\n",
    "    def _calc_precision(self, state: jnp.ndarray, precision: jnp.ndarray) -> jnp.ndarray:\n",
    "        if self._linear:\n",
    "            return precision\n",
    "        else:\n",
    "            J = jax.jacfwd(self._calc_measurement)(state)\n",
    "            return J.T @ precision @ J\n",
    "\n",
    "class InterRobotFactor:\n",
    "    def __init__(\n",
    "        self,\n",
    "        state: jnp.ndarray,\n",
    "        critical_distance: float,\n",
    "        t: jnp.ndarray, #ndarray just to hold time,\n",
    "        dims: jnp.ndarray,\n",
    "    ) -> None:\n",
    "        self._crit_distance = critical_distance\n",
    "        self._z_precision = 100\n",
    "\n",
    "        self._dist = self._calc_dist(state[0:4], state[4:])\n",
    "        dx, dy = (state[0] - state[4])/self._dist, (state[1] - state[5])/self._dist\n",
    "        self._J = jnp.array([[-dx/self._crit_distance, -dy/self._crit_distance, 0, 0,\n",
    "                              dx/self._crit_distance, dy/self._crit_distance, 0, 0]])\n",
    "\n",
    "        self._state = state\n",
    "        # self._precision = jnp.pow(t * INTER_ROBOT_NOISE, -2) * jnp.eye(N_STATES)\n",
    "        self._state_precision = self._z_precision * jnp.eye(1)\n",
    "        self._dims = dims\n",
    "    \n",
    "    def calculate_likelihood(self) -> Gaussian:\n",
    "        return Gaussian(\n",
    "            self._calc_info(self._state, self._state_precision),\n",
    "            self._calc_precision(self._state, self._state_precision),\n",
    "            self._dims\n",
    "        )\n",
    " \n",
    "    def _calc_dist(self, state: jnp.array, other_state: jnp.array):\n",
    "        return jnp.linalg.norm(state[0:2] - other_state[0:2]) \n",
    "    \n",
    "    def _calc_info(self, state: jnp.ndarray, state_precision: jnp.ndarray) -> jnp.ndarray:\n",
    "        def safe_fn():\n",
    "            return (state_precision @ state[jnp.newaxis,:]).squeeze()\n",
    "        def unsafe_fn():\n",
    "            return (self._J.T @ state_precision @ (self._J @ state[:,jnp.newaxis] - self._calc_measurement(state))).squeeze()\n",
    "        info = jax.lax.select(self._dist >= self._crit_distance, safe_fn(), unsafe_fn())\n",
    "        return info\n",
    "        \n",
    "    def _calc_precision(self, state: jnp.ndarray, state_precision: jnp.ndarray) -> jnp.ndarray:\n",
    "        unsafe_precision = self._J.T @ state_precision @ self._J \n",
    "        unsafe_precision = unsafe_precision.at[2:4,2:4].set(jnp.eye(2)).at[6:,6:].set(jnp.eye(2))\n",
    "\n",
    "        # Update A\n",
    "        unsafe_precision = unsafe_precision.at[:2,:2].set(unsafe_precision[0, 0])\n",
    "\n",
    "        # Update B\n",
    "        unsafe_precision = unsafe_precision.at[4:6,4:6].set(unsafe_precision[4,4])\n",
    "\n",
    "        # Update C\n",
    "        unsafe_precision = unsafe_precision.at[0:2, 4:6].set(unsafe_precision[0, 4])\n",
    "\n",
    "        # Update D\n",
    "        unsafe_precision = unsafe_precision.at[4:6, 0:2].set(unsafe_precision[4, 0])\n",
    "\n",
    "        precision = jax.lax.select(self._dist >= self._crit_distance, jnp.eye(8), unsafe_precision)\n",
    "        return precision @ precision.T\n",
    "\n",
    "    def _calc_measurement(self, state: jnp.ndarray):\n",
    "        current_state = state[0:4]\n",
    "        other_state = state[4:]\n",
    "        dist = self._calc_dist(current_state, other_state)\n",
    "        measurement = jax.lax.select(\n",
    "            dist < self._crit_distance, 1.0 - dist / self._crit_distance, 0.\n",
    "        )\n",
    "        return measurement"
   ]
  },
  {
   "cell_type": "code",
   "execution_count": 39,
   "metadata": {},
   "outputs": [
    {
     "data": {
      "text/plain": [
       "Gaussian(info=Array([-500.,    0.,   50.,    0.,  500.,    0.,  -50.,    0.], dtype=float32), precision=Array([[1., 0., 0., 0., 0., 0., 0., 0.],\n",
       "       [0., 1., 0., 0., 0., 0., 0., 0.],\n",
       "       [0., 0., 1., 0., 0., 0., 0., 0.],\n",
       "       [0., 0., 0., 1., 0., 0., 0., 0.],\n",
       "       [0., 0., 0., 0., 1., 0., 0., 0.],\n",
       "       [0., 0., 0., 0., 0., 1., 0., 0.],\n",
       "       [0., 0., 0., 0., 0., 0., 1., 0.],\n",
       "       [0., 0., 0., 0., 0., 0., 0., 1.]], dtype=float32), dims=Array([  1.,   1.,   1.,   1., 100., 100., 100., 100.], dtype=float32))"
      ]
     },
     "execution_count": 39,
     "metadata": {},
     "output_type": "execute_result"
    }
   ],
   "source": [
    "ir_factor =  InterRobotFactor(jnp.array([-5.0, 0., 0.5, 0.0, 5.0, 0.0, -0.5, 0.0]), 1.5, jnp.array([1.]), jnp.array([1., 1., 1., 1., 100., 100., 100., 100.]))\n",
    "g = ir_factor.calculate_likelihood()\n",
    "g"
   ]
  },
  {
   "cell_type": "code",
   "execution_count": 32,
   "metadata": {},
   "outputs": [
    {
     "data": {
      "text/plain": [
       "Gaussian(info=Array([500.,   0., -50.,   0.], dtype=float32), precision=Array([[1., 0., 0., 0.],\n",
       "       [0., 1., 0., 0.],\n",
       "       [0., 0., 1., 0.],\n",
       "       [0., 0., 0., 1.]], dtype=float32), dims=Array([100., 100., 100., 100.], dtype=float32))"
      ]
     },
     "execution_count": 32,
     "metadata": {},
     "output_type": "execute_result"
    }
   ],
   "source": [
    "g = g.marginalize(jnp.array([1., 1., 1., 1.]))\n",
    "g"
   ]
  },
  {
   "cell_type": "code",
   "execution_count": 33,
   "metadata": {},
   "outputs": [
    {
     "data": {
      "text/plain": [
       "Array([[1., 0., 0., 0.],\n",
       "       [0., 1., 0., 0.],\n",
       "       [0., 0., 1., 0.],\n",
       "       [0., 0., 0., 1.]], dtype=float32)"
      ]
     },
     "execution_count": 33,
     "metadata": {},
     "output_type": "execute_result"
    }
   ],
   "source": [
    "jnp.linalg.inv(g.precision)"
   ]
  },
  {
   "cell_type": "code",
   "execution_count": 34,
   "metadata": {},
   "outputs": [
    {
     "data": {
      "text/plain": [
       "Gaussian(info=Array([-66.66667,   0.     ,  -0.     ,  -0.     ,  66.66667,  -0.     ,\n",
       "        -0.     ,  -0.     ], dtype=float32), precision=Array([[ 3.9506184e+03,  0.0000000e+00,  0.0000000e+00,  0.0000000e+00,\n",
       "        -3.9506184e+03,  0.0000000e+00,  0.0000000e+00,  0.0000000e+00],\n",
       "       [ 0.0000000e+00,  0.0000000e+00,  0.0000000e+00,  0.0000000e+00,\n",
       "         0.0000000e+00,  0.0000000e+00,  0.0000000e+00,  0.0000000e+00],\n",
       "       [ 0.0000000e+00,  0.0000000e+00,  1.0000000e+00,  0.0000000e+00,\n",
       "         0.0000000e+00,  0.0000000e+00,  0.0000000e+00,  0.0000000e+00],\n",
       "       [ 0.0000000e+00,  0.0000000e+00,  0.0000000e+00,  1.0000000e+00,\n",
       "         0.0000000e+00,  0.0000000e+00,  0.0000000e+00,  0.0000000e+00],\n",
       "       [-3.9506184e+03,  0.0000000e+00,  0.0000000e+00,  0.0000000e+00,\n",
       "         3.9506184e+03,  0.0000000e+00,  0.0000000e+00,  0.0000000e+00],\n",
       "       [ 0.0000000e+00,  0.0000000e+00,  0.0000000e+00,  0.0000000e+00,\n",
       "         0.0000000e+00,  0.0000000e+00,  0.0000000e+00,  0.0000000e+00],\n",
       "       [ 0.0000000e+00,  0.0000000e+00,  0.0000000e+00,  0.0000000e+00,\n",
       "         0.0000000e+00,  0.0000000e+00,  1.0000000e+00,  0.0000000e+00],\n",
       "       [ 0.0000000e+00,  0.0000000e+00,  0.0000000e+00,  0.0000000e+00,\n",
       "         0.0000000e+00,  0.0000000e+00,  0.0000000e+00,  1.0000000e+00]],      dtype=float32), dims=Array([  1.,   1.,   1.,   1., 100., 100., 100., 100.], dtype=float32))"
      ]
     },
     "execution_count": 34,
     "metadata": {},
     "output_type": "execute_result"
    }
   ],
   "source": [
    "ir_factor =  InterRobotFactor(jnp.array([-0.1, 0., 0.1, 0.0, 0.1, 0.0, -0.1, 0.0]), 1.5, jnp.array([1.]), jnp.array([1., 1., 1., 1., 100., 100., 100., 100.]))\n",
    "g = ir_factor.calculate_likelihood()\n",
    "g"
   ]
  },
  {
   "cell_type": "code",
   "execution_count": 35,
   "metadata": {},
   "outputs": [
    {
     "data": {
      "text/plain": [
       "Gaussian(info=Array([0., 0., 0., 0.], dtype=float32), precision=Array([[0., 0., 0., 0.],\n",
       "       [0., 0., 0., 0.],\n",
       "       [0., 0., 0., 0.],\n",
       "       [0., 0., 0., 0.]], dtype=float32), dims=Array([100., 100., 100., 100.], dtype=float32))"
      ]
     },
     "execution_count": 35,
     "metadata": {},
     "output_type": "execute_result"
    }
   ],
   "source": [
    "g = g.marginalize(jnp.array([1., 1., 1., 1.]))\n",
    "g"
   ]
  },
  {
   "cell_type": "code",
   "execution_count": 37,
   "metadata": {},
   "outputs": [
    {
     "data": {
      "text/plain": [
       "Array([[nan, nan, nan, nan],\n",
       "       [nan, nan, nan, nan],\n",
       "       [nan, nan, nan, nan],\n",
       "       [nan, nan, nan, nan]], dtype=float32)"
      ]
     },
     "execution_count": 37,
     "metadata": {},
     "output_type": "execute_result"
    }
   ],
   "source": [
    "jnp.linalg.inv(g.precision)"
   ]
  },
  {
   "cell_type": "markdown",
   "metadata": {},
   "source": []
  },
  {
   "cell_type": "markdown",
   "metadata": {},
   "source": [
    "# Obstacle"
   ]
  },
  {
   "cell_type": "code",
   "execution_count": 12,
   "metadata": {},
   "outputs": [],
   "source": [
    "# obstacle = jnp.array([\n",
    "#     [4.2, 4.2],\n",
    "#     [1.0, 1.0]\n",
    "# ])\n",
    "\n",
    "# def find_closest_obstacle(states, obstacles):\n",
    "#     def find_closest_obstacle_for_pt(state_t, obstacles):\n",
    "#         closest_obstacle_idx = jnp.argmin(jnp.linalg.norm(state_t - obstacles, axis=1))\n",
    "#         return obstacles[closest_obstacle_idx]\n",
    "#     def batch_find_closest_obstacle(agent_states, obstacles):\n",
    "#         return jax.vmap(find_closest_obstacle_for_pt, in_axes=(0, None))(agent_states, obstacles)\n",
    "#     return jax.vmap(batch_find_closest_obstacle, in_axes=(0, None))(states, obstacles)\n",
    "# closest_obstacle = find_closest_obstacle(states, obstacle)\n",
    "# closest_obstacle, closest_obstacle.shape"
   ]
  },
  {
   "cell_type": "markdown",
   "metadata": {},
   "source": [
    "# Random"
   ]
  },
  {
   "cell_type": "code",
   "execution_count": 13,
   "metadata": {},
   "outputs": [
    {
     "data": {
      "text/plain": [
       "Array([[ 3,  6,  9, 12, 15, 18],\n",
       "       [21, 24, 27, 30, 33, 36]], dtype=int32)"
      ]
     },
     "execution_count": 13,
     "metadata": {},
     "output_type": "execute_result"
    }
   ],
   "source": [
    "x = jnp.array([[1,2,3,4,5,6], [7,8,9,10,11,12]])\n",
    "y = x * 2\n",
    "x + y"
   ]
  },
  {
   "cell_type": "code",
   "execution_count": 14,
   "metadata": {},
   "outputs": [
    {
     "data": {
      "text/plain": [
       "Array([[12, 14, 16, 18],\n",
       "       [28, 30, 32, 34],\n",
       "       [44, 46, 48, 50]], dtype=int32)"
      ]
     },
     "execution_count": 14,
     "metadata": {},
     "output_type": "execute_result"
    }
   ],
   "source": [
    "x = jnp.arange(32).reshape((8,4))\n",
    "x[1:-1:2] + x[2:-1:2]"
   ]
  },
  {
   "cell_type": "code",
   "execution_count": 15,
   "metadata": {},
   "outputs": [
    {
     "data": {
      "text/plain": [
       "(Array([[ 4,  5,  6,  7],\n",
       "        [12, 13, 14, 15],\n",
       "        [20, 21, 22, 23]], dtype=int32),\n",
       " Array([[ 8,  9, 10, 11],\n",
       "        [16, 17, 18, 19],\n",
       "        [24, 25, 26, 27]], dtype=int32))"
      ]
     },
     "execution_count": 15,
     "metadata": {},
     "output_type": "execute_result"
    }
   ],
   "source": [
    "x[1:-1:2], x[2:-1:2]"
   ]
  },
  {
   "cell_type": "code",
   "execution_count": 18,
   "metadata": {},
   "outputs": [
    {
     "data": {
      "text/plain": [
       "(Array([[1., 1., 0., 0., 1., 1., 0., 0.],\n",
       "        [1., 1., 0., 0., 1., 1., 0., 0.],\n",
       "        [0., 0., 1., 0., 0., 0., 0., 0.],\n",
       "        [0., 0., 0., 1., 0., 0., 0., 0.],\n",
       "        [1., 1., 0., 0., 1., 1., 0., 0.],\n",
       "        [1., 1., 0., 0., 1., 1., 0., 0.],\n",
       "        [0., 0., 0., 0., 0., 0., 1., 0.],\n",
       "        [0., 0., 0., 0., 0., 0., 0., 1.]], dtype=float32),\n",
       " Array([[nan, nan, nan, nan, nan, nan, nan, nan],\n",
       "        [nan, nan, nan, nan, nan, nan, nan, nan],\n",
       "        [nan, nan, nan, nan, nan, nan, nan, nan],\n",
       "        [nan, nan, nan, nan, nan, nan, nan, nan],\n",
       "        [nan, nan, nan, nan, nan, nan, nan, nan],\n",
       "        [nan, nan, nan, nan, nan, nan, nan, nan],\n",
       "        [ 0.,  0.,  0.,  0.,  0.,  0.,  1.,  0.],\n",
       "        [ 0.,  0.,  0.,  0.,  0.,  0.,  0.,  1.]], dtype=float32))"
      ]
     },
     "execution_count": 18,
     "metadata": {},
     "output_type": "execute_result"
    }
   ],
   "source": [
    "x = jnp.eye(8)\n",
    "A = x[0:2,0:2]\n",
    "B = x[0:2,4:6]\n",
    "C = x[4:6,0:2]\n",
    "D = x[4:6,4:6]\n",
    "x = x.at[0:2,0:2].set(jnp.where(A == 0, 1.0, A))\n",
    "x = x.at[0:2,4:6].set(jnp.where(B == 0, 1.0, B))\n",
    "x = x.at[4:6,0:2].set(jnp.where(C == 0, 1.0, C))\n",
    "x = x.at[4:6,4:6].set(jnp.where(D == 0, 1.0, D))\n",
    "x, jnp.linalg.inv(x)"
   ]
  }
 ],
 "metadata": {
  "kernelspec": {
   "display_name": ".venv",
   "language": "python",
   "name": "python3"
  },
  "language_info": {
   "codemirror_mode": {
    "name": "ipython",
    "version": 3
   },
   "file_extension": ".py",
   "mimetype": "text/x-python",
   "name": "python",
   "nbconvert_exporter": "python",
   "pygments_lexer": "ipython3",
   "version": "3.10.12"
  }
 },
 "nbformat": 4,
 "nbformat_minor": 2
}
