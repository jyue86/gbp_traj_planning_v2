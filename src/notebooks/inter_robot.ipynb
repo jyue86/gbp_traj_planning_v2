{
 "cells": [
  {
   "cell_type": "code",
   "execution_count": 2,
   "metadata": {},
   "outputs": [],
   "source": [
    "import jax\n",
    "import jax.numpy as jnp\n",
    "from flax.struct import dataclass "
   ]
  },
  {
   "cell_type": "code",
   "execution_count": 6,
   "metadata": {},
   "outputs": [
    {
     "data": {
      "text/plain": [
       "(Array([[[1. , 1. ],\n",
       "         [2. , 2. ],\n",
       "         [3. , 3. ],\n",
       "         [4. , 4. ]],\n",
       " \n",
       "        [[1.1, 1.1],\n",
       "         [2.1, 2.1],\n",
       "         [3.1, 3.1],\n",
       "         [4.1, 4.1]],\n",
       " \n",
       "        [[1.3, 1.3],\n",
       "         [2.3, 2.3],\n",
       "         [3.3, 3.3],\n",
       "         [4.3, 4.3]]], dtype=float32, weak_type=True),\n",
       " (3, 4, 2))"
      ]
     },
     "execution_count": 6,
     "metadata": {},
     "output_type": "execute_result"
    }
   ],
   "source": [
    "x = jnp.array([\n",
    "    [1,1],\n",
    "    [2,2],\n",
    "    [3,3],\n",
    "    [4,4]\n",
    "])\n",
    "pts = jnp.stack((x, x + 0.1, x + 0.3))\n",
    "pts, pts.shape"
   ]
  },
  {
   "cell_type": "code",
   "execution_count": 14,
   "metadata": {},
   "outputs": [
    {
     "data": {
      "text/plain": [
       "Array([[[-0.10000002, -0.10000002],\n",
       "        [-0.0999999 , -0.0999999 ],\n",
       "        [-0.0999999 , -0.0999999 ],\n",
       "        [-0.0999999 , -0.0999999 ]],\n",
       "\n",
       "       [[-0.29999995, -0.29999995],\n",
       "        [-0.29999995, -0.29999995],\n",
       "        [-0.29999995, -0.29999995],\n",
       "        [-0.3000002 , -0.3000002 ]]], dtype=float32, weak_type=True)"
      ]
     },
     "execution_count": 14,
     "metadata": {},
     "output_type": "execute_result"
    }
   ],
   "source": [
    "# (2,4,2)\n",
    "pts[0] - jnp.concat((pts[:0], pts[1:]))"
   ]
  },
  {
   "cell_type": "code",
   "execution_count": 20,
   "metadata": {},
   "outputs": [
    {
     "data": {
      "text/plain": [
       "Array([0, 0, 0, 0], dtype=int32)"
      ]
     },
     "execution_count": 20,
     "metadata": {},
     "output_type": "execute_result"
    }
   ],
   "source": [
    "jnp.argmin(jnp.linalg.norm(pts[0] - jnp.concat((pts[:0], pts[1:])), axis=2), axis=0)"
   ]
  },
  {
   "cell_type": "code",
   "execution_count": 23,
   "metadata": {},
   "outputs": [
    {
     "data": {
      "text/plain": [
       "Array([[[1.1, 1.1],\n",
       "        [1.1, 1.1],\n",
       "        [1.1, 1.1],\n",
       "        [1.1, 1.1]],\n",
       "\n",
       "       [[1.3, 1.3],\n",
       "        [1.3, 1.3],\n",
       "        [1.3, 1.3],\n",
       "        [1.3, 1.3]]], dtype=float32, weak_type=True)"
      ]
     },
     "execution_count": 23,
     "metadata": {},
     "output_type": "execute_result"
    }
   ],
   "source": [
    "jnp.concat((pts[:0], pts[1:]))[:,jnp.array([0, 0, 0, 0])]"
   ]
  },
  {
   "cell_type": "code",
   "execution_count": 24,
   "metadata": {},
   "outputs": [
    {
     "data": {
      "text/plain": [
       "Array([[1., 1.],\n",
       "       [2., 2.],\n",
       "       [3., 3.],\n",
       "       [4., 4.]], dtype=float32, weak_type=True)"
      ]
     },
     "execution_count": 24,
     "metadata": {},
     "output_type": "execute_result"
    }
   ],
   "source": [
    "pts[0]"
   ]
  },
  {
   "cell_type": "code",
   "execution_count": 26,
   "metadata": {},
   "outputs": [
    {
     "ename": "TypeError",
     "evalue": "object of type 'int' has no len()",
     "output_type": "error",
     "traceback": [
      "\u001b[0;31m---------------------------------------------------------------------------\u001b[0m",
      "\u001b[0;31mTypeError\u001b[0m                                 Traceback (most recent call last)",
      "Cell \u001b[0;32mIn[26], line 10\u001b[0m\n\u001b[1;32m      8\u001b[0m     \u001b[38;5;28;01mreturn\u001b[39;00m pts, closest_pts \n\u001b[1;32m      9\u001b[0m n_agents \u001b[38;5;241m=\u001b[39m pts\u001b[38;5;241m.\u001b[39mshape[\u001b[38;5;241m0\u001b[39m]\n\u001b[0;32m---> 10\u001b[0m _, closest_pt \u001b[38;5;241m=\u001b[39m \u001b[43mjax\u001b[49m\u001b[38;5;241;43m.\u001b[39;49m\u001b[43mlax\u001b[49m\u001b[38;5;241;43m.\u001b[39;49m\u001b[43mscan\u001b[49m\u001b[43m(\u001b[49m\u001b[43mfind_closest_pt\u001b[49m\u001b[43m,\u001b[49m\u001b[43m \u001b[49m\u001b[43mpts\u001b[49m\u001b[43m,\u001b[49m\u001b[43m \u001b[49m\u001b[43mjnp\u001b[49m\u001b[38;5;241;43m.\u001b[39;49m\u001b[43marange\u001b[49m\u001b[43m(\u001b[49m\u001b[43mn_agents\u001b[49m\u001b[43m)\u001b[49m\u001b[43m)\u001b[49m\n\u001b[1;32m     11\u001b[0m closest_pt, closest_pt\u001b[38;5;241m.\u001b[39mshape\n",
      "    \u001b[0;31m[... skipping hidden 9 frame]\u001b[0m\n",
      "Cell \u001b[0;32mIn[26], line 2\u001b[0m, in \u001b[0;36mfind_closest_pt\u001b[0;34m(pts, i)\u001b[0m\n\u001b[1;32m      1\u001b[0m \u001b[38;5;28;01mdef\u001b[39;00m \u001b[38;5;21mfind_closest_pt\u001b[39m(pts, i):\n\u001b[0;32m----> 2\u001b[0m     other_pts \u001b[38;5;241m=\u001b[39m jnp\u001b[38;5;241m.\u001b[39mconcat((\u001b[43mjax\u001b[49m\u001b[38;5;241;43m.\u001b[39;49m\u001b[43mlax\u001b[49m\u001b[38;5;241;43m.\u001b[39;49m\u001b[43mdynamic_slice\u001b[49m\u001b[43m(\u001b[49m\u001b[43mpts\u001b[49m\u001b[43m,\u001b[49m\u001b[43m \u001b[49m\u001b[38;5;241;43m0\u001b[39;49m\u001b[43m,\u001b[49m\u001b[43m \u001b[49m\u001b[43mi\u001b[49m\u001b[43m)\u001b[49m, jax\u001b[38;5;241m.\u001b[39mlax\u001b[38;5;241m.\u001b[39mdynamic_slice(pts, i\u001b[38;5;241m+\u001b[39m\u001b[38;5;241m1\u001b[39m)))\n\u001b[1;32m      3\u001b[0m     dists \u001b[38;5;241m=\u001b[39m jnp\u001b[38;5;241m.\u001b[39mlinalg\u001b[38;5;241m.\u001b[39mnorm(pts[i] \u001b[38;5;241m-\u001b[39m other_pts, axis\u001b[38;5;241m=\u001b[39m\u001b[38;5;241m2\u001b[39m)\n\u001b[1;32m      4\u001b[0m     closest_pts_indices \u001b[38;5;241m=\u001b[39m jnp\u001b[38;5;241m.\u001b[39margmin(dists, axis\u001b[38;5;241m=\u001b[39m\u001b[38;5;241m0\u001b[39m)\n",
      "    \u001b[0;31m[... skipping hidden 1 frame]\u001b[0m\n",
      "File \u001b[0;32m~/Documents/gbp2_traj_planning/.venv/lib/python3.10/site-packages/jax/_src/lax/slicing.py:2574\u001b[0m, in \u001b[0;36m_dynamic_slice_indices\u001b[0;34m(operand, start_indices)\u001b[0m\n\u001b[1;32m   2569\u001b[0m \u001b[38;5;28;01mdef\u001b[39;00m \u001b[38;5;21m_dynamic_slice_indices\u001b[39m(\n\u001b[1;32m   2570\u001b[0m     operand: Array \u001b[38;5;241m|\u001b[39m np\u001b[38;5;241m.\u001b[39mndarray,\n\u001b[1;32m   2571\u001b[0m     start_indices: Array \u001b[38;5;241m|\u001b[39m np\u001b[38;5;241m.\u001b[39mndarray \u001b[38;5;241m|\u001b[39m Sequence[ArrayLike]\n\u001b[1;32m   2572\u001b[0m   ) \u001b[38;5;241m-\u001b[39m\u001b[38;5;241m>\u001b[39m \u001b[38;5;28mlist\u001b[39m[ArrayLike]:\n\u001b[1;32m   2573\u001b[0m   \u001b[38;5;66;03m# Normalize the start_indices w.r.t. operand.shape\u001b[39;00m\n\u001b[0;32m-> 2574\u001b[0m   \u001b[38;5;28;01mif\u001b[39;00m \u001b[38;5;28;43mlen\u001b[39;49m\u001b[43m(\u001b[49m\u001b[43mstart_indices\u001b[49m\u001b[43m)\u001b[49m \u001b[38;5;241m!=\u001b[39m operand\u001b[38;5;241m.\u001b[39mndim:\n\u001b[1;32m   2575\u001b[0m     msg \u001b[38;5;241m=\u001b[39m (\u001b[38;5;124m\"\u001b[39m\u001b[38;5;124mLength of slice indices must match number of operand dimensions (\u001b[39m\u001b[38;5;132;01m{}\u001b[39;00m\u001b[38;5;124m \u001b[39m\u001b[38;5;124m\"\u001b[39m\n\u001b[1;32m   2576\u001b[0m           \u001b[38;5;124m\"\u001b[39m\u001b[38;5;124mvs \u001b[39m\u001b[38;5;132;01m{}\u001b[39;00m\u001b[38;5;124m)\u001b[39m\u001b[38;5;124m\"\u001b[39m)\n\u001b[1;32m   2577\u001b[0m     \u001b[38;5;28;01mraise\u001b[39;00m \u001b[38;5;167;01mValueError\u001b[39;00m(msg\u001b[38;5;241m.\u001b[39mformat(\u001b[38;5;28mlen\u001b[39m(start_indices), operand\u001b[38;5;241m.\u001b[39mshape))\n",
      "\u001b[0;31mTypeError\u001b[0m: object of type 'int' has no len()"
     ]
    }
   ],
   "source": [
    "def find_closest_pt(pts, i):\n",
    "    other_pts = jnp.concat((jax.lax.dynamic_slice(pts, (0, i)), jax.lax.dynamic_slice(pts, i+1)))\n",
    "    dists = jnp.linalg.norm(pts[i] - other_pts, axis=2)\n",
    "    closest_pts_indices = jnp.argmin(dists, axis=0)\n",
    "    # closest_pts = dists[closest_pts_indices]\n",
    "    closest_pts = jax.lax.dynamic_slice_in_dim(other_pts, closest_pts_indices) \n",
    "    \n",
    "    return pts, closest_pts \n",
    "n_agents = pts.shape[0]\n",
    "_, closest_pt = jax.lax.scan(find_closest_pt, pts, jnp.arange(n_agents))\n",
    "closest_pt, closest_pt.shape"
   ]
  },
  {
   "cell_type": "code",
   "execution_count": null,
   "metadata": {},
   "outputs": [],
   "source": []
  }
 ],
 "metadata": {
  "kernelspec": {
   "display_name": ".venv",
   "language": "python",
   "name": "python3"
  },
  "language_info": {
   "codemirror_mode": {
    "name": "ipython",
    "version": 3
   },
   "file_extension": ".py",
   "mimetype": "text/x-python",
   "name": "python",
   "nbconvert_exporter": "python",
   "pygments_lexer": "ipython3",
   "version": "3.10.12"
  }
 },
 "nbformat": 4,
 "nbformat_minor": 2
}
