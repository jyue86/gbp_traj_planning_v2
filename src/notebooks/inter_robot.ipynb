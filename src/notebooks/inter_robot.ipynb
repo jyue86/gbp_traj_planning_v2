{
 "cells": [
  {
   "cell_type": "code",
   "execution_count": 16,
   "metadata": {},
   "outputs": [],
   "source": [
    "from sys import path\n",
    "path.append(\"../\")"
   ]
  },
  {
   "cell_type": "code",
   "execution_count": 17,
   "metadata": {},
   "outputs": [],
   "source": [
    "import jax\n",
    "import jax.numpy as jnp\n",
    "from flax.struct import dataclass \n",
    "\n",
    "from abc import abstractmethod"
   ]
  },
  {
   "cell_type": "code",
   "execution_count": 18,
   "metadata": {},
   "outputs": [],
   "source": [
    "@dataclass\n",
    "class Gaussian:\n",
    "    info: jnp.ndarray\n",
    "    precision: jnp.ndarray\n",
    "    dims: jnp.ndarray \n",
    "\n",
    "    @property\n",
    "    def shape(self):\n",
    "        return {\n",
    "            \"info\": self.info.shape,\n",
    "            \"precision\": self.precision.shape,\n",
    "            \"dims\": self.dims.shape\n",
    "        }\n",
    " \n",
    "    @property\n",
    "    def mean(self) -> jnp.ndarray:\n",
    "        return jnp.linalg.inv(self.precision) @ self.info\n",
    "    \n",
    "    @property\n",
    "    def covariance(self) -> jnp.ndarray:\n",
    "        return jnp.linalg.inv(self.precision)\n",
    "    \n",
    "    @staticmethod\n",
    "    def identity(variable: int) -> jnp.ndarray:\n",
    "        dims = jnp.array([variable, variable, variable, variable])\n",
    "        return Gaussian(jnp.zeros(4), jnp.eye(4), dims)\n",
    "    \n",
    "    def __call__(self, x: jnp.ndarray) -> float:\n",
    "        return 1/2 * x.T @ self.precision @ x - self.info.T @ x\n",
    "\n",
    "    def __getitem__(self, index) -> \"Gaussian\":\n",
    "        return Gaussian(self.info[index], self.precision[index], self.dims[index])\n",
    "\n",
    "    def __mul__(self, other: 'Gaussian') -> 'Gaussian':\n",
    "        if other is None:\n",
    "            return self.copy()\n",
    "        \n",
    "        dims = self.dims.copy()\n",
    "        other_dims = other.dims.copy()\n",
    "        other_unique_val = jnp.unique(other_dims, size=other_dims.shape[0]//4)[0]\n",
    "        \n",
    "        if dims.shape[0] == other_dims.shape[0] and (dims == other_dims).sum() == dims.shape[0]:\n",
    "            idxs_self = idxs_other = jnp.arange(len(dims))\n",
    "        elif dims.shape[0] == 8:\n",
    "            idxs_self = jnp.arange(len(dims), dtype=int)\n",
    "            idxs_other = jnp.where(dims == other_unique_val, size=4)[0]\n",
    "        else:\n",
    "            idxs_self = jnp.arange(len(dims), dtype=int)\n",
    "            idxs_other = jnp.arange(len(dims), len(dims) + len(other_dims))\n",
    "            dims = jnp.concatenate((dims, other_dims))\n",
    "        \n",
    "        # Extend self matrix\n",
    "        prec_self = jnp.zeros((len(dims), len(dims)))\n",
    "        info_self = jnp.zeros((len(dims), 1))\n",
    "        \n",
    "        prec_self = prec_self.at[jnp.ix_(idxs_self, idxs_self)].set(self.precision)\n",
    "        info_self = info_self.at[jnp.ix_(idxs_self, jnp.zeros(1, dtype=int))].set(self.info.reshape(len(self.dims), 1))\n",
    "        # Extend other matrix\n",
    "        prec_other = jnp.zeros((len(dims), len(dims)))\n",
    "        info_other = jnp.zeros((len(dims), 1))\n",
    "        \n",
    "        prec_other = prec_other.at[jnp.ix_(idxs_other, idxs_other)].set(other.precision)\n",
    "        info_other = info_other.at[jnp.ix_(idxs_other, jnp.zeros((1), dtype=int))].set(other.info.reshape(len(other.dims), 1))\n",
    "        # Add\n",
    "        prec = prec_other + prec_self\n",
    "        info = info_other + info_self\n",
    "        return Gaussian(info, prec, dims.astype(float))\n",
    "    \n",
    "    def marginalize(self, dims_to_remove) -> \"Gaussian\":\n",
    "        info, prec = self.info.reshape(-1, 1), self.precision\n",
    "        \n",
    "        axis_a = jnp.where(self.dims != dims_to_remove[0], size=4)[0]\n",
    "        axis_b = jax.lax.select(axis_a[0] == 0, jnp.arange(4, 8), jnp.arange(4))\n",
    "\n",
    "        info_a = info[jnp.ix_(axis_a, jnp.zeros((1,), dtype=int))]\n",
    "        prec_aa = prec[jnp.ix_(axis_a, axis_a)]\n",
    "        info_b = info[jnp.ix_(axis_b, jnp.zeros((1, ), dtype=int))]\n",
    "        prec_ab = prec[jnp.ix_(axis_a, axis_b)]\n",
    "        prec_ba = prec[jnp.ix_(axis_b, axis_a)]\n",
    "        prec_bb = prec[jnp.ix_(axis_b, axis_b)]\n",
    "\n",
    "        prec_bb_inv = jnp.linalg.inv(prec_bb)\n",
    "        info_ = info_a - prec_ab @ prec_bb_inv @ info_b\n",
    "        prec_ = prec_aa - prec_ab @ prec_bb_inv @ prec_ba\n",
    "\n",
    "        new_dims = jnp.full(4, self.dims[axis_a[0]])\n",
    "        return Gaussian(info_.flatten(), prec_, new_dims)"
   ]
  },
  {
   "cell_type": "markdown",
   "metadata": {},
   "source": [
    "# Inter Robot"
   ]
  },
  {
   "cell_type": "code",
   "execution_count": 4,
   "metadata": {},
   "outputs": [
    {
     "data": {
      "text/plain": [
       "(Array([[[1. , 1. , 0. , 0. ],\n",
       "         [2. , 2. , 0. , 0. ],\n",
       "         [3. , 3. , 0. , 0. ],\n",
       "         [4. , 4. , 0. , 0. ]],\n",
       " \n",
       "        [[1.1, 1.1, 0. , 0. ],\n",
       "         [2.1, 2.1, 0. , 0. ],\n",
       "         [3.1, 3.1, 0. , 0. ],\n",
       "         [4.1, 4.1, 0. , 0. ]],\n",
       " \n",
       "        [[1.3, 1.3, 0. , 0. ],\n",
       "         [2.3, 2.3, 0. , 0. ],\n",
       "         [3.3, 3.3, 0. , 0. ],\n",
       "         [4.3, 4.3, 0. , 0. ]]], dtype=float32, weak_type=True),\n",
       " (3, 4, 4))"
      ]
     },
     "execution_count": 4,
     "metadata": {},
     "output_type": "execute_result"
    }
   ],
   "source": [
    "x = jnp.array([\n",
    "    [1,1],\n",
    "    [2,2],\n",
    "    [3,3],\n",
    "    [4,4]\n",
    "])\n",
    "states = jnp.stack((x, x + 0.1, x + 0.3))\n",
    "vels = jnp.zeros_like(states)\n",
    "states = jnp.concat((states, vels), axis=-1)\n",
    "states, states.shape"
   ]
  },
  {
   "cell_type": "code",
   "execution_count": 31,
   "metadata": {},
   "outputs": [
    {
     "data": {
      "text/plain": [
       "Array([[1, 1, 1, 1],\n",
       "       [0, 0, 0, 0],\n",
       "       [1, 1, 1, 1]], dtype=int32)"
      ]
     },
     "execution_count": 31,
     "metadata": {},
     "output_type": "execute_result"
    }
   ],
   "source": [
    "def find_closest_robot(states: jnp.ndarray):\n",
    "    def find_closest_robot_across_horizon(robot, other_robots):\n",
    "        closest_index = jnp.argmin(jnp.linalg.norm(robot[0:2] - other_robots[:,0:2], axis=1))\n",
    "        return closest_index\n",
    "\n",
    "    def find_batched_closest_robot(batch_states, i):\n",
    "        modified_states = batch_states.at[i].set(jnp.inf)\n",
    "        return jax.vmap(find_closest_robot_across_horizon, in_axes=(0, 1))(batch_states[i], modified_states)\n",
    "    return jax.vmap(find_batched_closest_robot, in_axes=(None, 0))(states, jnp.arange(states.shape[0]))\n",
    "closest_robots = find_closest_robot(states) # ideally, should be # (N - 1, 4, 2)\n",
    "closest_robots"
   ]
  },
  {
   "cell_type": "code",
   "execution_count": 36,
   "metadata": {},
   "outputs": [
    {
     "data": {
      "text/plain": [
       "Gaussian(info=Array([nan, nan, nan, nan], dtype=float32), precision=Array([[nan, nan, nan, nan],\n",
       "       [nan, nan, nan, nan],\n",
       "       [nan, nan, nan, nan],\n",
       "       [nan, nan, nan, nan]], dtype=float32), dims=Array([100., 100., 100., 100.], dtype=float32))"
      ]
     },
     "execution_count": 36,
     "metadata": {},
     "output_type": "execute_result"
    }
   ],
   "source": [
    "N_STATES = 4\n",
    "POSE_NOISE = 1e-15\n",
    "DYNAMICS_NOISE = 0.005\n",
    "OBSTACLE_NOISE = 0.005\n",
    "INTER_ROBOT_NOISE = 0.005\n",
    "\n",
    "class Factor:\n",
    "    def __init__(\n",
    "        self, state: jnp.array, state_precision: jnp.ndarray, dims: jnp.array, linear: bool = True\n",
    "    ) -> None:\n",
    "        self._state = state\n",
    "        self._state_precision = state_precision\n",
    "        self._linear = linear\n",
    "        self._dims = dims\n",
    "\n",
    "    def calculate_likelihood(self) -> Gaussian:\n",
    "        return Gaussian(\n",
    "            self._calc_info(self._state, self._state_precision),\n",
    "            self._calc_precision(self._state, self._state_precision),\n",
    "            self._dims\n",
    "        )\n",
    "\n",
    "    @abstractmethod\n",
    "    def _calc_measurement(self, state: jnp.ndarray) -> jnp.ndarray:\n",
    "        pass\n",
    "\n",
    "    def _calc_info(self, state: jnp.ndarray, precision: jnp.ndarray) -> jnp.ndarray:\n",
    "        X = state\n",
    "        if self._linear:\n",
    "            eta = precision @ (jnp.zeros(N_STATES) - self._calc_measurement(state))\n",
    "        else:\n",
    "            J = jax.jacfwd(self._calc_measurement)(state)\n",
    "            eta = (J.T @ precision) @ (\n",
    "                (J @ X.reshape((-1,1))) + 0 - self._calc_measurement(state).reshape((-1,1))\n",
    "            )\n",
    "        return eta.squeeze()\n",
    "\n",
    "    def _calc_precision(self, state: jnp.ndarray, precision: jnp.ndarray) -> jnp.ndarray:\n",
    "        if self._linear:\n",
    "            return precision\n",
    "        else:\n",
    "            J = jax.jacfwd(self._calc_measurement)(state)\n",
    "            return J.T @ precision @ J\n",
    "\n",
    "class InterRobotFactor:\n",
    "    def __init__(\n",
    "        self,\n",
    "        state: jnp.ndarray,\n",
    "        agent_radius: float,\n",
    "        critical_distance: float,\n",
    "        t: jnp.ndarray, #ndarray just to hold time,\n",
    "        dims: jnp.ndarray,\n",
    "    ) -> None:\n",
    "        self._critical_distance = critical_distance\n",
    "        self._agent_radius = agent_radius\n",
    "        self._z_precision = 100\n",
    "\n",
    "        dist = self._calc_dist(state[0:4], state[4:])\n",
    "        dx, dy = (state[0] - state[4])/dist, (state[1] - state[5])/dist\n",
    "        self._J = jnp.array([[-dx/self._critical_distance, -dy/self._critical_distance, 0, 0,\n",
    "                              dx/self._critical_distance, dy/self._critical_distance, 0, 0]])\n",
    "\n",
    "        self._state = state\n",
    "        # self._precision = jnp.pow(t * INTER_ROBOT_NOISE, -2) * jnp.eye(N_STATES)\n",
    "        self._state_precision = self._z_precision * jnp.eye(1)\n",
    "        self._dims = dims\n",
    "    \n",
    "    def calculate_likelihood(self) -> Gaussian:\n",
    "        return Gaussian(\n",
    "            self._calc_info(self._state, self._state_precision),\n",
    "            self._calc_precision(self._state_precision),\n",
    "            self._dims\n",
    "        )\n",
    " \n",
    "    def _calc_dist(self, state: jnp.array, other_state: jnp.array):\n",
    "        return jnp.linalg.norm(state[0:2] - other_state[0:2]) \n",
    "    \n",
    "    def _calc_info(self, state: jnp.ndarray, state_precision: jnp.ndarray) -> jnp.ndarray:\n",
    "        # J = jax.jacfwd(self._calc_measurement)(state).reshape((1,-1))\n",
    "        # return precision * J * (J @ state + 0 - self._calc_measurement(state))\n",
    "        return self._J.T @ state_precision @ (self._J @ state[:,jnp.newaxis] - self._calc_measurement(state))\n",
    "        \n",
    "    def _calc_precision(self, state_precision: jnp.ndarray) -> jnp.ndarray:\n",
    "        precision = self._J.T @ state_precision @ self._J \n",
    "        # jax.debug.print(\"before prec diagonal: {}\", jnp.diag(prec))\n",
    "        precision = precision.at[2:4,2:4].set(jnp.eye(2)).at[6:,6:].set(jnp.eye(2))\n",
    "\n",
    "        # prec_diag_values = jnp.diag(precision)\n",
    "        # prec_diag_values = jnp.where(prec_diag_values == 0.0, 1.0, prec_diag_values)\n",
    "        # precision = jnp.fill_diagonal(precision, prec_diag_values, inplace=False)\n",
    "\n",
    "        jax.debug.print(\"prec diag: {}\", jnp.diag(precision))\n",
    "        jax.debug.print(\"inv prec: {}\", jnp.linalg.inv(precision))\n",
    "        jax.debug.print(\"prec det: {}\", jnp.linalg.det(precision))\n",
    "        jax.debug.breakpoint()\n",
    "        return precision\n",
    "\n",
    "    def _calc_measurement(self, state: jnp.ndarray):\n",
    "        current_state = state[0:4]\n",
    "        other_state = state[4:]\n",
    "        dist = self._calc_dist(current_state, other_state)\n",
    "        measurement = jax.lax.select(\n",
    "            dist < self._critical_distance, 1.0 - dist / self._critical_distance, 0.\n",
    "        )\n",
    "        return measurement"
   ]
  },
  {
   "cell_type": "code",
   "execution_count": null,
   "metadata": {},
   "outputs": [],
   "source": [
    "ir_factor =  InterRobotFactor(jnp.array([-0.1, 0., 0.0, 0.0, 0.1, 0.0, 0.0, 0.0]), 0.2, 1.5, jnp.array([1.]), jnp.array([1., 1., 1., 1., 100., 100., 100., 100.]))\n",
    "g = ir_factor.calculate_likelihood()\n",
    "g = g.marginalize(jnp.array([1., 1., 1., 1.]))\n",
    "g"
   ]
  },
  {
   "cell_type": "markdown",
   "metadata": {},
   "source": [
    "# Obstacle"
   ]
  },
  {
   "cell_type": "code",
   "execution_count": 9,
   "metadata": {},
   "outputs": [
    {
     "data": {
      "text/plain": [
       "(Array([[[1. , 1. ],\n",
       "         [1. , 1. ],\n",
       "         [4.2, 4.2],\n",
       "         [4.2, 4.2]],\n",
       " \n",
       "        [[1. , 1. ],\n",
       "         [1. , 1. ],\n",
       "         [4.2, 4.2],\n",
       "         [4.2, 4.2]],\n",
       " \n",
       "        [[1. , 1. ],\n",
       "         [1. , 1. ],\n",
       "         [4.2, 4.2],\n",
       "         [4.2, 4.2]]], dtype=float32),\n",
       " (3, 4, 2))"
      ]
     },
     "execution_count": 9,
     "metadata": {},
     "output_type": "execute_result"
    }
   ],
   "source": [
    "obstacle = jnp.array([\n",
    "    [4.2, 4.2],\n",
    "    [1.0, 1.0]\n",
    "])\n",
    "\n",
    "def find_closest_obstacle(states, obstacles):\n",
    "    def find_closest_obstacle_for_pt(state_t, obstacles):\n",
    "        closest_obstacle_idx = jnp.argmin(jnp.linalg.norm(state_t - obstacles, axis=1))\n",
    "        return obstacles[closest_obstacle_idx]\n",
    "    def batch_find_closest_obstacle(agent_states, obstacles):\n",
    "        return jax.vmap(find_closest_obstacle_for_pt, in_axes=(0, None))(agent_states, obstacles)\n",
    "    return jax.vmap(batch_find_closest_obstacle, in_axes=(0, None))(states, obstacles)\n",
    "closest_obstacle = find_closest_obstacle(states, obstacle)\n",
    "closest_obstacle, closest_obstacle.shape"
   ]
  },
  {
   "cell_type": "markdown",
   "metadata": {},
   "source": [
    "# Random"
   ]
  },
  {
   "cell_type": "code",
   "execution_count": 40,
   "metadata": {},
   "outputs": [
    {
     "data": {
      "text/plain": [
       "Array([[ 3,  6,  9, 12, 15, 18],\n",
       "       [21, 24, 27, 30, 33, 36]], dtype=int32)"
      ]
     },
     "execution_count": 40,
     "metadata": {},
     "output_type": "execute_result"
    }
   ],
   "source": [
    "x = jnp.array([[1,2,3,4,5,6], [7,8,9,10,11,12]])\n",
    "y = x * 2\n",
    "x + y"
   ]
  },
  {
   "cell_type": "code",
   "execution_count": 42,
   "metadata": {},
   "outputs": [
    {
     "data": {
      "text/plain": [
       "Array([[12, 14, 16, 18],\n",
       "       [28, 30, 32, 34],\n",
       "       [44, 46, 48, 50]], dtype=int32)"
      ]
     },
     "execution_count": 42,
     "metadata": {},
     "output_type": "execute_result"
    }
   ],
   "source": [
    "x = jnp.arange(32).reshape((8,4))\n",
    "x[1:-1:2] + x[2:-1:2]"
   ]
  },
  {
   "cell_type": "code",
   "execution_count": 43,
   "metadata": {},
   "outputs": [
    {
     "data": {
      "text/plain": [
       "(Array([[ 4,  5,  6,  7],\n",
       "        [12, 13, 14, 15],\n",
       "        [20, 21, 22, 23]], dtype=int32),\n",
       " Array([[ 8,  9, 10, 11],\n",
       "        [16, 17, 18, 19],\n",
       "        [24, 25, 26, 27]], dtype=int32))"
      ]
     },
     "execution_count": 43,
     "metadata": {},
     "output_type": "execute_result"
    }
   ],
   "source": [
    "x[1:-1:2], x[2:-1:2]"
   ]
  }
 ],
 "metadata": {
  "kernelspec": {
   "display_name": ".venv",
   "language": "python",
   "name": "python3"
  },
  "language_info": {
   "codemirror_mode": {
    "name": "ipython",
    "version": 3
   },
   "file_extension": ".py",
   "mimetype": "text/x-python",
   "name": "python",
   "nbconvert_exporter": "python",
   "pygments_lexer": "ipython3",
   "version": "3.11.9"
  }
 },
 "nbformat": 4,
 "nbformat_minor": 2
}
