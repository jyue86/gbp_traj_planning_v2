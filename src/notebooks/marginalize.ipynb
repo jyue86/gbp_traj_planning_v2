{
 "cells": [
  {
   "cell_type": "code",
   "execution_count": 1,
   "metadata": {},
   "outputs": [],
   "source": [
    "import jax\n",
    "import jax.numpy as jnp\n",
    "from flax.struct import dataclass"
   ]
  },
  {
   "cell_type": "code",
   "execution_count": 6,
   "metadata": {},
   "outputs": [],
   "source": [
    "@dataclass\n",
    "class Gaussian:\n",
    "    info: jnp.ndarray\n",
    "    precision: jnp.ndarray\n",
    "    dims: jnp.ndarray \n",
    "\n",
    "    @property\n",
    "    def shape(self):\n",
    "        return {\n",
    "            \"info\": self.info.shape,\n",
    "            \"precision\": self.precision.shape,\n",
    "            \"dims\": self.dims.shape\n",
    "        }\n",
    " \n",
    "    @property\n",
    "    def mean(self) -> jnp.ndarray:\n",
    "        return jnp.linalg.inv(self.precision) @ self.info\n",
    "    \n",
    "    @property\n",
    "    def covariance(self) -> jnp.ndarray:\n",
    "        return jnp.linalg.inv(self.precision)\n",
    "    \n",
    "    @staticmethod\n",
    "    def identity(variable: int) -> jnp.ndarray:\n",
    "        dims = jnp.array([variable, variable, variable, variable])\n",
    "        return Gaussian(jnp.zeros(4), jnp.eye(4), dims)\n",
    "    \n",
    "    def concatenate(self, other_gaussian: \"Gaussian\") -> \"Gaussian\":\n",
    "        return Gaussian(\n",
    "            jnp.concatenate(self.info, other_gaussian.info),\n",
    "            jnp.concatenate(self.precision, other_gaussian.precision),\n",
    "            jnp.concatenate(self.dims, other_gaussian.dims)\n",
    "        )\n",
    "    \n",
    "    def __getitem__(self, index) -> \"Gaussian\":\n",
    "        return Gaussian(self.info[index], self.precision[index], self.dims[index])\n",
    "\n",
    "    def __mul__(self, other: 'Gaussian') -> 'Gaussian':\n",
    "        if other is None:\n",
    "            return self.copy()\n",
    "\n",
    "        # Merge dims\n",
    "        dims = [i for i in self.dims]\n",
    "        for d in other.dims:\n",
    "            if d not in dims:\n",
    "                dims.append(d)\n",
    "        # dims = self.dims\n",
    "        # if other.dims.shape != dims.shape or jnp.sum(dims == other.dims) != dims.shape[0]:\n",
    "        #     dims = jnp.concat((dims, other.dims))       #         dims.append(d)\n",
    "        \n",
    "        # Extend self matrix\n",
    "        prec_self = jnp.zeros((len(dims), len(dims)))\n",
    "        info_self = jnp.zeros((len(dims), 1))\n",
    "        idxs_self = jnp.array([dims.index(d) for d in self.dims]) # here, need to fix this\n",
    "        # _, indices = jnp.unique(other.dims, return_index=True, size=2)\n",
    "        # idxs_self = []\n",
    "        # for i, d in enumerate(indices):\n",
    "        #     idxs_self.append(jnp.array([0., 1., 2., 3.]) + i)\n",
    "        # idxs_self = jnp.concatenate(idxs_self) \n",
    "        prec_self = prec_self.at[jnp.ix_(idxs_self, idxs_self)].set(self.precision)\n",
    "        info_self = info_self.at[jnp.ix_(idxs_self,jnp.array([0]))].set(self.info.reshape(-1,1))\n",
    "\n",
    "        # Extend other matrix\n",
    "        prec_other = jnp.zeros((len(dims), len(dims)))\n",
    "        info_other = jnp.zeros((len(dims), 1))\n",
    "        idxs_other = jnp.array([dims.index(d) for d in other.dims]) # here, need to fix this\n",
    "        # _, indices = jnp.unique(other.dims, return_index=True, size=2)\n",
    "        # idxs_other = []\n",
    "        # for i, d in enumerate(indices):\n",
    "        #     idxs_other.append(jnp.array([0., 1., 2., 3.]) + i)\n",
    "        # idxs_other = jnp.concatenate(idxs_other) \n",
    "        prec_other = prec_other.at[jnp.ix_(idxs_other, idxs_other)].set(other.precision)\n",
    "        info_other = info_other.at[jnp.ix_(idxs_other, jnp.array([0]))].set(other.info.reshape(-1,1))\n",
    "        # Add\n",
    "        prec = prec_other + prec_self\n",
    "        info = (info_other + info_self).squeeze(-1)\n",
    "        return Gaussian(info, prec, dims)\n",
    "\n",
    "    def __imul__(self, other: 'Gaussian') -> 'Gaussian':\n",
    "        return self.__mul__(other)\n",
    "    \n",
    "    def marginalize(self, dims: jnp.ndarray) -> \"Gaussian\":\n",
    "        info, prec = self.info, self.precision\n",
    "        info = info.reshape(-1,1)\n",
    "        axis_a = jnp.array([idx for idx, d in enumerate(self.dims) if d not in dims])\n",
    "        axis_b = jnp.array([idx for idx, d in enumerate(self.dims) if d in dims])\n",
    "\n",
    "        # def axis_a_fn(kp, v):\n",
    "        #     if v not in dims:\n",
    "        #         return kp[0].idx\n",
    "        #     else:\n",
    "        #         return -1\n",
    "            \n",
    "        # def axis_b_fn(kp, v):\n",
    "        #     if v in dims:\n",
    "        #         return kp[0].idx\n",
    "        #     else:\n",
    "        #         return -1\n",
    "            \n",
    "        # axis_a = jnp.array(jax.tree_util.tree_map_with_path(axis_a_fn, self.dims))\n",
    "        # axis_b = jnp.array(jax.tree_util.tree_map_with_path(axis_b_fn, self.dims))\n",
    "        # axis_a = axis_a[jnp.where(axis_a != -1)]\n",
    "        # axis_b = axis_b[jnp.where(axis_b != -1)]\n",
    "\n",
    "        info_a = info[jnp.ix_(axis_a, jnp.array([0]))]\n",
    "        prec_aa = prec[jnp.ix_(axis_a, axis_a)]\n",
    "        info_b = info[jnp.ix_(axis_b, jnp.array([0]))]\n",
    "        prec_ab = prec[jnp.ix_(axis_a, axis_b)]\n",
    "        prec_ba = prec[jnp.ix_(axis_b, axis_a)]\n",
    "        prec_bb = prec[jnp.ix_(axis_b, axis_b)]\n",
    "\n",
    "        prec_bb_inv = jnp.linalg.inv(prec_bb)\n",
    "        info_ = info_a - prec_ab @ prec_bb_inv @ info_b\n",
    "        prec_ = prec_aa - prec_ab @ prec_bb_inv @ prec_ba\n",
    "\n",
    "        dims = tuple(i for i in self.dims if i not in dims)\n",
    "        return Gaussian(info_.squeeze(-1), prec_, dims)"
   ]
  },
  {
   "cell_type": "code",
   "execution_count": 7,
   "metadata": {},
   "outputs": [
    {
     "data": {
      "text/plain": [
       "Gaussian(info=Array([2., 0., 0., 0.], dtype=float32), precision=Array([[2., 0., 0., 0.],\n",
       "       [0., 0., 0., 0.],\n",
       "       [0., 0., 0., 0.],\n",
       "       [0., 0., 0., 0.]], dtype=float32), dims=[Array(0., dtype=float32), Array(0., dtype=float32), Array(0., dtype=float32), Array(0., dtype=float32)])"
      ]
     },
     "execution_count": 7,
     "metadata": {},
     "output_type": "execute_result"
    }
   ],
   "source": [
    "same_g0 = Gaussian(jnp.ones(4,) * 1, jnp.eye(4) * 1, jnp.ones(4,) * 0)\n",
    "same_g1 = Gaussian(jnp.ones(4,) * 1, jnp.eye(4) * 1, jnp.ones(4,) * 0)\n",
    "same_g0 * same_g1"
   ]
  },
  {
   "cell_type": "code",
   "execution_count": null,
   "metadata": {},
   "outputs": [
    {
     "data": {
      "text/plain": [
       "Gaussian(info=Array([1., 0., 0., 0., 2.], dtype=float32), precision=Array([[1., 0., 0., 0., 0.],\n",
       "       [0., 0., 0., 0., 0.],\n",
       "       [0., 0., 0., 0., 0.],\n",
       "       [0., 0., 0., 0., 0.],\n",
       "       [0., 0., 0., 0., 2.]], dtype=float32), dims=[Array(0., dtype=float32), Array(0., dtype=float32), Array(0., dtype=float32), Array(0., dtype=float32), Array(1., dtype=float32)])"
      ]
     },
     "execution_count": 4,
     "metadata": {},
     "output_type": "execute_result"
    }
   ],
   "source": [
    "g0 = Gaussian(jnp.ones(4,) * 1, jnp.eye(4) * 1, jnp.ones(4,) * 0)\n",
    "g1 = Gaussian(jnp.ones(4,) * 2, jnp.eye(4) * 2, jnp.ones(4,) * 1)\n",
    "g2 = Gaussian(jnp.ones(4,) * 3, jnp.eye(4) * 3, jnp.ones(4,) * 2)\n",
    "combined_gaussian = g0 * g1\n",
    "combined_gaussian"
   ]
  },
  {
   "cell_type": "code",
   "execution_count": null,
   "metadata": {},
   "outputs": [
    {
     "data": {
      "text/plain": [
       "Gaussian(info=Array([0., 0., 0., 0., 2., 3.], dtype=float32), precision=Array([[0., 0., 0., 0., 0., 0.],\n",
       "       [0., 0., 0., 0., 0., 0.],\n",
       "       [0., 0., 0., 0., 0., 0.],\n",
       "       [0., 0., 0., 0., 0., 0.],\n",
       "       [0., 0., 0., 0., 2., 0.],\n",
       "       [0., 0., 0., 0., 0., 3.]], dtype=float32), dims=[Array(0., dtype=float32), Array(0., dtype=float32), Array(0., dtype=float32), Array(0., dtype=float32), Array(1., dtype=float32), Array(2., dtype=float32)])"
      ]
     },
     "execution_count": 6,
     "metadata": {},
     "output_type": "execute_result"
    }
   ],
   "source": [
    "combined_gaussian = combined_gaussian * g2\n",
    "combined_gaussian"
   ]
  },
  {
   "cell_type": "code",
   "execution_count": null,
   "metadata": {},
   "outputs": [],
   "source": [
    "combined_gaussian = combined_gaussian.marginalize(jnp.array([2.,2.,2.,2.]))"
   ]
  },
  {
   "cell_type": "code",
   "execution_count": null,
   "metadata": {},
   "outputs": [
    {
     "data": {
      "text/plain": [
       "Gaussian(info=Array(0., dtype=float32), precision=Array([0., 0., 0., 0., 0.], dtype=float32), dims=Array(0., dtype=float32))"
      ]
     },
     "execution_count": 9,
     "metadata": {},
     "output_type": "execute_result"
    }
   ],
   "source": [
    "combined_gaussian[0]"
   ]
  }
 ],
 "metadata": {
  "kernelspec": {
   "display_name": ".venv",
   "language": "python",
   "name": "python3"
  },
  "language_info": {
   "codemirror_mode": {
    "name": "ipython",
    "version": 3
   },
   "file_extension": ".py",
   "mimetype": "text/x-python",
   "name": "python",
   "nbconvert_exporter": "python",
   "pygments_lexer": "ipython3",
   "version": "3.10.12"
  }
 },
 "nbformat": 4,
 "nbformat_minor": 2
}
