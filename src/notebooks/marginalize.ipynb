{
 "cells": [
  {
   "cell_type": "code",
   "execution_count": 1,
   "metadata": {},
   "outputs": [],
   "source": [
    "import jax\n",
    "import jax.numpy as jnp\n",
    "from flax.struct import dataclass"
   ]
  },
  {
   "cell_type": "code",
   "execution_count": 2,
   "metadata": {},
   "outputs": [
    {
     "data": {
      "text/plain": [
       "Array([0, 0, 1, 0, 2], dtype=int32)"
      ]
     },
     "execution_count": 2,
     "metadata": {},
     "output_type": "execute_result"
    }
   ],
   "source": [
    "x = jnp.array([0, 0, 1, 0, 2])\n",
    "y = jnp.array([0,0,0])\n",
    "x[jnp.nonzero(x)]\n",
    "jnp.concat((x, y[jnp.nonzero(y)]))"
   ]
  },
  {
   "cell_type": "code",
   "execution_count": 54,
   "metadata": {},
   "outputs": [
    {
     "data": {
      "text/plain": [
       "Array([False, False,  True, False,  True], dtype=bool)"
      ]
     },
     "execution_count": 54,
     "metadata": {},
     "output_type": "execute_result"
    }
   ],
   "source": [
    "jnp.where(x, True, False)"
   ]
  },
  {
   "cell_type": "code",
   "execution_count": 28,
   "metadata": {},
   "outputs": [
    {
     "data": {
      "text/plain": [
       "Array([2, 3, 4, 5], dtype=int32)"
      ]
     },
     "execution_count": 28,
     "metadata": {},
     "output_type": "execute_result"
    }
   ],
   "source": [
    "jnp.nonzero(x, size=1)[0] + jnp.array([0,1,2,3])"
   ]
  },
  {
   "cell_type": "code",
   "execution_count": 53,
   "metadata": {},
   "outputs": [
    {
     "data": {
      "text/plain": [
       "Array([0, 2], dtype=int32)"
      ]
     },
     "execution_count": 53,
     "metadata": {},
     "output_type": "execute_result"
    }
   ],
   "source": [
    "jnp.array([0,1,2,3])[jnp.array([True, False, True, False])]"
   ]
  },
  {
   "cell_type": "code",
   "execution_count": 67,
   "metadata": {},
   "outputs": [],
   "source": [
    "@dataclass\n",
    "class Gaussian:\n",
    "    info: jnp.ndarray\n",
    "    precision: jnp.ndarray\n",
    "    dims: jnp.ndarray \n",
    "\n",
    "    @property\n",
    "    def shape(self):\n",
    "        return {\n",
    "            \"info\": self.info.shape,\n",
    "            \"precision\": self.precision.shape,\n",
    "            \"dims\": self.dims.shape\n",
    "        }\n",
    " \n",
    "    @property\n",
    "    def mean(self) -> jnp.ndarray:\n",
    "        return jnp.linalg.inv(self.precision) @ self.info\n",
    "    \n",
    "    @property\n",
    "    def covariance(self) -> jnp.ndarray:\n",
    "        return jnp.linalg.inv(self.precision)\n",
    "    \n",
    "    @staticmethod\n",
    "    def identity(variable: int) -> jnp.ndarray:\n",
    "        dims = jnp.array([variable, variable, variable, variable])\n",
    "        return Gaussian(jnp.zeros(4), jnp.eye(4), dims)\n",
    "    \n",
    "    def __getitem__(self, index) -> \"Gaussian\":\n",
    "        return Gaussian(self.info[index], self.precision[index], self.dims[index])\n",
    "\n",
    "    def __mul__(self, other: 'Gaussian') -> 'Gaussian':\n",
    "        if other is None:\n",
    "            return self.copy()\n",
    "\n",
    "        # Merge dims\n",
    "        # dims = [i for i in self.dims]\n",
    "        # for d in other.dims:\n",
    "        #     if d not in dims:\n",
    "        #         dims.append(d)\n",
    "\n",
    "        # my version\n",
    "        dims = self.dims.copy()\n",
    "        other_dims = other.dims.copy()\n",
    "        unique_dim_values = jnp.unique(self.dims, size=self.dims.shape[0]//4)\n",
    "        unique_other_dim_values = jnp.unique(other_dims, size=other_dims.shape[0]//4)\n",
    "\n",
    "        def check_missing_index(carry, x):\n",
    "            mask = jnp.where(carry == x, x, 0.)\n",
    "            result = jax.lax.select(mask.sum() == 0, jnp.array([x]), jnp.array([0.]))\n",
    "            return carry, result\n",
    "\n",
    "        def get_indices(carry, x):\n",
    "            mask = jnp.where(carry == x, x, 0.0)\n",
    "            return carry, jnp.array([0.,1.,2.,3.]) + jnp.nonzero(mask, size=1)[0]\n",
    "\n",
    "        _, missing_axes = jax.lax.scan(check_missing_index, dims, other_dims)\n",
    "        missing_axes = missing_axes.flatten()\n",
    "        dims = jnp.concat((dims, missing_axes[jnp.nonzero(missing_axes)])) # nonzero usage will break vmap\n",
    "        jax.debug.print(\"dims: {}\", dims)\n",
    "        # my version end\n",
    "        \n",
    "        # Extend self matrix\n",
    "        prec_self = jnp.zeros((len(dims), len(dims)))\n",
    "        info_self = jnp.zeros((len(dims), 1))\n",
    "        # idxs_self = jnp.array([dims.index(d) for d in self.dims]) # here, need to fix this # [0, 1, 2, 3]\n",
    "        _, idxs_self = jax.lax.scan(get_indices, dims, unique_dim_values)\n",
    "        idxs_self = idxs_self.flatten().astype(int)\n",
    "        jax.debug.print(\"idxs_self: {}\", idxs_self)\n",
    "        prec_self = prec_self.at[jnp.ix_(idxs_self, idxs_self)].set(self.precision)\n",
    "        info_self = info_self.at[jnp.ix_(idxs_self,jnp.array([0]))].set(self.info.reshape(-1,1))\n",
    "\n",
    "        # Extend other matrix\n",
    "        prec_other = jnp.zeros((len(dims), len(dims)))\n",
    "        info_other = jnp.zeros((len(dims), 1))\n",
    "        # idxs_other = jnp.array([dims.index(d) for d in other.dims]) # here, need to fix this\n",
    "        _, idxs_other = jax.lax.scan(get_indices, dims, unique_other_dim_values)\n",
    "        idxs_other = idxs_other.flatten().astype(int)\n",
    "        jax.debug.print(\"idxs_other: {}\", idxs_other)\n",
    "        prec_other = prec_other.at[jnp.ix_(idxs_other, idxs_other)].set(other.precision)\n",
    "        info_other = info_other.at[jnp.ix_(idxs_other, jnp.array([0]))].set(other.info.reshape(-1,1))\n",
    "\n",
    "        # Add\n",
    "        prec = prec_other + prec_self\n",
    "        info = (info_other + info_self).squeeze(-1)\n",
    "        return Gaussian(info, prec, dims)\n",
    "\n",
    "    def __imul__(self, other: 'Gaussian') -> 'Gaussian':\n",
    "        return self.__mul__(other)\n",
    "    \n",
    "    def marginalize(self, dims: jnp.ndarray) -> \"Gaussian\":\n",
    "        info, prec = self.info, self.precision\n",
    "        info = info.reshape(-1,1)\n",
    "        unique_dim_values = jnp.unique(self.dims, size=self.dims.shape[0]//4)\n",
    "        # axis_a = jnp.array([idx for idx, d in enumerate(self.dims) if d not in dims])\n",
    "        # axis_b = jnp.array([idx for idx, d in enumerate(self.dims) if d in dims])\n",
    "        \n",
    "        def find_axis_a(carry, x):\n",
    "            mask = jnp.where(carry == x, False, True)\n",
    "            return carry, mask\n",
    "        _, axis_a = jax.lax.scan(find_axis_a, self.dims, unique_dim_values)\n",
    "        axis_a = self.dims[axis_a.flatten()]\n",
    "\n",
    "        def find_axis_b(carry, x):\n",
    "            mask = jnp.where(carry == x, True, False)\n",
    "            return carry, mask\n",
    "        _, axis_b = jax.lax.scan(find_axis_b, self.dims, unique_dim_values)\n",
    "        axis_b = self.dims[axis_b.flatten()]\n",
    "\n",
    "        # def axis_a_fn(kp, v):\n",
    "        #     if v not in dims:\n",
    "        #         return kp[0].idx\n",
    "        #     else:\n",
    "        #         return -1\n",
    "            \n",
    "        # def axis_b_fn(kp, v):\n",
    "        #     if v in dims:\n",
    "        #         return kp[0].idx\n",
    "        #     else:\n",
    "        #         return -1\n",
    "            \n",
    "        # axis_a = jnp.array(jax.tree_util.tree_map_with_path(axis_a_fn, self.dims))\n",
    "        # axis_b = jnp.array(jax.tree_util.tree_map_with_path(axis_b_fn, self.dims))\n",
    "        # axis_a = axis_a[jnp.where(axis_a != -1)]\n",
    "        # axis_b = axis_b[jnp.where(axis_b != -1)]\n",
    "\n",
    "        info_a = info[jnp.ix_(axis_a, jnp.array([0]))]\n",
    "        prec_aa = prec[jnp.ix_(axis_a, axis_a)]\n",
    "        info_b = info[jnp.ix_(axis_b, jnp.array([0]))]\n",
    "        prec_ab = prec[jnp.ix_(axis_a, axis_b)]\n",
    "        prec_ba = prec[jnp.ix_(axis_b, axis_a)]\n",
    "        prec_bb = prec[jnp.ix_(axis_b, axis_b)]\n",
    "\n",
    "        prec_bb_inv = jnp.linalg.inv(prec_bb)\n",
    "        info_ = info_a - prec_ab @ prec_bb_inv @ info_b\n",
    "        prec_ = prec_aa - prec_ab @ prec_bb_inv @ prec_ba\n",
    "\n",
    "        new_dims = tuple(i for i in self.dims if i not in dims)\n",
    "        # other_dim_unique_values = jnp.unique(dims, size=dims.shape[0]//4)\n",
    "        # def find_new_dims(carry, x):\n",
    "        #     mask = jnp.\n",
    "        # _, new_dims = jax.lax.scan(find_new_dims, self.dims, other_dim_unique_values)\n",
    "        return Gaussian(info_.squeeze(-1), prec_, new_dims)"
   ]
  },
  {
   "cell_type": "code",
   "execution_count": 68,
   "metadata": {},
   "outputs": [
    {
     "name": "stdout",
     "output_type": "stream",
     "text": [
      "dims: [1. 1. 1. 1.]\n",
      "idxs_self: [0 1 2 3]\n",
      "idxs_other: [0 1 2 3]\n"
     ]
    },
    {
     "data": {
      "text/plain": [
       "Gaussian(info=Array([2., 2., 2., 2.], dtype=float32), precision=Array([[2., 0., 0., 0.],\n",
       "       [0., 2., 0., 0.],\n",
       "       [0., 0., 2., 0.],\n",
       "       [0., 0., 0., 2.]], dtype=float32), dims=Array([1., 1., 1., 1.], dtype=float32))"
      ]
     },
     "execution_count": 68,
     "metadata": {},
     "output_type": "execute_result"
    }
   ],
   "source": [
    "same_g0 = Gaussian(jnp.ones(4,) * 1, jnp.eye(4) * 1, jnp.ones(4,) * 1)\n",
    "same_g1 = Gaussian(jnp.ones(4,) * 1, jnp.eye(4) * 1, jnp.ones(4,) * 1)\n",
    "same_g0 * same_g1"
   ]
  },
  {
   "cell_type": "code",
   "execution_count": 69,
   "metadata": {},
   "outputs": [
    {
     "name": "stdout",
     "output_type": "stream",
     "text": [
      "dims: [1. 1. 1. 1. 2. 2. 2. 2.]\n",
      "idxs_self: [0 1 2 3]\n",
      "idxs_other: [4 5 6 7]\n"
     ]
    },
    {
     "data": {
      "text/plain": [
       "Gaussian(info=Array([1., 1., 1., 1., 2., 2., 2., 2.], dtype=float32), precision=Array([[1., 0., 0., 0., 0., 0., 0., 0.],\n",
       "       [0., 1., 0., 0., 0., 0., 0., 0.],\n",
       "       [0., 0., 1., 0., 0., 0., 0., 0.],\n",
       "       [0., 0., 0., 1., 0., 0., 0., 0.],\n",
       "       [0., 0., 0., 0., 2., 0., 0., 0.],\n",
       "       [0., 0., 0., 0., 0., 2., 0., 0.],\n",
       "       [0., 0., 0., 0., 0., 0., 2., 0.],\n",
       "       [0., 0., 0., 0., 0., 0., 0., 2.]], dtype=float32), dims=Array([1., 1., 1., 1., 2., 2., 2., 2.], dtype=float32))"
      ]
     },
     "execution_count": 69,
     "metadata": {},
     "output_type": "execute_result"
    }
   ],
   "source": [
    "# same_g0 = Gaussian(jnp.ones(4,) * 1, jnp.eye(4) * 1, jnp.ones(4,) * 0)\n",
    "# same_g1 = Gaussian(jnp.ones(4,) * 1, jnp.eye(4) * 1, jnp.ones(4,) * 1)\n",
    "g0 = Gaussian(jnp.ones(4,) * 1, jnp.eye(4) * 1, jnp.ones((4,)) * 1)\n",
    "g1 = Gaussian(jnp.ones(4,) * 2, jnp.eye(4) * 2, jnp.ones((4,)) * 2)\n",
    "g0 * g1 "
   ]
  },
  {
   "cell_type": "code",
   "execution_count": 70,
   "metadata": {},
   "outputs": [
    {
     "name": "stdout",
     "output_type": "stream",
     "text": [
      "dims: [1. 1. 1. 1. 2. 2. 2. 2.]\n",
      "idxs_self: [0 1 2 3]\n",
      "idxs_other: [4 5 6 7]\n",
      "dims: [1. 1. 1. 1. 2. 2. 2. 2. 3. 3. 3. 3.]\n",
      "idxs_self: [0 1 2 3 4 5 6 7]\n",
      "idxs_other: [ 8  9 10 11]\n"
     ]
    },
    {
     "data": {
      "text/plain": [
       "Gaussian(info=Array([1., 1., 1., 1., 2., 2., 2., 2., 3., 3., 3., 3.], dtype=float32), precision=Array([[1., 0., 0., 0., 0., 0., 0., 0., 0., 0., 0., 0.],\n",
       "       [0., 1., 0., 0., 0., 0., 0., 0., 0., 0., 0., 0.],\n",
       "       [0., 0., 1., 0., 0., 0., 0., 0., 0., 0., 0., 0.],\n",
       "       [0., 0., 0., 1., 0., 0., 0., 0., 0., 0., 0., 0.],\n",
       "       [0., 0., 0., 0., 2., 0., 0., 0., 0., 0., 0., 0.],\n",
       "       [0., 0., 0., 0., 0., 2., 0., 0., 0., 0., 0., 0.],\n",
       "       [0., 0., 0., 0., 0., 0., 2., 0., 0., 0., 0., 0.],\n",
       "       [0., 0., 0., 0., 0., 0., 0., 2., 0., 0., 0., 0.],\n",
       "       [0., 0., 0., 0., 0., 0., 0., 0., 3., 0., 0., 0.],\n",
       "       [0., 0., 0., 0., 0., 0., 0., 0., 0., 3., 0., 0.],\n",
       "       [0., 0., 0., 0., 0., 0., 0., 0., 0., 0., 3., 0.],\n",
       "       [0., 0., 0., 0., 0., 0., 0., 0., 0., 0., 0., 3.]], dtype=float32), dims=Array([1., 1., 1., 1., 2., 2., 2., 2., 3., 3., 3., 3.], dtype=float32))"
      ]
     },
     "execution_count": 70,
     "metadata": {},
     "output_type": "execute_result"
    }
   ],
   "source": [
    "g0 = Gaussian(jnp.ones(4,) * 1, jnp.eye(4) * 1, jnp.ones(4,) * 1)\n",
    "g1 = Gaussian(jnp.ones(4,) * 2, jnp.eye(4) * 2, jnp.ones(4,) * 2)\n",
    "g2 = Gaussian(jnp.ones(4,) * 3, jnp.eye(4) * 3, jnp.ones(4,) * 3)\n",
    "combined_gaussian = g0 * g1 * g2\n",
    "combined_gaussian"
   ]
  },
  {
   "cell_type": "code",
   "execution_count": null,
   "metadata": {},
   "outputs": [
    {
     "data": {
      "text/plain": [
       "Gaussian(info=Array([0., 0., 0., 0., 2., 3.], dtype=float32), precision=Array([[0., 0., 0., 0., 0., 0.],\n",
       "       [0., 0., 0., 0., 0., 0.],\n",
       "       [0., 0., 0., 0., 0., 0.],\n",
       "       [0., 0., 0., 0., 0., 0.],\n",
       "       [0., 0., 0., 0., 2., 0.],\n",
       "       [0., 0., 0., 0., 0., 3.]], dtype=float32), dims=[Array(0., dtype=float32), Array(0., dtype=float32), Array(0., dtype=float32), Array(0., dtype=float32), Array(1., dtype=float32), Array(2., dtype=float32)])"
      ]
     },
     "execution_count": 6,
     "metadata": {},
     "output_type": "execute_result"
    }
   ],
   "source": [
    "combined_gaussian = combined_gaussian * g2\n",
    "combined_gaussian"
   ]
  },
  {
   "cell_type": "code",
   "execution_count": null,
   "metadata": {},
   "outputs": [],
   "source": [
    "combined_gaussian = combined_gaussian.marginalize(jnp.array([2.,2.,2.,2.]))"
   ]
  }
 ],
 "metadata": {
  "kernelspec": {
   "display_name": ".venv",
   "language": "python",
   "name": "python3"
  },
  "language_info": {
   "codemirror_mode": {
    "name": "ipython",
    "version": 3
   },
   "file_extension": ".py",
   "mimetype": "text/x-python",
   "name": "python",
   "nbconvert_exporter": "python",
   "pygments_lexer": "ipython3",
   "version": "3.10.12"
  }
 },
 "nbformat": 4,
 "nbformat_minor": 2
}
