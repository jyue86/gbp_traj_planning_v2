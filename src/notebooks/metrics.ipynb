{
 "cells": [
  {
   "cell_type": "code",
   "execution_count": 2,
   "metadata": {},
   "outputs": [],
   "source": [
    "import jax.numpy as jnp\n"
   ]
  },
  {
   "cell_type": "code",
   "execution_count": 21,
   "metadata": {},
   "outputs": [],
   "source": [
    "def total_dist_travelled(waypoints: jnp.ndarray) -> float:\n",
    "    return jnp.sum(jnp.linalg.norm(jnp.diff(waypoints, axis=0), axis=1))"
   ]
  },
  {
   "cell_type": "code",
   "execution_count": 7,
   "metadata": {},
   "outputs": [
    {
     "data": {
      "text/plain": [
       "(3, 2)"
      ]
     },
     "execution_count": 7,
     "metadata": {},
     "output_type": "execute_result"
    }
   ],
   "source": [
    "waypoints = jnp.array([[0.0, 0.0],[1.0, 0.0],[1.0, 1.0]])\n",
    "waypoints2 = jnp.array([[0.0, 0.0],[1.0, 0.0],[1.0, 1.0],[3.0, 2.0],[5.0, 5.0]])\n"
   ]
  },
  {
   "cell_type": "code",
   "execution_count": 15,
   "metadata": {},
   "outputs": [
    {
     "data": {
      "text/plain": [
       "Array(2., dtype=float32)"
      ]
     },
     "execution_count": 15,
     "metadata": {},
     "output_type": "execute_result"
    }
   ],
   "source": [
    "diff = jnp.diff(waypoints, axis=0)\n",
    "jnp.sum(jnp.linalg.norm(diff, axis=1))"
   ]
  },
  {
   "cell_type": "code",
   "execution_count": 18,
   "metadata": {},
   "outputs": [
    {
     "data": {
      "text/plain": [
       "Array(10.8416195, dtype=float32)"
      ]
     },
     "execution_count": 18,
     "metadata": {},
     "output_type": "execute_result"
    }
   ],
   "source": [
    "jnp.sum(jnp.linalg.norm(jnp.diff(waypoints2, axis=0), axis=1))"
   ]
  },
  {
   "cell_type": "code",
   "execution_count": 22,
   "metadata": {},
   "outputs": [
    {
     "data": {
      "text/plain": [
       "Array(2., dtype=float32)"
      ]
     },
     "execution_count": 22,
     "metadata": {},
     "output_type": "execute_result"
    }
   ],
   "source": [
    "total_dist_travelled(waypoints)"
   ]
  },
  {
   "cell_type": "code",
   "execution_count": 23,
   "metadata": {},
   "outputs": [
    {
     "data": {
      "text/plain": [
       "Array(7.8416195, dtype=float32)"
      ]
     },
     "execution_count": 23,
     "metadata": {},
     "output_type": "execute_result"
    }
   ],
   "source": [
    "total_dist_travelled(waypoints2)"
   ]
  },
  {
   "cell_type": "code",
   "execution_count": 45,
   "metadata": {},
   "outputs": [],
   "source": [
    "# Implementation Reference: https://github.com/siva82kb/smoothness/blob/master/python/smoothness.py\n",
    "\n",
    "# Duration is in seconds, assumes states are evenly spaced out\n",
    "\n",
    "# If we want to use waypoints instead, you have to perform jnp.diff(waypoints, axis=0)/duration\n",
    "def log_dimensionless_jerk(velocities: jnp.ndarray, duration: float) -> float:\n",
    "    max_velocity = jnp.max(jnp.linalg.norm(velocities, axis=1))\n",
    "    scale = jnp.pow(duration, 3)/jnp.pow(max_velocity, 2)\n",
    "    jerk = jnp.pow(jnp.linalg.norm(jnp.diff(velocities, n=2, axis=0)/jnp.pow(1/duration,2)), 2)\n",
    "    return -jnp.log((scale*jerk)/duration)"
   ]
  },
  {
   "cell_type": "code",
   "execution_count": 28,
   "metadata": {},
   "outputs": [],
   "source": [
    "velocities = jnp.array([[5.0, 0.0],[7.0, -2.0],[6.0, -3.0]])"
   ]
  },
  {
   "cell_type": "code",
   "execution_count": 39,
   "metadata": {},
   "outputs": [
    {
     "data": {
      "text/plain": [
       "Array(6259999., dtype=float32)"
      ]
     },
     "execution_count": 39,
     "metadata": {},
     "output_type": "execute_result"
    }
   ],
   "source": [
    "jnp.pow(jnp.linalg.norm(jnp.diff(velocities, n=2, axis=0)/jnp.pow(0.1,2)),2)"
   ]
  },
  {
   "cell_type": "code",
   "execution_count": 30,
   "metadata": {},
   "outputs": [
    {
     "data": {
      "text/plain": [
       "Array([5.      , 7.28011 , 6.708204], dtype=float32)"
      ]
     },
     "execution_count": 30,
     "metadata": {},
     "output_type": "execute_result"
    }
   ],
   "source": [
    "jnp.linalg.norm(velocities, axis=1)"
   ]
  },
  {
   "cell_type": "code",
   "execution_count": 38,
   "metadata": {},
   "outputs": [
    {
     "data": {
      "text/plain": [
       "Array(7.28011, dtype=float32)"
      ]
     },
     "execution_count": 38,
     "metadata": {},
     "output_type": "execute_result"
    }
   ],
   "source": [
    "max_velocity = jnp.max(jnp.linalg.norm(velocities, axis=1))\n",
    "max_velocity"
   ]
  },
  {
   "cell_type": "code",
   "execution_count": 44,
   "metadata": {},
   "outputs": [
    {
     "data": {
      "text/plain": [
       "Array(-16.284569, dtype=float32)"
      ]
     },
     "execution_count": 44,
     "metadata": {},
     "output_type": "execute_result"
    }
   ],
   "source": [
    "log_dimensionless_jerk(velocities, 10)"
   ]
  }
 ],
 "metadata": {
  "kernelspec": {
   "display_name": "cs274b-env",
   "language": "python",
   "name": "python3"
  },
  "language_info": {
   "codemirror_mode": {
    "name": "ipython",
    "version": 3
   },
   "file_extension": ".py",
   "mimetype": "text/x-python",
   "name": "python",
   "nbconvert_exporter": "python",
   "pygments_lexer": "ipython3",
   "version": "3.11.5"
  }
 },
 "nbformat": 4,
 "nbformat_minor": 2
}
