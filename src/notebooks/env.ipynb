{
 "cells": [
  {
   "cell_type": "code",
   "execution_count": 1,
   "metadata": {},
   "outputs": [],
   "source": [
    "import jax\n",
    "import jax.numpy as jnp"
   ]
  },
  {
   "cell_type": "code",
   "execution_count": 2,
   "metadata": {},
   "outputs": [
    {
     "data": {
      "text/plain": [
       "Array([[1. , 0. , 0.2, 0. ],\n",
       "       [0. , 1. , 0. , 0.2],\n",
       "       [0. , 0. , 1. , 0. ],\n",
       "       [0. , 0. , 0. , 1. ]], dtype=float32)"
      ]
     },
     "execution_count": 2,
     "metadata": {},
     "output_type": "execute_result"
    }
   ],
   "source": [
    "state_transition = jnp.eye(4)\n",
    "delta_t = 0.2\n",
    "state_transition = state_transition.at[:2,2:].set(jnp.eye(2) * delta_t)\n",
    "state_transition"
   ]
  },
  {
   "cell_type": "code",
   "execution_count": 3,
   "metadata": {},
   "outputs": [
    {
     "data": {
      "text/plain": [
       "Array([[1.4, 2.4],\n",
       "       [1.4, 2.4],\n",
       "       [2. , 2. ],\n",
       "       [2. , 2. ]], dtype=float32)"
      ]
     },
     "execution_count": 3,
     "metadata": {},
     "output_type": "execute_result"
    }
   ],
   "source": [
    "current_state1 = jnp.array([1, 1, 2, 2]).astype(float)\n",
    "current_state2 = jnp.array([2, 2, 2, 2]).astype(float)\n",
    "state = jnp.stack((current_state1, current_state2)).T\n",
    "\n",
    "state_transition @ state"
   ]
  },
  {
   "cell_type": "code",
   "execution_count": 4,
   "metadata": {},
   "outputs": [],
   "source": [
    "time_horizon = 10\n",
    "@jax.jit\n",
    "def update_state(carry: jnp.array, x: int):\n",
    "    # global state_transition\n",
    "    # state_transition = jnp.eye(4)\n",
    "    # delta_t = 0.2\n",
    "    # state_transition = state_transition.at[:2,2:].set(jnp.eye(2) * delta_t)\n",
    "    carry = state_transition @ carry\n",
    "    # state_transition = state_transition.at[:,:].add(1)\n",
    "    x = x.at[:,:].set(carry.T)\n",
    "\n",
    "    return carry, x"
   ]
  },
  {
   "cell_type": "code",
   "execution_count": 5,
   "metadata": {},
   "outputs": [
    {
     "name": "stdout",
     "output_type": "stream",
     "text": [
      "[[1.  0.  0.2 0. ]\n",
      " [0.  1.  0.  0.2]\n",
      " [0.  0.  1.  0. ]\n",
      " [0.  0.  0.  1. ]]\n"
     ]
    }
   ],
   "source": [
    "jax.debug.print(\"{}\", state_transition)"
   ]
  },
  {
   "cell_type": "code",
   "execution_count": 6,
   "metadata": {},
   "outputs": [
    {
     "data": {
      "text/plain": [
       "Array([[[1.4      , 1.4      , 2.       , 2.       ],\n",
       "        [1.8      , 1.8      , 2.       , 2.       ],\n",
       "        [2.2      , 2.2      , 2.       , 2.       ],\n",
       "        [2.6000001, 2.6000001, 2.       , 2.       ],\n",
       "        [3.0000002, 3.0000002, 2.       , 2.       ],\n",
       "        [3.4000003, 3.4000003, 2.       , 2.       ],\n",
       "        [3.8000004, 3.8000004, 2.       , 2.       ],\n",
       "        [4.2000003, 4.2000003, 2.       , 2.       ],\n",
       "        [4.6000004, 4.6000004, 2.       , 2.       ],\n",
       "        [5.0000005, 5.0000005, 2.       , 2.       ]],\n",
       "\n",
       "       [[2.4      , 2.4      , 2.       , 2.       ],\n",
       "        [2.8000002, 2.8000002, 2.       , 2.       ],\n",
       "        [3.2000003, 3.2000003, 2.       , 2.       ],\n",
       "        [3.6000004, 3.6000004, 2.       , 2.       ],\n",
       "        [4.0000005, 4.0000005, 2.       , 2.       ],\n",
       "        [4.4000006, 4.4000006, 2.       , 2.       ],\n",
       "        [4.8000007, 4.8000007, 2.       , 2.       ],\n",
       "        [5.200001 , 5.200001 , 2.       , 2.       ],\n",
       "        [5.600001 , 5.600001 , 2.       , 2.       ],\n",
       "        [6.000001 , 6.000001 , 2.       , 2.       ]]], dtype=float32)"
      ]
     },
     "execution_count": 6,
     "metadata": {},
     "output_type": "execute_result"
    }
   ],
   "source": [
    "_, all_states = jax.lax.scan(update_state, state, jnp.zeros((time_horizon, 2, 4)),time_horizon)\n",
    "all_states = jnp.swapaxes(all_states, 0, 1)\n",
    "all_states"
   ]
  },
  {
   "cell_type": "code",
   "execution_count": 7,
   "metadata": {},
   "outputs": [],
   "source": [
    "time_horizon = 1000\n",
    "_, all_states = jax.lax.scan(update_state, state, jnp.zeros((time_horizon, 2, 4)),time_horizon)\n",
    "all_states = jnp.swapaxes(all_states, 0, 1)"
   ]
  },
  {
   "cell_type": "code",
   "execution_count": null,
   "metadata": {},
   "outputs": [],
   "source": []
  }
 ],
 "metadata": {
  "kernelspec": {
   "display_name": ".venv",
   "language": "python",
   "name": "python3"
  },
  "language_info": {
   "codemirror_mode": {
    "name": "ipython",
    "version": 3
   },
   "file_extension": ".py",
   "mimetype": "text/x-python",
   "name": "python",
   "nbconvert_exporter": "python",
   "pygments_lexer": "ipython3",
   "version": "3.10.12"
  }
 },
 "nbformat": 4,
 "nbformat_minor": 2
}
