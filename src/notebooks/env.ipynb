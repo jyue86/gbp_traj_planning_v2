{
 "cells": [
  {
   "cell_type": "code",
   "execution_count": 1,
   "metadata": {},
   "outputs": [],
   "source": [
    "import jax\n",
    "import jax.numpy as jnp"
   ]
  },
  {
   "cell_type": "code",
   "execution_count": 2,
   "metadata": {},
   "outputs": [
    {
     "data": {
      "text/plain": [
       "Array([[1. , 0. , 0.2, 0. ],\n",
       "       [0. , 1. , 0. , 0.2],\n",
       "       [0. , 0. , 1. , 0. ],\n",
       "       [0. , 0. , 0. , 1. ]], dtype=float32)"
      ]
     },
     "execution_count": 2,
     "metadata": {},
     "output_type": "execute_result"
    }
   ],
   "source": [
    "state_transition = jnp.eye(4)\n",
    "delta_t = 0.2\n",
    "state_transition = state_transition.at[:2,2:].set(jnp.eye(2) * delta_t)\n",
    "state_transition"
   ]
  },
  {
   "cell_type": "code",
   "execution_count": 8,
   "metadata": {},
   "outputs": [
    {
     "data": {
      "text/plain": [
       "Array([[ 5.1, -5.1],\n",
       "       [ 0. ,  0. ],\n",
       "       [ 0.5, -0.5],\n",
       "       [ 0. ,  0. ]], dtype=float32)"
      ]
     },
     "execution_count": 8,
     "metadata": {},
     "output_type": "execute_result"
    }
   ],
   "source": [
    "current_state1 = jnp.array([5, 0, 0.5, 0]).astype(float)\n",
    "current_state2 = jnp.array([-5, 0, -0.5, 0]).astype(float)\n",
    "state = jnp.stack((current_state1, current_state2)).T\n",
    "\n",
    "state_transition @ state"
   ]
  },
  {
   "cell_type": "code",
   "execution_count": 9,
   "metadata": {},
   "outputs": [],
   "source": [
    "time_horizon = 6\n",
    "@jax.jit\n",
    "def update_init_state(carry: jnp.array, _: int=None):\n",
    "    carry = state_transition @ carry\n",
    "    return carry, carry.T"
   ]
  },
  {
   "cell_type": "code",
   "execution_count": 10,
   "metadata": {},
   "outputs": [
    {
     "data": {
      "text/plain": [
       "(Array([[[ 5.1      ,  0.       ,  0.5      ,  0.       ],\n",
       "         [ 5.2      ,  0.       ,  0.5      ,  0.       ],\n",
       "         [ 5.2999997,  0.       ,  0.5      ,  0.       ],\n",
       "         [ 5.3999996,  0.       ,  0.5      ,  0.       ],\n",
       "         [ 5.4999995,  0.       ,  0.5      ,  0.       ],\n",
       "         [ 5.5999994,  0.       ,  0.5      ,  0.       ]],\n",
       " \n",
       "        [[-5.1      ,  0.       , -0.5      ,  0.       ],\n",
       "         [-5.2      ,  0.       , -0.5      ,  0.       ],\n",
       "         [-5.2999997,  0.       , -0.5      ,  0.       ],\n",
       "         [-5.3999996,  0.       , -0.5      ,  0.       ],\n",
       "         [-5.4999995,  0.       , -0.5      ,  0.       ],\n",
       "         [-5.5999994,  0.       , -0.5      ,  0.       ]]], dtype=float32),\n",
       " (2, 6, 4))"
      ]
     },
     "execution_count": 10,
     "metadata": {},
     "output_type": "execute_result"
    }
   ],
   "source": [
    "_, all_states = jax.lax.scan(update_init_state, state, length=time_horizon)\n",
    "all_states = jnp.swapaxes(all_states, 0, 1)\n",
    "all_states, all_states.shape"
   ]
  },
  {
   "cell_type": "code",
   "execution_count": 18,
   "metadata": {},
   "outputs": [
    {
     "data": {
      "text/plain": [
       "Array([[[1.8      , 1.8      , 2.       , 2.       ],\n",
       "        [2.2      , 2.2      , 2.       , 2.       ]],\n",
       "\n",
       "       [[2.8000002, 2.8000002, 2.       , 2.       ],\n",
       "        [3.2000003, 3.2000003, 2.       , 2.       ]]], dtype=float32)"
      ]
     },
     "execution_count": 18,
     "metadata": {},
     "output_type": "execute_result"
    }
   ],
   "source": [
    "jax.vmap(lambda x: (state_transition @ x.T).T)(all_states)"
   ]
  },
  {
   "cell_type": "code",
   "execution_count": 10,
   "metadata": {},
   "outputs": [],
   "source": [
    "time_horizon = 1000\n",
    "_, all_states = jax.lax.scan(update_init_state, state, jnp.zeros((time_horizon, 2, 4)),time_horizon)\n",
    "all_states = jnp.swapaxes(all_states, 0, 1)"
   ]
  },
  {
   "cell_type": "code",
   "execution_count": 11,
   "metadata": {},
   "outputs": [
    {
     "data": {
      "text/plain": [
       "(2, 1000, 4)"
      ]
     },
     "execution_count": 11,
     "metadata": {},
     "output_type": "execute_result"
    }
   ],
   "source": []
  },
  {
   "cell_type": "code",
   "execution_count": null,
   "metadata": {},
   "outputs": [],
   "source": []
  }
 ],
 "metadata": {
  "kernelspec": {
   "display_name": ".venv",
   "language": "python",
   "name": "python3"
  },
  "language_info": {
   "codemirror_mode": {
    "name": "ipython",
    "version": 3
   },
   "file_extension": ".py",
   "mimetype": "text/x-python",
   "name": "python",
   "nbconvert_exporter": "python",
   "pygments_lexer": "ipython3",
   "version": "3.10.12"
  }
 },
 "nbformat": 4,
 "nbformat_minor": 2
}
