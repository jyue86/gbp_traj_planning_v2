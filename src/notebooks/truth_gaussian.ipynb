{
 "cells": [
  {
   "cell_type": "code",
   "execution_count": 1,
   "metadata": {},
   "outputs": [],
   "source": [
    "import jax\n",
    "import jax.numpy as jnp\n",
    "from flax.struct import dataclass"
   ]
  },
  {
   "cell_type": "code",
   "execution_count": 2,
   "metadata": {},
   "outputs": [],
   "source": [
    "@dataclass\n",
    "class Gaussian:\n",
    "    info: jnp.ndarray\n",
    "    precision: jnp.ndarray\n",
    "    dims: jnp.ndarray \n",
    "\n",
    "    @property\n",
    "    def shape(self):\n",
    "        return {\n",
    "            \"info\": self.info.shape,\n",
    "            \"precision\": self.precision.shape,\n",
    "            \"dims\": self.dims.shape\n",
    "        }\n",
    " \n",
    "    @property\n",
    "    def mean(self) -> jnp.ndarray:\n",
    "        return jnp.linalg.inv(self.precision) @ self.info\n",
    "    \n",
    "    @property\n",
    "    def covariance(self) -> jnp.ndarray:\n",
    "        return jnp.linalg.inv(self.precision)\n",
    "    \n",
    "    @staticmethod\n",
    "    def identity(variable: int) -> jnp.ndarray:\n",
    "        dims = jnp.array([variable, variable, variable, variable])\n",
    "        return Gaussian(jnp.zeros(4), jnp.eye(4), dims)\n",
    "    \n",
    "    def concatenate(self, other_gaussian: \"Gaussian\") -> \"Gaussian\":\n",
    "        return Gaussian(\n",
    "            jnp.concatenate(self.info, other_gaussian.info),\n",
    "            jnp.concatenate(self.precision, other_gaussian.precision),\n",
    "            jnp.concatenate(self.dims, other_gaussian.dims)\n",
    "        )\n",
    "    \n",
    "    def __getitem__(self, index) -> \"Gaussian\":\n",
    "        return Gaussian(self.info[index], self.precision[index], self.dims[index])\n",
    "\n",
    "    def __mul__(self, other: 'Gaussian') -> 'Gaussian':\n",
    "        if other is None:\n",
    "            return self.copy()\n",
    "\n",
    "        _info, _prec = self.info, self.precision        \n",
    "        # Merge dims\n",
    "        dims = list(self.dims)\n",
    "        for d in other.dims:\n",
    "            if d not in dims:\n",
    "                dims.append(d)\n",
    "        print(\"dims:\", dims)\n",
    "        # Extend self matrix\n",
    "        prec_self = jnp.zeros((len(dims), len(dims)))\n",
    "        info_self = jnp.zeros((len(dims), 1))\n",
    "        idxs_self = jnp.array([dims.index(d) for d in self.dims])\n",
    "        jax.debug.print(\"idxs self: {}\", idxs_self)\n",
    "        prec_self = prec_self.at[jnp.ix_(idxs_self, idxs_self)].set(_prec)\n",
    "        info_self = info_self.at[jnp.ix_(idxs_self, jnp.array([0]))].set(_info.reshape(-1,1))\n",
    "        # Extend other matrix\n",
    "        prec_other = jnp.zeros((len(dims), len(dims)))\n",
    "        info_other = jnp.zeros((len(dims), 1))\n",
    "        idxs_other = jnp.array([dims.index(d) for d in other.dims])\n",
    "        jax.debug.print(\"idxs other: {}\", idxs_other)\n",
    "        prec_other = prec_other.at[jnp.ix_(idxs_other, idxs_other)].set(other.precision)\n",
    "        info_other = info_other.at[jnp.ix_(idxs_other, jnp.array([0]))].set(other.info.reshape(-1,1))\n",
    "        # Add\n",
    "        prec = prec_other + prec_self\n",
    "        info = info_other + info_self\n",
    "        return Gaussian(info.squeeze(), prec, dims)\n",
    "\n",
    "    def __imul__(self, other: 'Gaussian') -> 'Gaussian':\n",
    "        return self.__mul__(other)\n",
    "\n",
    "    def marginalize(self, dims: list):\n",
    "        \"\"\"Given dims will be marginalized out.\n",
    "        \"\"\"\n",
    "        info, prec = self.info, self.precision\n",
    "        info = info.reshape(-1,1)\n",
    "        axis_a = jnp.array([idx for idx, d in enumerate(self.dims) if d not in dims])\n",
    "        axis_b = jnp.array([idx for idx, d in enumerate(self.dims) if d in dims])\n",
    "\n",
    "        jax.debug.print(\"axis a: {}\", axis_a)\n",
    "        jax.debug.print(\"axis b: {}\", axis_b)\n",
    "\n",
    "        info_a = info[jnp.ix_(axis_a, jnp.array([0]))]\n",
    "        prec_aa = prec[jnp.ix_(axis_a, jnp.array(axis_a))]\n",
    "        info_b = info[jnp.ix_(axis_b, jnp.array([0]))]\n",
    "        prec_ab = prec[jnp.ix_(axis_a, axis_b)]\n",
    "        prec_ba = prec[jnp.ix_(axis_b, axis_a)]\n",
    "        prec_bb = prec[jnp.ix_(axis_b, axis_b)]\n",
    "\n",
    "        prec_bb_inv = jnp.linalg.inv(prec_bb)\n",
    "        info_ = info_a - prec_ab @ prec_bb_inv @ info_b\n",
    "        prec_ = prec_aa - prec_ab @ prec_bb_inv @ prec_ba\n",
    "\n",
    "        new_dims = tuple(d for d in self.dims if d not in dims)\n",
    "        return Gaussian(info_.squeeze(), prec_, new_dims)"
   ]
  },
  {
   "cell_type": "code",
   "execution_count": 3,
   "metadata": {},
   "outputs": [
    {
     "name": "stdout",
     "output_type": "stream",
     "text": [
      "dims: ['x1.x', 'x1.y', 'x1.vx', 'x1.vy']\n",
      "idxs self: [0 1 2 3]\n",
      "idxs other: [0 1 2 3]\n"
     ]
    },
    {
     "data": {
      "text/plain": [
       "Gaussian(info=Array([2., 2., 2., 2.], dtype=float32), precision=Array([[2., 0., 0., 0.],\n",
       "       [0., 2., 0., 0.],\n",
       "       [0., 0., 2., 0.],\n",
       "       [0., 0., 0., 2.]], dtype=float32), dims=['x1.x', 'x1.y', 'x1.vx', 'x1.vy'])"
      ]
     },
     "execution_count": 3,
     "metadata": {},
     "output_type": "execute_result"
    }
   ],
   "source": [
    "same_g0 = Gaussian(jnp.ones(4,) * 1, jnp.eye(4) * 1, ['x1.x', 'x1.y', 'x1.vx', 'x1.vy'])\n",
    "same_g1 = Gaussian(jnp.ones(4,) * 1, jnp.eye(4) * 1, ['x1.x', 'x1.y', 'x1.vx', 'x1.vy'])\n",
    "same_g0 * same_g1"
   ]
  },
  {
   "cell_type": "code",
   "execution_count": 4,
   "metadata": {},
   "outputs": [
    {
     "name": "stdout",
     "output_type": "stream",
     "text": [
      "dims: ['x1.x', 'x1.y', 'x1.vx', 'x1.vy', 'x2.x', 'x2.y', 'x2.vx', 'x2.vy']\n",
      "idxs self: [0 1 2 3]\n",
      "idxs other: [4 5 6 7]\n",
      "dims: ['x1.x', 'x1.y', 'x1.vx', 'x1.vy', 'x2.x', 'x2.y', 'x2.vx', 'x2.vy', 'x3.x', 'x3.y', 'x3.vx', 'x3.vy']\n",
      "idxs self: [0 1 2 3 4 5 6 7]\n",
      "idxs other: [ 8  9 10 11]\n"
     ]
    },
    {
     "data": {
      "text/plain": [
       "Gaussian(info=Array([1., 1., 1., 1., 2., 2., 2., 2., 3., 3., 3., 3.], dtype=float32), precision=Array([[1., 0., 0., 0., 0., 0., 0., 0., 0., 0., 0., 0.],\n",
       "       [0., 1., 0., 0., 0., 0., 0., 0., 0., 0., 0., 0.],\n",
       "       [0., 0., 1., 0., 0., 0., 0., 0., 0., 0., 0., 0.],\n",
       "       [0., 0., 0., 1., 0., 0., 0., 0., 0., 0., 0., 0.],\n",
       "       [0., 0., 0., 0., 2., 0., 0., 0., 0., 0., 0., 0.],\n",
       "       [0., 0., 0., 0., 0., 2., 0., 0., 0., 0., 0., 0.],\n",
       "       [0., 0., 0., 0., 0., 0., 2., 0., 0., 0., 0., 0.],\n",
       "       [0., 0., 0., 0., 0., 0., 0., 2., 0., 0., 0., 0.],\n",
       "       [0., 0., 0., 0., 0., 0., 0., 0., 3., 0., 0., 0.],\n",
       "       [0., 0., 0., 0., 0., 0., 0., 0., 0., 3., 0., 0.],\n",
       "       [0., 0., 0., 0., 0., 0., 0., 0., 0., 0., 3., 0.],\n",
       "       [0., 0., 0., 0., 0., 0., 0., 0., 0., 0., 0., 3.]], dtype=float32), dims=['x1.x', 'x1.y', 'x1.vx', 'x1.vy', 'x2.x', 'x2.y', 'x2.vx', 'x2.vy', 'x3.x', 'x3.y', 'x3.vx', 'x3.vy'])"
      ]
     },
     "execution_count": 4,
     "metadata": {},
     "output_type": "execute_result"
    }
   ],
   "source": [
    "g0 = Gaussian(jnp.ones(4,) * 1, jnp.eye(4) * 1, ['x1.x', 'x1.y', 'x1.vx', 'x1.vy'])\n",
    "g1 = Gaussian(jnp.ones(4,) * 2, jnp.eye(4) * 2, ['x2.x', 'x2.y', 'x2.vx', 'x2.vy'])\n",
    "g2 = Gaussian(jnp.ones(4,) * 3, jnp.eye(4) * 3, ['x3.x', 'x3.y', 'x3.vx', 'x3.vy'])\n",
    "combined = g0 * g1 * g2\n",
    "combined"
   ]
  },
  {
   "cell_type": "code",
   "execution_count": 5,
   "metadata": {},
   "outputs": [
    {
     "name": "stdout",
     "output_type": "stream",
     "text": [
      "dims: ['x1.x', 'x1.y', 'x1.vx', 'x1.vy', 'x2.x', 'x2.y', 'x2.vx', 'x2.vy', 'x3.x', 'x3.y', 'x3.vx', 'x3.vy']\n",
      "idxs self: [ 0  1  2  3  4  5  6  7  8  9 10 11]\n",
      "idxs other: [0 1 2 3]\n"
     ]
    },
    {
     "data": {
      "text/plain": [
       "Gaussian(info=Array([2., 2., 2., 2., 2., 2., 2., 2., 3., 3., 3., 3.], dtype=float32), precision=Array([[2., 0., 0., 0., 0., 0., 0., 0., 0., 0., 0., 0.],\n",
       "       [0., 2., 0., 0., 0., 0., 0., 0., 0., 0., 0., 0.],\n",
       "       [0., 0., 2., 0., 0., 0., 0., 0., 0., 0., 0., 0.],\n",
       "       [0., 0., 0., 2., 0., 0., 0., 0., 0., 0., 0., 0.],\n",
       "       [0., 0., 0., 0., 2., 0., 0., 0., 0., 0., 0., 0.],\n",
       "       [0., 0., 0., 0., 0., 2., 0., 0., 0., 0., 0., 0.],\n",
       "       [0., 0., 0., 0., 0., 0., 2., 0., 0., 0., 0., 0.],\n",
       "       [0., 0., 0., 0., 0., 0., 0., 2., 0., 0., 0., 0.],\n",
       "       [0., 0., 0., 0., 0., 0., 0., 0., 3., 0., 0., 0.],\n",
       "       [0., 0., 0., 0., 0., 0., 0., 0., 0., 3., 0., 0.],\n",
       "       [0., 0., 0., 0., 0., 0., 0., 0., 0., 0., 3., 0.],\n",
       "       [0., 0., 0., 0., 0., 0., 0., 0., 0., 0., 0., 3.]], dtype=float32), dims=['x1.x', 'x1.y', 'x1.vx', 'x1.vy', 'x2.x', 'x2.y', 'x2.vx', 'x2.vy', 'x3.x', 'x3.y', 'x3.vx', 'x3.vy'])"
      ]
     },
     "execution_count": 5,
     "metadata": {},
     "output_type": "execute_result"
    }
   ],
   "source": [
    "combined * Gaussian(jnp.ones(4,) * 1, jnp.eye(4) * 1, ['x1.x', 'x1.y', 'x1.vx', 'x1.vy'])"
   ]
  },
  {
   "cell_type": "code",
   "execution_count": 6,
   "metadata": {},
   "outputs": [
    {
     "name": "stdout",
     "output_type": "stream",
     "text": [
      "axis a: [ 0  1  2  3  8  9 10 11]\n",
      "axis b: [4 5 6 7]\n"
     ]
    },
    {
     "data": {
      "text/plain": [
       "Gaussian(info=Array([1., 1., 1., 1., 3., 3., 3., 3.], dtype=float32), precision=Array([[1., 0., 0., 0., 0., 0., 0., 0.],\n",
       "       [0., 1., 0., 0., 0., 0., 0., 0.],\n",
       "       [0., 0., 1., 0., 0., 0., 0., 0.],\n",
       "       [0., 0., 0., 1., 0., 0., 0., 0.],\n",
       "       [0., 0., 0., 0., 3., 0., 0., 0.],\n",
       "       [0., 0., 0., 0., 0., 3., 0., 0.],\n",
       "       [0., 0., 0., 0., 0., 0., 3., 0.],\n",
       "       [0., 0., 0., 0., 0., 0., 0., 3.]], dtype=float32), dims=('x1.x', 'x1.y', 'x1.vx', 'x1.vy', 'x3.x', 'x3.y', 'x3.vx', 'x3.vy'))"
      ]
     },
     "execution_count": 6,
     "metadata": {},
     "output_type": "execute_result"
    }
   ],
   "source": [
    "combined.marginalize(['x2.x', 'x2.y', 'x2.vx', 'x2.vy'])"
   ]
  }
 ],
 "metadata": {
  "kernelspec": {
   "display_name": ".venv",
   "language": "python",
   "name": "python3"
  },
  "language_info": {
   "codemirror_mode": {
    "name": "ipython",
    "version": 3
   },
   "file_extension": ".py",
   "mimetype": "text/x-python",
   "name": "python",
   "nbconvert_exporter": "python",
   "pygments_lexer": "ipython3",
   "version": "3.10.12"
  }
 },
 "nbformat": 4,
 "nbformat_minor": 2
}
